{
 "cells": [
  {
   "cell_type": "code",
   "execution_count": 160,
   "metadata": {},
   "outputs": [],
   "source": [
    "import pandas as pd\n",
    "import numpy as np \n",
    "import matplotlib.pyplot as plt\n",
    "from sklearn.model_selection import train_test_split\n",
    "from sklearn.linear_model import LinearRegression\n",
    "import seaborn as sns\n",
    "import plotly.express as px\n",
    "import warnings\n",
    "warnings.filterwarnings(\"ignore\")\n"
   ]
  },
  {
   "cell_type": "code",
   "execution_count": 161,
   "metadata": {},
   "outputs": [
    {
     "data": {
      "text/html": [
       "<div>\n",
       "<style scoped>\n",
       "    .dataframe tbody tr th:only-of-type {\n",
       "        vertical-align: middle;\n",
       "    }\n",
       "\n",
       "    .dataframe tbody tr th {\n",
       "        vertical-align: top;\n",
       "    }\n",
       "\n",
       "    .dataframe thead th {\n",
       "        text-align: right;\n",
       "    }\n",
       "</style>\n",
       "<table border=\"1\" class=\"dataframe\">\n",
       "  <thead>\n",
       "    <tr style=\"text-align: right;\">\n",
       "      <th></th>\n",
       "      <th>0</th>\n",
       "      <th>1</th>\n",
       "      <th>2</th>\n",
       "      <th>3</th>\n",
       "      <th>4</th>\n",
       "    </tr>\n",
       "  </thead>\n",
       "  <tbody>\n",
       "    <tr>\n",
       "      <th>Company</th>\n",
       "      <td>Apple</td>\n",
       "      <td>Apple</td>\n",
       "      <td>HP</td>\n",
       "      <td>Apple</td>\n",
       "      <td>Apple</td>\n",
       "    </tr>\n",
       "    <tr>\n",
       "      <th>Product</th>\n",
       "      <td>MacBook Pro</td>\n",
       "      <td>Macbook Air</td>\n",
       "      <td>250 G6</td>\n",
       "      <td>MacBook Pro</td>\n",
       "      <td>MacBook Pro</td>\n",
       "    </tr>\n",
       "    <tr>\n",
       "      <th>TypeName</th>\n",
       "      <td>Ultrabook</td>\n",
       "      <td>Ultrabook</td>\n",
       "      <td>Notebook</td>\n",
       "      <td>Ultrabook</td>\n",
       "      <td>Ultrabook</td>\n",
       "    </tr>\n",
       "    <tr>\n",
       "      <th>Inches</th>\n",
       "      <td>13.3</td>\n",
       "      <td>13.3</td>\n",
       "      <td>15.6</td>\n",
       "      <td>15.4</td>\n",
       "      <td>13.3</td>\n",
       "    </tr>\n",
       "    <tr>\n",
       "      <th>Ram</th>\n",
       "      <td>8</td>\n",
       "      <td>8</td>\n",
       "      <td>8</td>\n",
       "      <td>16</td>\n",
       "      <td>8</td>\n",
       "    </tr>\n",
       "    <tr>\n",
       "      <th>OS</th>\n",
       "      <td>macOS</td>\n",
       "      <td>macOS</td>\n",
       "      <td>No OS</td>\n",
       "      <td>macOS</td>\n",
       "      <td>macOS</td>\n",
       "    </tr>\n",
       "    <tr>\n",
       "      <th>Weight</th>\n",
       "      <td>1.37</td>\n",
       "      <td>1.34</td>\n",
       "      <td>1.86</td>\n",
       "      <td>1.83</td>\n",
       "      <td>1.37</td>\n",
       "    </tr>\n",
       "    <tr>\n",
       "      <th>Price_euros</th>\n",
       "      <td>1339.69</td>\n",
       "      <td>898.94</td>\n",
       "      <td>575.0</td>\n",
       "      <td>2537.45</td>\n",
       "      <td>1803.6</td>\n",
       "    </tr>\n",
       "    <tr>\n",
       "      <th>Screen</th>\n",
       "      <td>Standard</td>\n",
       "      <td>Standard</td>\n",
       "      <td>Full HD</td>\n",
       "      <td>Standard</td>\n",
       "      <td>Standard</td>\n",
       "    </tr>\n",
       "    <tr>\n",
       "      <th>ScreenW</th>\n",
       "      <td>2560</td>\n",
       "      <td>1440</td>\n",
       "      <td>1920</td>\n",
       "      <td>2880</td>\n",
       "      <td>2560</td>\n",
       "    </tr>\n",
       "    <tr>\n",
       "      <th>ScreenH</th>\n",
       "      <td>1600</td>\n",
       "      <td>900</td>\n",
       "      <td>1080</td>\n",
       "      <td>1800</td>\n",
       "      <td>1600</td>\n",
       "    </tr>\n",
       "    <tr>\n",
       "      <th>Touchscreen</th>\n",
       "      <td>No</td>\n",
       "      <td>No</td>\n",
       "      <td>No</td>\n",
       "      <td>No</td>\n",
       "      <td>No</td>\n",
       "    </tr>\n",
       "    <tr>\n",
       "      <th>IPSpanel</th>\n",
       "      <td>Yes</td>\n",
       "      <td>No</td>\n",
       "      <td>No</td>\n",
       "      <td>Yes</td>\n",
       "      <td>Yes</td>\n",
       "    </tr>\n",
       "    <tr>\n",
       "      <th>RetinaDisplay</th>\n",
       "      <td>Yes</td>\n",
       "      <td>No</td>\n",
       "      <td>No</td>\n",
       "      <td>Yes</td>\n",
       "      <td>Yes</td>\n",
       "    </tr>\n",
       "    <tr>\n",
       "      <th>CPU_company</th>\n",
       "      <td>Intel</td>\n",
       "      <td>Intel</td>\n",
       "      <td>Intel</td>\n",
       "      <td>Intel</td>\n",
       "      <td>Intel</td>\n",
       "    </tr>\n",
       "    <tr>\n",
       "      <th>CPU_freq</th>\n",
       "      <td>2.3</td>\n",
       "      <td>1.8</td>\n",
       "      <td>2.5</td>\n",
       "      <td>2.7</td>\n",
       "      <td>3.1</td>\n",
       "    </tr>\n",
       "    <tr>\n",
       "      <th>CPU_model</th>\n",
       "      <td>Core i5</td>\n",
       "      <td>Core i5</td>\n",
       "      <td>Core i5 7200U</td>\n",
       "      <td>Core i7</td>\n",
       "      <td>Core i5</td>\n",
       "    </tr>\n",
       "    <tr>\n",
       "      <th>PrimaryStorage</th>\n",
       "      <td>128</td>\n",
       "      <td>128</td>\n",
       "      <td>256</td>\n",
       "      <td>512</td>\n",
       "      <td>256</td>\n",
       "    </tr>\n",
       "    <tr>\n",
       "      <th>SecondaryStorage</th>\n",
       "      <td>0</td>\n",
       "      <td>0</td>\n",
       "      <td>0</td>\n",
       "      <td>0</td>\n",
       "      <td>0</td>\n",
       "    </tr>\n",
       "    <tr>\n",
       "      <th>PrimaryStorageType</th>\n",
       "      <td>SSD</td>\n",
       "      <td>Flash Storage</td>\n",
       "      <td>SSD</td>\n",
       "      <td>SSD</td>\n",
       "      <td>SSD</td>\n",
       "    </tr>\n",
       "    <tr>\n",
       "      <th>SecondaryStorageType</th>\n",
       "      <td>No</td>\n",
       "      <td>No</td>\n",
       "      <td>No</td>\n",
       "      <td>No</td>\n",
       "      <td>No</td>\n",
       "    </tr>\n",
       "    <tr>\n",
       "      <th>GPU_company</th>\n",
       "      <td>Intel</td>\n",
       "      <td>Intel</td>\n",
       "      <td>Intel</td>\n",
       "      <td>AMD</td>\n",
       "      <td>Intel</td>\n",
       "    </tr>\n",
       "    <tr>\n",
       "      <th>GPU_model</th>\n",
       "      <td>Iris Plus Graphics 640</td>\n",
       "      <td>HD Graphics 6000</td>\n",
       "      <td>HD Graphics 620</td>\n",
       "      <td>Radeon Pro 455</td>\n",
       "      <td>Iris Plus Graphics 650</td>\n",
       "    </tr>\n",
       "  </tbody>\n",
       "</table>\n",
       "</div>"
      ],
      "text/plain": [
       "                                           0                 1  \\\n",
       "Company                                Apple             Apple   \n",
       "Product                          MacBook Pro       Macbook Air   \n",
       "TypeName                           Ultrabook         Ultrabook   \n",
       "Inches                                  13.3              13.3   \n",
       "Ram                                        8                 8   \n",
       "OS                                     macOS             macOS   \n",
       "Weight                                  1.37              1.34   \n",
       "Price_euros                          1339.69            898.94   \n",
       "Screen                              Standard          Standard   \n",
       "ScreenW                                 2560              1440   \n",
       "ScreenH                                 1600               900   \n",
       "Touchscreen                               No                No   \n",
       "IPSpanel                                 Yes                No   \n",
       "RetinaDisplay                            Yes                No   \n",
       "CPU_company                            Intel             Intel   \n",
       "CPU_freq                                 2.3               1.8   \n",
       "CPU_model                            Core i5           Core i5   \n",
       "PrimaryStorage                           128               128   \n",
       "SecondaryStorage                           0                 0   \n",
       "PrimaryStorageType                       SSD     Flash Storage   \n",
       "SecondaryStorageType                      No                No   \n",
       "GPU_company                            Intel             Intel   \n",
       "GPU_model             Iris Plus Graphics 640  HD Graphics 6000   \n",
       "\n",
       "                                    2               3                       4  \n",
       "Company                            HP           Apple                   Apple  \n",
       "Product                        250 G6     MacBook Pro             MacBook Pro  \n",
       "TypeName                     Notebook       Ultrabook               Ultrabook  \n",
       "Inches                           15.6            15.4                    13.3  \n",
       "Ram                                 8              16                       8  \n",
       "OS                              No OS           macOS                   macOS  \n",
       "Weight                           1.86            1.83                    1.37  \n",
       "Price_euros                     575.0         2537.45                  1803.6  \n",
       "Screen                        Full HD        Standard                Standard  \n",
       "ScreenW                          1920            2880                    2560  \n",
       "ScreenH                          1080            1800                    1600  \n",
       "Touchscreen                        No              No                      No  \n",
       "IPSpanel                           No             Yes                     Yes  \n",
       "RetinaDisplay                      No             Yes                     Yes  \n",
       "CPU_company                     Intel           Intel                   Intel  \n",
       "CPU_freq                          2.5             2.7                     3.1  \n",
       "CPU_model               Core i5 7200U         Core i7                 Core i5  \n",
       "PrimaryStorage                    256             512                     256  \n",
       "SecondaryStorage                    0               0                       0  \n",
       "PrimaryStorageType                SSD             SSD                     SSD  \n",
       "SecondaryStorageType               No              No                      No  \n",
       "GPU_company                     Intel             AMD                   Intel  \n",
       "GPU_model             HD Graphics 620  Radeon Pro 455  Iris Plus Graphics 650  "
      ]
     },
     "execution_count": 161,
     "metadata": {},
     "output_type": "execute_result"
    }
   ],
   "source": [
    "df =pd.read_csv(\"laptop_prices.csv\")\n",
    "df.head().T\n"
   ]
  },
  {
   "cell_type": "code",
   "execution_count": 162,
   "metadata": {},
   "outputs": [],
   "source": [
    "df['GPU'] = df['GPU_company'] + ' ' + df['GPU_model']\n",
    "\n",
    "\n"
   ]
  },
  {
   "cell_type": "code",
   "execution_count": 163,
   "metadata": {},
   "outputs": [
    {
     "data": {
      "text/html": [
       "<div>\n",
       "<style scoped>\n",
       "    .dataframe tbody tr th:only-of-type {\n",
       "        vertical-align: middle;\n",
       "    }\n",
       "\n",
       "    .dataframe tbody tr th {\n",
       "        vertical-align: top;\n",
       "    }\n",
       "\n",
       "    .dataframe thead th {\n",
       "        text-align: right;\n",
       "    }\n",
       "</style>\n",
       "<table border=\"1\" class=\"dataframe\">\n",
       "  <thead>\n",
       "    <tr style=\"text-align: right;\">\n",
       "      <th></th>\n",
       "      <th>0</th>\n",
       "      <th>1</th>\n",
       "      <th>2</th>\n",
       "      <th>3</th>\n",
       "      <th>4</th>\n",
       "    </tr>\n",
       "  </thead>\n",
       "  <tbody>\n",
       "    <tr>\n",
       "      <th>Company</th>\n",
       "      <td>Apple</td>\n",
       "      <td>Apple</td>\n",
       "      <td>HP</td>\n",
       "      <td>Apple</td>\n",
       "      <td>Apple</td>\n",
       "    </tr>\n",
       "    <tr>\n",
       "      <th>Product</th>\n",
       "      <td>MacBook Pro</td>\n",
       "      <td>Macbook Air</td>\n",
       "      <td>250 G6</td>\n",
       "      <td>MacBook Pro</td>\n",
       "      <td>MacBook Pro</td>\n",
       "    </tr>\n",
       "    <tr>\n",
       "      <th>TypeName</th>\n",
       "      <td>Ultrabook</td>\n",
       "      <td>Ultrabook</td>\n",
       "      <td>Notebook</td>\n",
       "      <td>Ultrabook</td>\n",
       "      <td>Ultrabook</td>\n",
       "    </tr>\n",
       "    <tr>\n",
       "      <th>Inches</th>\n",
       "      <td>13.3</td>\n",
       "      <td>13.3</td>\n",
       "      <td>15.6</td>\n",
       "      <td>15.4</td>\n",
       "      <td>13.3</td>\n",
       "    </tr>\n",
       "    <tr>\n",
       "      <th>Ram</th>\n",
       "      <td>8</td>\n",
       "      <td>8</td>\n",
       "      <td>8</td>\n",
       "      <td>16</td>\n",
       "      <td>8</td>\n",
       "    </tr>\n",
       "    <tr>\n",
       "      <th>OS</th>\n",
       "      <td>macOS</td>\n",
       "      <td>macOS</td>\n",
       "      <td>No OS</td>\n",
       "      <td>macOS</td>\n",
       "      <td>macOS</td>\n",
       "    </tr>\n",
       "    <tr>\n",
       "      <th>Weight</th>\n",
       "      <td>1.37</td>\n",
       "      <td>1.34</td>\n",
       "      <td>1.86</td>\n",
       "      <td>1.83</td>\n",
       "      <td>1.37</td>\n",
       "    </tr>\n",
       "    <tr>\n",
       "      <th>Price_euros</th>\n",
       "      <td>1339.69</td>\n",
       "      <td>898.94</td>\n",
       "      <td>575.0</td>\n",
       "      <td>2537.45</td>\n",
       "      <td>1803.6</td>\n",
       "    </tr>\n",
       "    <tr>\n",
       "      <th>Screen</th>\n",
       "      <td>Standard</td>\n",
       "      <td>Standard</td>\n",
       "      <td>Full HD</td>\n",
       "      <td>Standard</td>\n",
       "      <td>Standard</td>\n",
       "    </tr>\n",
       "    <tr>\n",
       "      <th>ScreenW</th>\n",
       "      <td>2560</td>\n",
       "      <td>1440</td>\n",
       "      <td>1920</td>\n",
       "      <td>2880</td>\n",
       "      <td>2560</td>\n",
       "    </tr>\n",
       "    <tr>\n",
       "      <th>ScreenH</th>\n",
       "      <td>1600</td>\n",
       "      <td>900</td>\n",
       "      <td>1080</td>\n",
       "      <td>1800</td>\n",
       "      <td>1600</td>\n",
       "    </tr>\n",
       "    <tr>\n",
       "      <th>Touchscreen</th>\n",
       "      <td>No</td>\n",
       "      <td>No</td>\n",
       "      <td>No</td>\n",
       "      <td>No</td>\n",
       "      <td>No</td>\n",
       "    </tr>\n",
       "    <tr>\n",
       "      <th>IPSpanel</th>\n",
       "      <td>Yes</td>\n",
       "      <td>No</td>\n",
       "      <td>No</td>\n",
       "      <td>Yes</td>\n",
       "      <td>Yes</td>\n",
       "    </tr>\n",
       "    <tr>\n",
       "      <th>RetinaDisplay</th>\n",
       "      <td>Yes</td>\n",
       "      <td>No</td>\n",
       "      <td>No</td>\n",
       "      <td>Yes</td>\n",
       "      <td>Yes</td>\n",
       "    </tr>\n",
       "    <tr>\n",
       "      <th>CPU_company</th>\n",
       "      <td>Intel</td>\n",
       "      <td>Intel</td>\n",
       "      <td>Intel</td>\n",
       "      <td>Intel</td>\n",
       "      <td>Intel</td>\n",
       "    </tr>\n",
       "    <tr>\n",
       "      <th>CPU_freq</th>\n",
       "      <td>2.3</td>\n",
       "      <td>1.8</td>\n",
       "      <td>2.5</td>\n",
       "      <td>2.7</td>\n",
       "      <td>3.1</td>\n",
       "    </tr>\n",
       "    <tr>\n",
       "      <th>CPU_model</th>\n",
       "      <td>Core i5</td>\n",
       "      <td>Core i5</td>\n",
       "      <td>Core i5 7200U</td>\n",
       "      <td>Core i7</td>\n",
       "      <td>Core i5</td>\n",
       "    </tr>\n",
       "    <tr>\n",
       "      <th>PrimaryStorage</th>\n",
       "      <td>128</td>\n",
       "      <td>128</td>\n",
       "      <td>256</td>\n",
       "      <td>512</td>\n",
       "      <td>256</td>\n",
       "    </tr>\n",
       "    <tr>\n",
       "      <th>SecondaryStorage</th>\n",
       "      <td>0</td>\n",
       "      <td>0</td>\n",
       "      <td>0</td>\n",
       "      <td>0</td>\n",
       "      <td>0</td>\n",
       "    </tr>\n",
       "    <tr>\n",
       "      <th>PrimaryStorageType</th>\n",
       "      <td>SSD</td>\n",
       "      <td>Flash Storage</td>\n",
       "      <td>SSD</td>\n",
       "      <td>SSD</td>\n",
       "      <td>SSD</td>\n",
       "    </tr>\n",
       "    <tr>\n",
       "      <th>SecondaryStorageType</th>\n",
       "      <td>No</td>\n",
       "      <td>No</td>\n",
       "      <td>No</td>\n",
       "      <td>No</td>\n",
       "      <td>No</td>\n",
       "    </tr>\n",
       "    <tr>\n",
       "      <th>GPU_company</th>\n",
       "      <td>Intel</td>\n",
       "      <td>Intel</td>\n",
       "      <td>Intel</td>\n",
       "      <td>AMD</td>\n",
       "      <td>Intel</td>\n",
       "    </tr>\n",
       "    <tr>\n",
       "      <th>GPU_model</th>\n",
       "      <td>Iris Plus Graphics 640</td>\n",
       "      <td>HD Graphics 6000</td>\n",
       "      <td>HD Graphics 620</td>\n",
       "      <td>Radeon Pro 455</td>\n",
       "      <td>Iris Plus Graphics 650</td>\n",
       "    </tr>\n",
       "    <tr>\n",
       "      <th>GPU</th>\n",
       "      <td>Intel Iris Plus Graphics 640</td>\n",
       "      <td>Intel HD Graphics 6000</td>\n",
       "      <td>Intel HD Graphics 620</td>\n",
       "      <td>AMD Radeon Pro 455</td>\n",
       "      <td>Intel Iris Plus Graphics 650</td>\n",
       "    </tr>\n",
       "  </tbody>\n",
       "</table>\n",
       "</div>"
      ],
      "text/plain": [
       "                                                 0                       1  \\\n",
       "Company                                      Apple                   Apple   \n",
       "Product                                MacBook Pro             Macbook Air   \n",
       "TypeName                                 Ultrabook               Ultrabook   \n",
       "Inches                                        13.3                    13.3   \n",
       "Ram                                              8                       8   \n",
       "OS                                           macOS                   macOS   \n",
       "Weight                                        1.37                    1.34   \n",
       "Price_euros                                1339.69                  898.94   \n",
       "Screen                                    Standard                Standard   \n",
       "ScreenW                                       2560                    1440   \n",
       "ScreenH                                       1600                     900   \n",
       "Touchscreen                                     No                      No   \n",
       "IPSpanel                                       Yes                      No   \n",
       "RetinaDisplay                                  Yes                      No   \n",
       "CPU_company                                  Intel                   Intel   \n",
       "CPU_freq                                       2.3                     1.8   \n",
       "CPU_model                                  Core i5                 Core i5   \n",
       "PrimaryStorage                                 128                     128   \n",
       "SecondaryStorage                                 0                       0   \n",
       "PrimaryStorageType                             SSD           Flash Storage   \n",
       "SecondaryStorageType                            No                      No   \n",
       "GPU_company                                  Intel                   Intel   \n",
       "GPU_model                   Iris Plus Graphics 640        HD Graphics 6000   \n",
       "GPU                   Intel Iris Plus Graphics 640  Intel HD Graphics 6000   \n",
       "\n",
       "                                          2                   3  \\\n",
       "Company                                  HP               Apple   \n",
       "Product                              250 G6         MacBook Pro   \n",
       "TypeName                           Notebook           Ultrabook   \n",
       "Inches                                 15.6                15.4   \n",
       "Ram                                       8                  16   \n",
       "OS                                    No OS               macOS   \n",
       "Weight                                 1.86                1.83   \n",
       "Price_euros                           575.0             2537.45   \n",
       "Screen                              Full HD            Standard   \n",
       "ScreenW                                1920                2880   \n",
       "ScreenH                                1080                1800   \n",
       "Touchscreen                              No                  No   \n",
       "IPSpanel                                 No                 Yes   \n",
       "RetinaDisplay                            No                 Yes   \n",
       "CPU_company                           Intel               Intel   \n",
       "CPU_freq                                2.5                 2.7   \n",
       "CPU_model                     Core i5 7200U             Core i7   \n",
       "PrimaryStorage                          256                 512   \n",
       "SecondaryStorage                          0                   0   \n",
       "PrimaryStorageType                      SSD                 SSD   \n",
       "SecondaryStorageType                     No                  No   \n",
       "GPU_company                           Intel                 AMD   \n",
       "GPU_model                   HD Graphics 620      Radeon Pro 455   \n",
       "GPU                   Intel HD Graphics 620  AMD Radeon Pro 455   \n",
       "\n",
       "                                                 4  \n",
       "Company                                      Apple  \n",
       "Product                                MacBook Pro  \n",
       "TypeName                                 Ultrabook  \n",
       "Inches                                        13.3  \n",
       "Ram                                              8  \n",
       "OS                                           macOS  \n",
       "Weight                                        1.37  \n",
       "Price_euros                                 1803.6  \n",
       "Screen                                    Standard  \n",
       "ScreenW                                       2560  \n",
       "ScreenH                                       1600  \n",
       "Touchscreen                                     No  \n",
       "IPSpanel                                       Yes  \n",
       "RetinaDisplay                                  Yes  \n",
       "CPU_company                                  Intel  \n",
       "CPU_freq                                       3.1  \n",
       "CPU_model                                  Core i5  \n",
       "PrimaryStorage                                 256  \n",
       "SecondaryStorage                                 0  \n",
       "PrimaryStorageType                             SSD  \n",
       "SecondaryStorageType                            No  \n",
       "GPU_company                                  Intel  \n",
       "GPU_model                   Iris Plus Graphics 650  \n",
       "GPU                   Intel Iris Plus Graphics 650  "
      ]
     },
     "execution_count": 163,
     "metadata": {},
     "output_type": "execute_result"
    }
   ],
   "source": [
    "df.head().T"
   ]
  },
  {
   "cell_type": "code",
   "execution_count": 164,
   "metadata": {},
   "outputs": [
    {
     "data": {
      "text/html": [
       "<div>\n",
       "<style scoped>\n",
       "    .dataframe tbody tr th:only-of-type {\n",
       "        vertical-align: middle;\n",
       "    }\n",
       "\n",
       "    .dataframe tbody tr th {\n",
       "        vertical-align: top;\n",
       "    }\n",
       "\n",
       "    .dataframe thead th {\n",
       "        text-align: right;\n",
       "    }\n",
       "</style>\n",
       "<table border=\"1\" class=\"dataframe\">\n",
       "  <thead>\n",
       "    <tr style=\"text-align: right;\">\n",
       "      <th></th>\n",
       "      <th>Company</th>\n",
       "      <th>Product</th>\n",
       "      <th>TypeName</th>\n",
       "      <th>Inches</th>\n",
       "      <th>Ram</th>\n",
       "      <th>OS</th>\n",
       "      <th>Weight</th>\n",
       "      <th>Price_euros</th>\n",
       "      <th>Screen</th>\n",
       "      <th>ScreenW</th>\n",
       "      <th>...</th>\n",
       "      <th>IPSpanel</th>\n",
       "      <th>RetinaDisplay</th>\n",
       "      <th>CPU_company</th>\n",
       "      <th>CPU_freq</th>\n",
       "      <th>CPU_model</th>\n",
       "      <th>PrimaryStorage</th>\n",
       "      <th>SecondaryStorage</th>\n",
       "      <th>PrimaryStorageType</th>\n",
       "      <th>SecondaryStorageType</th>\n",
       "      <th>GPU</th>\n",
       "    </tr>\n",
       "  </thead>\n",
       "  <tbody>\n",
       "    <tr>\n",
       "      <th>0</th>\n",
       "      <td>Apple</td>\n",
       "      <td>MacBook Pro</td>\n",
       "      <td>Ultrabook</td>\n",
       "      <td>13.3</td>\n",
       "      <td>8</td>\n",
       "      <td>macOS</td>\n",
       "      <td>1.37</td>\n",
       "      <td>1339.69</td>\n",
       "      <td>Standard</td>\n",
       "      <td>2560</td>\n",
       "      <td>...</td>\n",
       "      <td>Yes</td>\n",
       "      <td>Yes</td>\n",
       "      <td>Intel</td>\n",
       "      <td>2.3</td>\n",
       "      <td>Core i5</td>\n",
       "      <td>128</td>\n",
       "      <td>0</td>\n",
       "      <td>SSD</td>\n",
       "      <td>No</td>\n",
       "      <td>Intel Iris Plus Graphics 640</td>\n",
       "    </tr>\n",
       "    <tr>\n",
       "      <th>1</th>\n",
       "      <td>Apple</td>\n",
       "      <td>Macbook Air</td>\n",
       "      <td>Ultrabook</td>\n",
       "      <td>13.3</td>\n",
       "      <td>8</td>\n",
       "      <td>macOS</td>\n",
       "      <td>1.34</td>\n",
       "      <td>898.94</td>\n",
       "      <td>Standard</td>\n",
       "      <td>1440</td>\n",
       "      <td>...</td>\n",
       "      <td>No</td>\n",
       "      <td>No</td>\n",
       "      <td>Intel</td>\n",
       "      <td>1.8</td>\n",
       "      <td>Core i5</td>\n",
       "      <td>128</td>\n",
       "      <td>0</td>\n",
       "      <td>Flash Storage</td>\n",
       "      <td>No</td>\n",
       "      <td>Intel HD Graphics 6000</td>\n",
       "    </tr>\n",
       "    <tr>\n",
       "      <th>2</th>\n",
       "      <td>HP</td>\n",
       "      <td>250 G6</td>\n",
       "      <td>Notebook</td>\n",
       "      <td>15.6</td>\n",
       "      <td>8</td>\n",
       "      <td>No OS</td>\n",
       "      <td>1.86</td>\n",
       "      <td>575.00</td>\n",
       "      <td>Full HD</td>\n",
       "      <td>1920</td>\n",
       "      <td>...</td>\n",
       "      <td>No</td>\n",
       "      <td>No</td>\n",
       "      <td>Intel</td>\n",
       "      <td>2.5</td>\n",
       "      <td>Core i5 7200U</td>\n",
       "      <td>256</td>\n",
       "      <td>0</td>\n",
       "      <td>SSD</td>\n",
       "      <td>No</td>\n",
       "      <td>Intel HD Graphics 620</td>\n",
       "    </tr>\n",
       "    <tr>\n",
       "      <th>3</th>\n",
       "      <td>Apple</td>\n",
       "      <td>MacBook Pro</td>\n",
       "      <td>Ultrabook</td>\n",
       "      <td>15.4</td>\n",
       "      <td>16</td>\n",
       "      <td>macOS</td>\n",
       "      <td>1.83</td>\n",
       "      <td>2537.45</td>\n",
       "      <td>Standard</td>\n",
       "      <td>2880</td>\n",
       "      <td>...</td>\n",
       "      <td>Yes</td>\n",
       "      <td>Yes</td>\n",
       "      <td>Intel</td>\n",
       "      <td>2.7</td>\n",
       "      <td>Core i7</td>\n",
       "      <td>512</td>\n",
       "      <td>0</td>\n",
       "      <td>SSD</td>\n",
       "      <td>No</td>\n",
       "      <td>AMD Radeon Pro 455</td>\n",
       "    </tr>\n",
       "    <tr>\n",
       "      <th>4</th>\n",
       "      <td>Apple</td>\n",
       "      <td>MacBook Pro</td>\n",
       "      <td>Ultrabook</td>\n",
       "      <td>13.3</td>\n",
       "      <td>8</td>\n",
       "      <td>macOS</td>\n",
       "      <td>1.37</td>\n",
       "      <td>1803.60</td>\n",
       "      <td>Standard</td>\n",
       "      <td>2560</td>\n",
       "      <td>...</td>\n",
       "      <td>Yes</td>\n",
       "      <td>Yes</td>\n",
       "      <td>Intel</td>\n",
       "      <td>3.1</td>\n",
       "      <td>Core i5</td>\n",
       "      <td>256</td>\n",
       "      <td>0</td>\n",
       "      <td>SSD</td>\n",
       "      <td>No</td>\n",
       "      <td>Intel Iris Plus Graphics 650</td>\n",
       "    </tr>\n",
       "  </tbody>\n",
       "</table>\n",
       "<p>5 rows × 22 columns</p>\n",
       "</div>"
      ],
      "text/plain": [
       "  Company      Product   TypeName  Inches  Ram     OS  Weight  Price_euros  \\\n",
       "0   Apple  MacBook Pro  Ultrabook    13.3    8  macOS    1.37      1339.69   \n",
       "1   Apple  Macbook Air  Ultrabook    13.3    8  macOS    1.34       898.94   \n",
       "2      HP       250 G6   Notebook    15.6    8  No OS    1.86       575.00   \n",
       "3   Apple  MacBook Pro  Ultrabook    15.4   16  macOS    1.83      2537.45   \n",
       "4   Apple  MacBook Pro  Ultrabook    13.3    8  macOS    1.37      1803.60   \n",
       "\n",
       "     Screen  ScreenW  ...  IPSpanel RetinaDisplay CPU_company CPU_freq  \\\n",
       "0  Standard     2560  ...       Yes           Yes       Intel      2.3   \n",
       "1  Standard     1440  ...        No            No       Intel      1.8   \n",
       "2   Full HD     1920  ...        No            No       Intel      2.5   \n",
       "3  Standard     2880  ...       Yes           Yes       Intel      2.7   \n",
       "4  Standard     2560  ...       Yes           Yes       Intel      3.1   \n",
       "\n",
       "       CPU_model  PrimaryStorage SecondaryStorage  PrimaryStorageType  \\\n",
       "0        Core i5             128                0                 SSD   \n",
       "1        Core i5             128                0       Flash Storage   \n",
       "2  Core i5 7200U             256                0                 SSD   \n",
       "3        Core i7             512                0                 SSD   \n",
       "4        Core i5             256                0                 SSD   \n",
       "\n",
       "   SecondaryStorageType                           GPU  \n",
       "0                    No  Intel Iris Plus Graphics 640  \n",
       "1                    No        Intel HD Graphics 6000  \n",
       "2                    No         Intel HD Graphics 620  \n",
       "3                    No            AMD Radeon Pro 455  \n",
       "4                    No  Intel Iris Plus Graphics 650  \n",
       "\n",
       "[5 rows x 22 columns]"
      ]
     },
     "execution_count": 164,
     "metadata": {},
     "output_type": "execute_result"
    }
   ],
   "source": [
    "df.drop(['GPU_company', 'GPU_model'], axis=1, inplace=True)\n",
    "df.head()"
   ]
  },
  {
   "cell_type": "code",
   "execution_count": 165,
   "metadata": {},
   "outputs": [
    {
     "data": {
      "text/plain": [
       "array(['SSD', 'Flash Storage', 'HDD', 'Hybrid'], dtype=object)"
      ]
     },
     "execution_count": 165,
     "metadata": {},
     "output_type": "execute_result"
    }
   ],
   "source": [
    "df['PrimaryStorageType'].unique()\n",
    "\n"
   ]
  },
  {
   "cell_type": "code",
   "execution_count": 166,
   "metadata": {},
   "outputs": [
    {
     "data": {
      "text/plain": [
       "(1275, 22)"
      ]
     },
     "execution_count": 166,
     "metadata": {},
     "output_type": "execute_result"
    }
   ],
   "source": [
    "df.shape"
   ]
  },
  {
   "cell_type": "code",
   "execution_count": 167,
   "metadata": {},
   "outputs": [
    {
     "data": {
      "text/html": [
       "<div>\n",
       "<style scoped>\n",
       "    .dataframe tbody tr th:only-of-type {\n",
       "        vertical-align: middle;\n",
       "    }\n",
       "\n",
       "    .dataframe tbody tr th {\n",
       "        vertical-align: top;\n",
       "    }\n",
       "\n",
       "    .dataframe thead th {\n",
       "        text-align: right;\n",
       "    }\n",
       "</style>\n",
       "<table border=\"1\" class=\"dataframe\">\n",
       "  <thead>\n",
       "    <tr style=\"text-align: right;\">\n",
       "      <th></th>\n",
       "      <th>Inches</th>\n",
       "      <th>Ram</th>\n",
       "      <th>Weight</th>\n",
       "      <th>Price_euros</th>\n",
       "      <th>ScreenW</th>\n",
       "      <th>ScreenH</th>\n",
       "      <th>CPU_freq</th>\n",
       "      <th>PrimaryStorage</th>\n",
       "      <th>SecondaryStorage</th>\n",
       "    </tr>\n",
       "  </thead>\n",
       "  <tbody>\n",
       "    <tr>\n",
       "      <th>count</th>\n",
       "      <td>1275.000000</td>\n",
       "      <td>1275.000000</td>\n",
       "      <td>1275.000000</td>\n",
       "      <td>1275.000000</td>\n",
       "      <td>1275.000000</td>\n",
       "      <td>1275.000000</td>\n",
       "      <td>1275.000000</td>\n",
       "      <td>1275.000000</td>\n",
       "      <td>1275.000000</td>\n",
       "    </tr>\n",
       "    <tr>\n",
       "      <th>mean</th>\n",
       "      <td>15.022902</td>\n",
       "      <td>8.440784</td>\n",
       "      <td>2.040525</td>\n",
       "      <td>1134.969059</td>\n",
       "      <td>1900.043922</td>\n",
       "      <td>1073.904314</td>\n",
       "      <td>2.302980</td>\n",
       "      <td>444.517647</td>\n",
       "      <td>176.069020</td>\n",
       "    </tr>\n",
       "    <tr>\n",
       "      <th>std</th>\n",
       "      <td>1.429470</td>\n",
       "      <td>5.097809</td>\n",
       "      <td>0.669196</td>\n",
       "      <td>700.752504</td>\n",
       "      <td>493.346186</td>\n",
       "      <td>283.883940</td>\n",
       "      <td>0.503846</td>\n",
       "      <td>365.537726</td>\n",
       "      <td>415.960655</td>\n",
       "    </tr>\n",
       "    <tr>\n",
       "      <th>min</th>\n",
       "      <td>10.100000</td>\n",
       "      <td>2.000000</td>\n",
       "      <td>0.690000</td>\n",
       "      <td>174.000000</td>\n",
       "      <td>1366.000000</td>\n",
       "      <td>768.000000</td>\n",
       "      <td>0.900000</td>\n",
       "      <td>8.000000</td>\n",
       "      <td>0.000000</td>\n",
       "    </tr>\n",
       "    <tr>\n",
       "      <th>25%</th>\n",
       "      <td>14.000000</td>\n",
       "      <td>4.000000</td>\n",
       "      <td>1.500000</td>\n",
       "      <td>609.000000</td>\n",
       "      <td>1920.000000</td>\n",
       "      <td>1080.000000</td>\n",
       "      <td>2.000000</td>\n",
       "      <td>256.000000</td>\n",
       "      <td>0.000000</td>\n",
       "    </tr>\n",
       "    <tr>\n",
       "      <th>50%</th>\n",
       "      <td>15.600000</td>\n",
       "      <td>8.000000</td>\n",
       "      <td>2.040000</td>\n",
       "      <td>989.000000</td>\n",
       "      <td>1920.000000</td>\n",
       "      <td>1080.000000</td>\n",
       "      <td>2.500000</td>\n",
       "      <td>256.000000</td>\n",
       "      <td>0.000000</td>\n",
       "    </tr>\n",
       "    <tr>\n",
       "      <th>75%</th>\n",
       "      <td>15.600000</td>\n",
       "      <td>8.000000</td>\n",
       "      <td>2.310000</td>\n",
       "      <td>1496.500000</td>\n",
       "      <td>1920.000000</td>\n",
       "      <td>1080.000000</td>\n",
       "      <td>2.700000</td>\n",
       "      <td>512.000000</td>\n",
       "      <td>0.000000</td>\n",
       "    </tr>\n",
       "    <tr>\n",
       "      <th>max</th>\n",
       "      <td>18.400000</td>\n",
       "      <td>64.000000</td>\n",
       "      <td>4.700000</td>\n",
       "      <td>6099.000000</td>\n",
       "      <td>3840.000000</td>\n",
       "      <td>2160.000000</td>\n",
       "      <td>3.600000</td>\n",
       "      <td>2048.000000</td>\n",
       "      <td>2048.000000</td>\n",
       "    </tr>\n",
       "  </tbody>\n",
       "</table>\n",
       "</div>"
      ],
      "text/plain": [
       "            Inches          Ram       Weight  Price_euros      ScreenW  \\\n",
       "count  1275.000000  1275.000000  1275.000000  1275.000000  1275.000000   \n",
       "mean     15.022902     8.440784     2.040525  1134.969059  1900.043922   \n",
       "std       1.429470     5.097809     0.669196   700.752504   493.346186   \n",
       "min      10.100000     2.000000     0.690000   174.000000  1366.000000   \n",
       "25%      14.000000     4.000000     1.500000   609.000000  1920.000000   \n",
       "50%      15.600000     8.000000     2.040000   989.000000  1920.000000   \n",
       "75%      15.600000     8.000000     2.310000  1496.500000  1920.000000   \n",
       "max      18.400000    64.000000     4.700000  6099.000000  3840.000000   \n",
       "\n",
       "           ScreenH     CPU_freq  PrimaryStorage  SecondaryStorage  \n",
       "count  1275.000000  1275.000000     1275.000000       1275.000000  \n",
       "mean   1073.904314     2.302980      444.517647        176.069020  \n",
       "std     283.883940     0.503846      365.537726        415.960655  \n",
       "min     768.000000     0.900000        8.000000          0.000000  \n",
       "25%    1080.000000     2.000000      256.000000          0.000000  \n",
       "50%    1080.000000     2.500000      256.000000          0.000000  \n",
       "75%    1080.000000     2.700000      512.000000          0.000000  \n",
       "max    2160.000000     3.600000     2048.000000       2048.000000  "
      ]
     },
     "execution_count": 167,
     "metadata": {},
     "output_type": "execute_result"
    }
   ],
   "source": [
    "df.describe()\n"
   ]
  },
  {
   "cell_type": "markdown",
   "metadata": {},
   "source": [
    "### Price: The minimum price is 174.000000 and the maximum price is 6099 While the Average price is 1134.969059  \n",
    "###  Screen Width: The minimum resolution width is 1366 and the maximum resolution width is 3840.0\n",
    "### Screen Height: The minimum resolution height is 768.0 and the maximum resolution height is 32160.0\n",
    "### PrimaryStorage\t: The minimum PrimaryStorage\t is 8 and the maximum warranty is 2048"
   ]
  },
  {
   "cell_type": "code",
   "execution_count": 168,
   "metadata": {},
   "outputs": [
    {
     "name": "stdout",
     "output_type": "stream",
     "text": [
      "<class 'pandas.core.frame.DataFrame'>\n",
      "RangeIndex: 1275 entries, 0 to 1274\n",
      "Data columns (total 22 columns):\n",
      " #   Column                Non-Null Count  Dtype  \n",
      "---  ------                --------------  -----  \n",
      " 0   Company               1275 non-null   object \n",
      " 1   Product               1275 non-null   object \n",
      " 2   TypeName              1275 non-null   object \n",
      " 3   Inches                1275 non-null   float64\n",
      " 4   Ram                   1275 non-null   int64  \n",
      " 5   OS                    1275 non-null   object \n",
      " 6   Weight                1275 non-null   float64\n",
      " 7   Price_euros           1275 non-null   float64\n",
      " 8   Screen                1275 non-null   object \n",
      " 9   ScreenW               1275 non-null   int64  \n",
      " 10  ScreenH               1275 non-null   int64  \n",
      " 11  Touchscreen           1275 non-null   object \n",
      " 12  IPSpanel              1275 non-null   object \n",
      " 13  RetinaDisplay         1275 non-null   object \n",
      " 14  CPU_company           1275 non-null   object \n",
      " 15  CPU_freq              1275 non-null   float64\n",
      " 16  CPU_model             1275 non-null   object \n",
      " 17  PrimaryStorage        1275 non-null   int64  \n",
      " 18  SecondaryStorage      1275 non-null   int64  \n",
      " 19  PrimaryStorageType    1275 non-null   object \n",
      " 20  SecondaryStorageType  1275 non-null   object \n",
      " 21  GPU                   1275 non-null   object \n",
      "dtypes: float64(4), int64(5), object(13)\n",
      "memory usage: 219.3+ KB\n"
     ]
    }
   ],
   "source": [
    "df.info()"
   ]
  },
  {
   "cell_type": "code",
   "execution_count": 169,
   "metadata": {},
   "outputs": [
    {
     "data": {
      "text/plain": [
       "Company                 0\n",
       "Product                 0\n",
       "TypeName                0\n",
       "Inches                  0\n",
       "Ram                     0\n",
       "OS                      0\n",
       "Weight                  0\n",
       "Price_euros             0\n",
       "Screen                  0\n",
       "ScreenW                 0\n",
       "ScreenH                 0\n",
       "Touchscreen             0\n",
       "IPSpanel                0\n",
       "RetinaDisplay           0\n",
       "CPU_company             0\n",
       "CPU_freq                0\n",
       "CPU_model               0\n",
       "PrimaryStorage          0\n",
       "SecondaryStorage        0\n",
       "PrimaryStorageType      0\n",
       "SecondaryStorageType    0\n",
       "GPU                     0\n",
       "dtype: int64"
      ]
     },
     "execution_count": 169,
     "metadata": {},
     "output_type": "execute_result"
    }
   ],
   "source": [
    "df.isnull().sum()"
   ]
  },
  {
   "cell_type": "code",
   "execution_count": 170,
   "metadata": {},
   "outputs": [
    {
     "data": {
      "image/png": "[encoded data removed]",
      "text/plain": [
       "<Figure size 640x480 with 1 Axes>"
      ]
     },
     "metadata": {},
     "output_type": "display_data"
    }
   ],
   "source": [
    "sns.histplot(df['Price_euros'])\n",
    "plt.show()"
   ]
  },
  {
   "cell_type": "markdown",
   "metadata": {},
   "source": [
    "# The distribution of the target variable is skewed and it is obvious that commodities with low prices are sold and purchased more than the branded ones.\n"
   ]
  },
  {
   "cell_type": "code",
   "execution_count": 171,
   "metadata": {},
   "outputs": [
    {
     "data": {
      "application/vnd.plotly.v1+json": {
       "config": {
        "plotlyServerURL": "https://plot.ly"
       },
       "data": [
        {
         "alignmentgroup": "True",
         "bingroup": "x",
         "hovertemplate": "Company=%{x}<br>count=%{y}<extra></extra>",
         "legendgroup": "Apple",
         "marker": {
          "color": "rgb(102, 197, 204)",
          "pattern": {
           "shape": ""
          }
         },
         "name": "Apple",
         "offsetgroup": "Apple",
         "orientation": "v",
         "showlegend": true,
         "type": "histogram",
         "x": [
          "Apple",
          "Apple",
          "Apple",
          "Apple",
          "Apple",
          "Apple",
          "Apple",
          "Apple",
          "Apple",
          "Apple",
          "Apple",
          "Apple",
          "Apple",
          "Apple",
          "Apple",
          "Apple",
          "Apple",
          "Apple",
          "Apple",
          "Apple",
          "Apple"
         ],
         "xaxis": "x",
         "yaxis": "y"
        },
        {
         "alignmentgroup": "True",
         "bingroup": "x",
         "hovertemplate": "Company=%{x}<br>count=%{y}<extra></extra>",
         "legendgroup": "HP",
         "marker": {
          "color": "rgb(246, 207, 113)",
          "pattern": {
           "shape": ""
          }
         },
         "name": "HP",
         "offsetgroup": "HP",
         "orientation": "v",
         "showlegend": true,
         "type": "histogram",
         "x": [
          "HP",
          "HP",
          "HP",
          "HP",
          "HP",
          "HP",
          "HP",
          "HP",
          "HP",
          "HP",
          "HP",
          "HP",
          "HP",
          "HP",
          "HP",
          "HP",
          "HP",
          "HP",
          "HP",
          "HP",
          "HP",
          "HP",
          "HP",
          "HP",
          "HP",
          "HP",
          "HP",
          "HP",
          "HP",
          "HP",
          "HP",
          "HP",
          "HP",
          "HP",
          "HP",
          "HP",
          "HP",
          "HP",
          "HP",
          "HP",
          "HP",
          "HP",
          "HP",
          "HP",
          "HP",
          "HP",
          "HP",
          "HP",
          "HP",
          "HP",
          "HP",
          "HP",
          "HP",
          "HP",
          "HP",
          "HP",
          "HP",
          "HP",
          "HP",
          "HP",
          "HP",
          "HP",
          "HP",
          "HP",
          "HP",
          "HP",
          "HP",
          "HP",
          "HP",
          "HP",
          "HP",
          "HP",
          "HP",
          "HP",
          "HP",
          "HP",
          "HP",
          "HP",
          "HP",
          "HP",
          "HP",
          "HP",
          "HP",
          "HP",
          "HP",
          "HP",
          "HP",
          "HP",
          "HP",
          "HP",
          "HP",
          "HP",
          "HP",
          "HP",
          "HP",
          "HP",
          "HP",
          "HP",
          "HP",
          "HP",
          "HP",
          "HP",
          "HP",
          "HP",
          "HP",
          "HP",
          "HP",
          "HP",
          "HP",
          "HP",
          "HP",
          "HP",
          "HP",
          "HP",
          "HP",
          "HP",
          "HP",
          "HP",
          "HP",
          "HP",
          "HP",
          "HP",
          "HP",
          "HP",
          "HP",
          "HP",
          "HP",
          "HP",
          "HP",
          "HP",
          "HP",
          "HP",
          "HP",
          "HP",
          "HP",
          "HP",
          "HP",
          "HP",
          "HP",
          "HP",
          "HP",
          "HP",
          "HP",
          "HP",
          "HP",
          "HP",
          "HP",
          "HP",
          "HP",
          "HP",
          "HP",
          "HP",
          "HP",
          "HP",
          "HP",
          "HP",
          "HP",
          "HP",
          "HP",
          "HP",
          "HP",
          "HP",
          "HP",
          "HP",
          "HP",
          "HP",
          "HP",
          "HP",
          "HP",
          "HP",
          "HP",
          "HP",
          "HP",
          "HP",
          "HP",
          "HP",
          "HP",
          "HP",
          "HP",
          "HP",
          "HP",
          "HP",
          "HP",
          "HP",
          "HP",
          "HP",
          "HP",
          "HP",
          "HP",
          "HP",
          "HP",
          "HP",
          "HP",
          "HP",
          "HP",
          "HP",
          "HP",
          "HP",
          "HP",
          "HP",
          "HP",
          "HP",
          "HP",
          "HP",
          "HP",
          "HP",
          "HP",
          "HP",
          "HP",
          "HP",
          "HP",
          "HP",
          "HP",
          "HP",
          "HP",
          "HP",
          "HP",
          "HP",
          "HP",
          "HP",
          "HP",
          "HP",
          "HP",
          "HP",
          "HP",
          "HP",
          "HP",
          "HP",
          "HP",
          "HP",
          "HP",
          "HP",
          "HP",
          "HP",
          "HP",
          "HP",
          "HP",
          "HP",
          "HP",
          "HP",
          "HP",
          "HP",
          "HP",
          "HP",
          "HP",
          "HP",
          "HP",
          "HP",
          "HP",
          "HP",
          "HP",
          "HP",
          "HP",
          "HP",
          "HP",
          "HP",
          "HP",
          "HP",
          "HP",
          "HP",
          "HP",
          "HP",
          "HP",
          "HP",
          "HP",
          "HP",
          "HP",
          "HP"
         ],
         "xaxis": "x",
         "yaxis": "y"
        },
        {
         "alignmentgroup": "True",
         "bingroup": "x",
         "hovertemplate": "Company=%{x}<br>count=%{y}<extra></extra>",
         "legendgroup": "Acer",
         "marker": {
          "color": "rgb(248, 156, 116)",
          "pattern": {
           "shape": ""
          }
         },
         "name": "Acer",
         "offsetgroup": "Acer",
         "orientation": "v",
         "showlegend": true,
         "type": "histogram",
         "x": [
          "Acer",
          "Acer",
          "Acer",
          "Acer",
          "Acer",
          "Acer",
          "Acer",
          "Acer",
          "Acer",
          "Acer",
          "Acer",
          "Acer",
          "Acer",
          "Acer",
          "Acer",
          "Acer",
          "Acer",
          "Acer",
          "Acer",
          "Acer",
          "Acer",
          "Acer",
          "Acer",
          "Acer",
          "Acer",
          "Acer",
          "Acer",
          "Acer",
          "Acer",
          "Acer",
          "Acer",
          "Acer",
          "Acer",
          "Acer",
          "Acer",
          "Acer",
          "Acer",
          "Acer",
          "Acer",
          "Acer",
          "Acer",
          "Acer",
          "Acer",
          "Acer",
          "Acer",
          "Acer",
          "Acer",
          "Acer",
          "Acer",
          "Acer",
          "Acer",
          "Acer",
          "Acer",
          "Acer",
          "Acer",
          "Acer",
          "Acer",
          "Acer",
          "Acer",
          "Acer",
          "Acer",
          "Acer",
          "Acer",
          "Acer",
          "Acer",
          "Acer",
          "Acer",
          "Acer",
          "Acer",
          "Acer",
          "Acer",
          "Acer",
          "Acer",
          "Acer",
          "Acer",
          "Acer",
          "Acer",
          "Acer",
          "Acer",
          "Acer",
          "Acer",
          "Acer",
          "Acer",
          "Acer",
          "Acer",
          "Acer",
          "Acer",
          "Acer",
          "Acer",
          "Acer",
          "Acer",
          "Acer",
          "Acer",
          "Acer",
          "Acer",
          "Acer",
          "Acer",
          "Acer",
          "Acer",
          "Acer",
          "Acer"
         ],
         "xaxis": "x",
         "yaxis": "y"
        },
        {
         "alignmentgroup": "True",
         "bingroup": "x",
         "hovertemplate": "Company=%{x}<br>count=%{y}<extra></extra>",
         "legendgroup": "Asus",
         "marker": {
          "color": "rgb(220, 176, 242)",
          "pattern": {
           "shape": ""
          }
         },
         "name": "Asus",
         "offsetgroup": "Asus",
         "orientation": "v",
         "showlegend": true,
         "type": "histogram",
         "x": [
          "Asus",
          "Asus",
          "Asus",
          "Asus",
          "Asus",
          "Asus",
          "Asus",
          "Asus",
          "Asus",
          "Asus",
          "Asus",
          "Asus",
          "Asus",
          "Asus",
          "Asus",
          "Asus",
          "Asus",
          "Asus",
          "Asus",
          "Asus",
          "Asus",
          "Asus",
          "Asus",
          "Asus",
          "Asus",
          "Asus",
          "Asus",
          "Asus",
          "Asus",
          "Asus",
          "Asus",
          "Asus",
          "Asus",
          "Asus",
          "Asus",
          "Asus",
          "Asus",
          "Asus",
          "Asus",
          "Asus",
          "Asus",
          "Asus",
          "Asus",
          "Asus",
          "Asus",
          "Asus",
          "Asus",
          "Asus",
          "Asus",
          "Asus",
          "Asus",
          "Asus",
          "Asus",
          "Asus",
          "Asus",
          "Asus",
          "Asus",
          "Asus",
          "Asus",
          "Asus",
          "Asus",
          "Asus",
          "Asus",
          "Asus",
          "Asus",
          "Asus",
          "Asus",
          "Asus",
          "Asus",
          "Asus",
          "Asus",
          "Asus",
          "Asus",
          "Asus",
          "Asus",
          "Asus",
          "Asus",
          "Asus",
          "Asus",
          "Asus",
          "Asus",
          "Asus",
          "Asus",
          "Asus",
          "Asus",
          "Asus",
          "Asus",
          "Asus",
          "Asus",
          "Asus",
          "Asus",
          "Asus",
          "Asus",
          "Asus",
          "Asus",
          "Asus",
          "Asus",
          "Asus",
          "Asus",
          "Asus",
          "Asus",
          "Asus",
          "Asus",
          "Asus",
          "Asus",
          "Asus",
          "Asus",
          "Asus",
          "Asus",
          "Asus",
          "Asus",
          "Asus",
          "Asus",
          "Asus",
          "Asus",
          "Asus",
          "Asus",
          "Asus",
          "Asus",
          "Asus",
          "Asus",
          "Asus",
          "Asus",
          "Asus",
          "Asus",
          "Asus",
          "Asus",
          "Asus",
          "Asus",
          "Asus",
          "Asus",
          "Asus",
          "Asus",
          "Asus",
          "Asus",
          "Asus",
          "Asus",
          "Asus",
          "Asus",
          "Asus",
          "Asus",
          "Asus",
          "Asus",
          "Asus",
          "Asus",
          "Asus",
          "Asus",
          "Asus",
          "Asus",
          "Asus",
          "Asus",
          "Asus"
         ],
         "xaxis": "x",
         "yaxis": "y"
        },
        {
         "alignmentgroup": "True",
         "bingroup": "x",
         "hovertemplate": "Company=%{x}<br>count=%{y}<extra></extra>",
         "legendgroup": "Dell",
         "marker": {
          "color": "rgb(135, 197, 95)",
          "pattern": {
           "shape": ""
          }
         },
         "name": "Dell",
         "offsetgroup": "Dell",
         "orientation": "v",
         "showlegend": true,
         "type": "histogram",
         "x": [
          "Dell",
          "Dell",
          "Dell",
          "Dell",
          "Dell",
          "Dell",
          "Dell",
          "Dell",
          "Dell",
          "Dell",
          "Dell",
          "Dell",
          "Dell",
          "Dell",
          "Dell",
          "Dell",
          "Dell",
          "Dell",
          "Dell",
          "Dell",
          "Dell",
          "Dell",
          "Dell",
          "Dell",
          "Dell",
          "Dell",
          "Dell",
          "Dell",
          "Dell",
          "Dell",
          "Dell",
          "Dell",
          "Dell",
          "Dell",
          "Dell",
          "Dell",
          "Dell",
          "Dell",
          "Dell",
          "Dell",
          "Dell",
          "Dell",
          "Dell",
          "Dell",
          "Dell",
          "Dell",
          "Dell",
          "Dell",
          "Dell",
          "Dell",
          "Dell",
          "Dell",
          "Dell",
          "Dell",
          "Dell",
          "Dell",
          "Dell",
          "Dell",
          "Dell",
          "Dell",
          "Dell",
          "Dell",
          "Dell",
          "Dell",
          "Dell",
          "Dell",
          "Dell",
          "Dell",
          "Dell",
          "Dell",
          "Dell",
          "Dell",
          "Dell",
          "Dell",
          "Dell",
          "Dell",
          "Dell",
          "Dell",
          "Dell",
          "Dell",
          "Dell",
          "Dell",
          "Dell",
          "Dell",
          "Dell",
          "Dell",
          "Dell",
          "Dell",
          "Dell",
          "Dell",
          "Dell",
          "Dell",
          "Dell",
          "Dell",
          "Dell",
          "Dell",
          "Dell",
          "Dell",
          "Dell",
          "Dell",
          "Dell",
          "Dell",
          "Dell",
          "Dell",
          "Dell",
          "Dell",
          "Dell",
          "Dell",
          "Dell",
          "Dell",
          "Dell",
          "Dell",
          "Dell",
          "Dell",
          "Dell",
          "Dell",
          "Dell",
          "Dell",
          "Dell",
          "Dell",
          "Dell",
          "Dell",
          "Dell",
          "Dell",
          "Dell",
          "Dell",
          "Dell",
          "Dell",
          "Dell",
          "Dell",
          "Dell",
          "Dell",
          "Dell",
          "Dell",
          "Dell",
          "Dell",
          "Dell",
          "Dell",
          "Dell",
          "Dell",
          "Dell",
          "Dell",
          "Dell",
          "Dell",
          "Dell",
          "Dell",
          "Dell",
          "Dell",
          "Dell",
          "Dell",
          "Dell",
          "Dell",
          "Dell",
          "Dell",
          "Dell",
          "Dell",
          "Dell",
          "Dell",
          "Dell",
          "Dell",
          "Dell",
          "Dell",
          "Dell",
          "Dell",
          "Dell",
          "Dell",
          "Dell",
          "Dell",
          "Dell",
          "Dell",
          "Dell",
          "Dell",
          "Dell",
          "Dell",
          "Dell",
          "Dell",
          "Dell",
          "Dell",
          "Dell",
          "Dell",
          "Dell",
          "Dell",
          "Dell",
          "Dell",
          "Dell",
          "Dell",
          "Dell",
          "Dell",
          "Dell",
          "Dell",
          "Dell",
          "Dell",
          "Dell",
          "Dell",
          "Dell",
          "Dell",
          "Dell",
          "Dell",
          "Dell",
          "Dell",
          "Dell",
          "Dell",
          "Dell",
          "Dell",
          "Dell",
          "Dell",
          "Dell",
          "Dell",
          "Dell",
          "Dell",
          "Dell",
          "Dell",
          "Dell",
          "Dell",
          "Dell",
          "Dell",
          "Dell",
          "Dell",
          "Dell",
          "Dell",
          "Dell",
          "Dell",
          "Dell",
          "Dell",
          "Dell",
          "Dell",
          "Dell",
          "Dell",
          "Dell",
          "Dell",
          "Dell",
          "Dell",
          "Dell",
          "Dell",
          "Dell",
          "Dell",
          "Dell",
          "Dell",
          "Dell",
          "Dell",
          "Dell",
          "Dell",
          "Dell",
          "Dell",
          "Dell",
          "Dell",
          "Dell",
          "Dell",
          "Dell",
          "Dell",
          "Dell",
          "Dell",
          "Dell",
          "Dell",
          "Dell",
          "Dell",
          "Dell",
          "Dell",
          "Dell",
          "Dell",
          "Dell",
          "Dell",
          "Dell",
          "Dell",
          "Dell",
          "Dell",
          "Dell",
          "Dell",
          "Dell",
          "Dell",
          "Dell",
          "Dell",
          "Dell",
          "Dell",
          "Dell",
          "Dell",
          "Dell",
          "Dell",
          "Dell",
          "Dell",
          "Dell",
          "Dell",
          "Dell",
          "Dell",
          "Dell",
          "Dell",
          "Dell",
          "Dell",
          "Dell",
          "Dell",
          "Dell"
         ],
         "xaxis": "x",
         "yaxis": "y"
        },
        {
         "alignmentgroup": "True",
         "bingroup": "x",
         "hovertemplate": "Company=%{x}<br>count=%{y}<extra></extra>",
         "legendgroup": "Lenovo",
         "marker": {
          "color": "rgb(158, 185, 243)",
          "pattern": {
           "shape": ""
          }
         },
         "name": "Lenovo",
         "offsetgroup": "Lenovo",
         "orientation": "v",
         "showlegend": true,
         "type": "histogram",
         "x": [
          "Lenovo",
          "Lenovo",
          "Lenovo",
          "Lenovo",
          "Lenovo",
          "Lenovo",
          "Lenovo",
          "Lenovo",
          "Lenovo",
          "Lenovo",
          "Lenovo",
          "Lenovo",
          "Lenovo",
          "Lenovo",
          "Lenovo",
          "Lenovo",
          "Lenovo",
          "Lenovo",
          "Lenovo",
          "Lenovo",
          "Lenovo",
          "Lenovo",
          "Lenovo",
          "Lenovo",
          "Lenovo",
          "Lenovo",
          "Lenovo",
          "Lenovo",
          "Lenovo",
          "Lenovo",
          "Lenovo",
          "Lenovo",
          "Lenovo",
          "Lenovo",
          "Lenovo",
          "Lenovo",
          "Lenovo",
          "Lenovo",
          "Lenovo",
          "Lenovo",
          "Lenovo",
          "Lenovo",
          "Lenovo",
          "Lenovo",
          "Lenovo",
          "Lenovo",
          "Lenovo",
          "Lenovo",
          "Lenovo",
          "Lenovo",
          "Lenovo",
          "Lenovo",
          "Lenovo",
          "Lenovo",
          "Lenovo",
          "Lenovo",
          "Lenovo",
          "Lenovo",
          "Lenovo",
          "Lenovo",
          "Lenovo",
          "Lenovo",
          "Lenovo",
          "Lenovo",
          "Lenovo",
          "Lenovo",
          "Lenovo",
          "Lenovo",
          "Lenovo",
          "Lenovo",
          "Lenovo",
          "Lenovo",
          "Lenovo",
          "Lenovo",
          "Lenovo",
          "Lenovo",
          "Lenovo",
          "Lenovo",
          "Lenovo",
          "Lenovo",
          "Lenovo",
          "Lenovo",
          "Lenovo",
          "Lenovo",
          "Lenovo",
          "Lenovo",
          "Lenovo",
          "Lenovo",
          "Lenovo",
          "Lenovo",
          "Lenovo",
          "Lenovo",
          "Lenovo",
          "Lenovo",
          "Lenovo",
          "Lenovo",
          "Lenovo",
          "Lenovo",
          "Lenovo",
          "Lenovo",
          "Lenovo",
          "Lenovo",
          "Lenovo",
          "Lenovo",
          "Lenovo",
          "Lenovo",
          "Lenovo",
          "Lenovo",
          "Lenovo",
          "Lenovo",
          "Lenovo",
          "Lenovo",
          "Lenovo",
          "Lenovo",
          "Lenovo",
          "Lenovo",
          "Lenovo",
          "Lenovo",
          "Lenovo",
          "Lenovo",
          "Lenovo",
          "Lenovo",
          "Lenovo",
          "Lenovo",
          "Lenovo",
          "Lenovo",
          "Lenovo",
          "Lenovo",
          "Lenovo",
          "Lenovo",
          "Lenovo",
          "Lenovo",
          "Lenovo",
          "Lenovo",
          "Lenovo",
          "Lenovo",
          "Lenovo",
          "Lenovo",
          "Lenovo",
          "Lenovo",
          "Lenovo",
          "Lenovo",
          "Lenovo",
          "Lenovo",
          "Lenovo",
          "Lenovo",
          "Lenovo",
          "Lenovo",
          "Lenovo",
          "Lenovo",
          "Lenovo",
          "Lenovo",
          "Lenovo",
          "Lenovo",
          "Lenovo",
          "Lenovo",
          "Lenovo",
          "Lenovo",
          "Lenovo",
          "Lenovo",
          "Lenovo",
          "Lenovo",
          "Lenovo",
          "Lenovo",
          "Lenovo",
          "Lenovo",
          "Lenovo",
          "Lenovo",
          "Lenovo",
          "Lenovo",
          "Lenovo",
          "Lenovo",
          "Lenovo",
          "Lenovo",
          "Lenovo",
          "Lenovo",
          "Lenovo",
          "Lenovo",
          "Lenovo",
          "Lenovo",
          "Lenovo",
          "Lenovo",
          "Lenovo",
          "Lenovo",
          "Lenovo",
          "Lenovo",
          "Lenovo",
          "Lenovo",
          "Lenovo",
          "Lenovo",
          "Lenovo",
          "Lenovo",
          "Lenovo",
          "Lenovo",
          "Lenovo",
          "Lenovo",
          "Lenovo",
          "Lenovo",
          "Lenovo",
          "Lenovo",
          "Lenovo",
          "Lenovo",
          "Lenovo",
          "Lenovo",
          "Lenovo",
          "Lenovo",
          "Lenovo",
          "Lenovo",
          "Lenovo",
          "Lenovo",
          "Lenovo",
          "Lenovo",
          "Lenovo",
          "Lenovo",
          "Lenovo",
          "Lenovo",
          "Lenovo",
          "Lenovo",
          "Lenovo",
          "Lenovo",
          "Lenovo",
          "Lenovo",
          "Lenovo",
          "Lenovo",
          "Lenovo",
          "Lenovo",
          "Lenovo",
          "Lenovo",
          "Lenovo",
          "Lenovo",
          "Lenovo",
          "Lenovo",
          "Lenovo",
          "Lenovo",
          "Lenovo",
          "Lenovo",
          "Lenovo",
          "Lenovo",
          "Lenovo",
          "Lenovo",
          "Lenovo",
          "Lenovo",
          "Lenovo",
          "Lenovo",
          "Lenovo",
          "Lenovo",
          "Lenovo",
          "Lenovo",
          "Lenovo",
          "Lenovo",
          "Lenovo",
          "Lenovo",
          "Lenovo",
          "Lenovo",
          "Lenovo",
          "Lenovo",
          "Lenovo",
          "Lenovo",
          "Lenovo",
          "Lenovo",
          "Lenovo",
          "Lenovo",
          "Lenovo",
          "Lenovo",
          "Lenovo",
          "Lenovo",
          "Lenovo",
          "Lenovo",
          "Lenovo",
          "Lenovo",
          "Lenovo",
          "Lenovo",
          "Lenovo",
          "Lenovo",
          "Lenovo",
          "Lenovo",
          "Lenovo",
          "Lenovo",
          "Lenovo",
          "Lenovo",
          "Lenovo",
          "Lenovo",
          "Lenovo",
          "Lenovo",
          "Lenovo",
          "Lenovo",
          "Lenovo",
          "Lenovo",
          "Lenovo"
         ],
         "xaxis": "x",
         "yaxis": "y"
        },
        {
         "alignmentgroup": "True",
         "bingroup": "x",
         "hovertemplate": "Company=%{x}<br>count=%{y}<extra></extra>",
         "legendgroup": "Chuwi",
         "marker": {
          "color": "rgb(254, 136, 177)",
          "pattern": {
           "shape": ""
          }
         },
         "name": "Chuwi",
         "offsetgroup": "Chuwi",
         "orientation": "v",
         "showlegend": true,
         "type": "histogram",
         "x": [
          "Chuwi",
          "Chuwi",
          "Chuwi"
         ],
         "xaxis": "x",
         "yaxis": "y"
        },
        {
         "alignmentgroup": "True",
         "bingroup": "x",
         "hovertemplate": "Company=%{x}<br>count=%{y}<extra></extra>",
         "legendgroup": "MSI",
         "marker": {
          "color": "rgb(201, 219, 116)",
          "pattern": {
           "shape": ""
          }
         },
         "name": "MSI",
         "offsetgroup": "MSI",
         "orientation": "v",
         "showlegend": true,
         "type": "histogram",
         "x": [
          "MSI",
          "MSI",
          "MSI",
          "MSI",
          "MSI",
          "MSI",
          "MSI",
          "MSI",
          "MSI",
          "MSI",
          "MSI",
          "MSI",
          "MSI",
          "MSI",
          "MSI",
          "MSI",
          "MSI",
          "MSI",
          "MSI",
          "MSI",
          "MSI",
          "MSI",
          "MSI",
          "MSI",
          "MSI",
          "MSI",
          "MSI",
          "MSI",
          "MSI",
          "MSI",
          "MSI",
          "MSI",
          "MSI",
          "MSI",
          "MSI",
          "MSI",
          "MSI",
          "MSI",
          "MSI",
          "MSI",
          "MSI",
          "MSI",
          "MSI",
          "MSI",
          "MSI",
          "MSI",
          "MSI",
          "MSI",
          "MSI",
          "MSI",
          "MSI",
          "MSI",
          "MSI",
          "MSI"
         ],
         "xaxis": "x",
         "yaxis": "y"
        },
        {
         "alignmentgroup": "True",
         "bingroup": "x",
         "hovertemplate": "Company=%{x}<br>count=%{y}<extra></extra>",
         "legendgroup": "Microsoft",
         "marker": {
          "color": "rgb(139, 224, 164)",
          "pattern": {
           "shape": ""
          }
         },
         "name": "Microsoft",
         "offsetgroup": "Microsoft",
         "orientation": "v",
         "showlegend": true,
         "type": "histogram",
         "x": [
          "Microsoft",
          "Microsoft",
          "Microsoft",
          "Microsoft",
          "Microsoft",
          "Microsoft"
         ],
         "xaxis": "x",
         "yaxis": "y"
        },
        {
         "alignmentgroup": "True",
         "bingroup": "x",
         "hovertemplate": "Company=%{x}<br>count=%{y}<extra></extra>",
         "legendgroup": "Toshiba",
         "marker": {
          "color": "rgb(180, 151, 231)",
          "pattern": {
           "shape": ""
          }
         },
         "name": "Toshiba",
         "offsetgroup": "Toshiba",
         "orientation": "v",
         "showlegend": true,
         "type": "histogram",
         "x": [
          "Toshiba",
          "Toshiba",
          "Toshiba",
          "Toshiba",
          "Toshiba",
          "Toshiba",
          "Toshiba",
          "Toshiba",
          "Toshiba",
          "Toshiba",
          "Toshiba",
          "Toshiba",
          "Toshiba",
          "Toshiba",
          "Toshiba",
          "Toshiba",
          "Toshiba",
          "Toshiba",
          "Toshiba",
          "Toshiba",
          "Toshiba",
          "Toshiba",
          "Toshiba",
          "Toshiba",
          "Toshiba",
          "Toshiba",
          "Toshiba",
          "Toshiba",
          "Toshiba",
          "Toshiba",
          "Toshiba",
          "Toshiba",
          "Toshiba",
          "Toshiba",
          "Toshiba",
          "Toshiba",
          "Toshiba",
          "Toshiba",
          "Toshiba",
          "Toshiba",
          "Toshiba",
          "Toshiba",
          "Toshiba",
          "Toshiba",
          "Toshiba",
          "Toshiba",
          "Toshiba",
          "Toshiba"
         ],
         "xaxis": "x",
         "yaxis": "y"
        },
        {
         "alignmentgroup": "True",
         "bingroup": "x",
         "hovertemplate": "Company=%{x}<br>count=%{y}<extra></extra>",
         "legendgroup": "Huawei",
         "marker": {
          "color": "rgb(179, 179, 179)",
          "pattern": {
           "shape": ""
          }
         },
         "name": "Huawei",
         "offsetgroup": "Huawei",
         "orientation": "v",
         "showlegend": true,
         "type": "histogram",
         "x": [
          "Huawei",
          "Huawei"
         ],
         "xaxis": "x",
         "yaxis": "y"
        },
        {
         "alignmentgroup": "True",
         "bingroup": "x",
         "hovertemplate": "Company=%{x}<br>count=%{y}<extra></extra>",
         "legendgroup": "Xiaomi",
         "marker": {
          "color": "rgb(102, 197, 204)",
          "pattern": {
           "shape": ""
          }
         },
         "name": "Xiaomi",
         "offsetgroup": "Xiaomi",
         "orientation": "v",
         "showlegend": true,
         "type": "histogram",
         "x": [
          "Xiaomi",
          "Xiaomi",
          "Xiaomi",
          "Xiaomi"
         ],
         "xaxis": "x",
         "yaxis": "y"
        },
        {
         "alignmentgroup": "True",
         "bingroup": "x",
         "hovertemplate": "Company=%{x}<br>count=%{y}<extra></extra>",
         "legendgroup": "Vero",
         "marker": {
          "color": "rgb(246, 207, 113)",
          "pattern": {
           "shape": ""
          }
         },
         "name": "Vero",
         "offsetgroup": "Vero",
         "orientation": "v",
         "showlegend": true,
         "type": "histogram",
         "x": [
          "Vero",
          "Vero",
          "Vero",
          "Vero"
         ],
         "xaxis": "x",
         "yaxis": "y"
        },
        {
         "alignmentgroup": "True",
         "bingroup": "x",
         "hovertemplate": "Company=%{x}<br>count=%{y}<extra></extra>",
         "legendgroup": "Razer",
         "marker": {
          "color": "rgb(248, 156, 116)",
          "pattern": {
           "shape": ""
          }
         },
         "name": "Razer",
         "offsetgroup": "Razer",
         "orientation": "v",
         "showlegend": true,
         "type": "histogram",
         "x": [
          "Razer",
          "Razer",
          "Razer",
          "Razer",
          "Razer",
          "Razer",
          "Razer"
         ],
         "xaxis": "x",
         "yaxis": "y"
        },
        {
         "alignmentgroup": "True",
         "bingroup": "x",
         "hovertemplate": "Company=%{x}<br>count=%{y}<extra></extra>",
         "legendgroup": "Mediacom",
         "marker": {
          "color": "rgb(220, 176, 242)",
          "pattern": {
           "shape": ""
          }
         },
         "name": "Mediacom",
         "offsetgroup": "Mediacom",
         "orientation": "v",
         "showlegend": true,
         "type": "histogram",
         "x": [
          "Mediacom",
          "Mediacom",
          "Mediacom",
          "Mediacom",
          "Mediacom",
          "Mediacom",
          "Mediacom"
         ],
         "xaxis": "x",
         "yaxis": "y"
        },
        {
         "alignmentgroup": "True",
         "bingroup": "x",
         "hovertemplate": "Company=%{x}<br>count=%{y}<extra></extra>",
         "legendgroup": "Samsung",
         "marker": {
          "color": "rgb(135, 197, 95)",
          "pattern": {
           "shape": ""
          }
         },
         "name": "Samsung",
         "offsetgroup": "Samsung",
         "orientation": "v",
         "showlegend": true,
         "type": "histogram",
         "x": [
          "Samsung",
          "Samsung",
          "Samsung",
          "Samsung",
          "Samsung",
          "Samsung",
          "Samsung",
          "Samsung",
          "Samsung"
         ],
         "xaxis": "x",
         "yaxis": "y"
        },
        {
         "alignmentgroup": "True",
         "bingroup": "x",
         "hovertemplate": "Company=%{x}<br>count=%{y}<extra></extra>",
         "legendgroup": "Google",
         "marker": {
          "color": "rgb(158, 185, 243)",
          "pattern": {
           "shape": ""
          }
         },
         "name": "Google",
         "offsetgroup": "Google",
         "orientation": "v",
         "showlegend": true,
         "type": "histogram",
         "x": [
          "Google",
          "Google",
          "Google"
         ],
         "xaxis": "x",
         "yaxis": "y"
        },
        {
         "alignmentgroup": "True",
         "bingroup": "x",
         "hovertemplate": "Company=%{x}<br>count=%{y}<extra></extra>",
         "legendgroup": "Fujitsu",
         "marker": {
          "color": "rgb(254, 136, 177)",
          "pattern": {
           "shape": ""
          }
         },
         "name": "Fujitsu",
         "offsetgroup": "Fujitsu",
         "orientation": "v",
         "showlegend": true,
         "type": "histogram",
         "x": [
          "Fujitsu",
          "Fujitsu",
          "Fujitsu"
         ],
         "xaxis": "x",
         "yaxis": "y"
        },
        {
         "alignmentgroup": "True",
         "bingroup": "x",
         "hovertemplate": "Company=%{x}<br>count=%{y}<extra></extra>",
         "legendgroup": "LG",
         "marker": {
          "color": "rgb(201, 219, 116)",
          "pattern": {
           "shape": ""
          }
         },
         "name": "LG",
         "offsetgroup": "LG",
         "orientation": "v",
         "showlegend": true,
         "type": "histogram",
         "x": [
          "LG",
          "LG",
          "LG"
         ],
         "xaxis": "x",
         "yaxis": "y"
        }
       ],
       "layout": {
        "barmode": "relative",
        "legend": {
         "title": {
          "text": "Company"
         },
         "tracegroupgap": 0
        },
        "template": {
         "data": {
          "bar": [
           {
            "error_x": {
             "color": "#2a3f5f"
            },
            "error_y": {
             "color": "#2a3f5f"
            },
            "marker": {
             "line": {
              "color": "#E5ECF6",
              "width": 0.5
             },
             "pattern": {
              "fillmode": "overlay",
              "size": 10,
              "solidity": 0.2
             }
            },
            "type": "bar"
           }
          ],
          "barpolar": [
           {
            "marker": {
             "line": {
              "color": "#E5ECF6",
              "width": 0.5
             },
             "pattern": {
              "fillmode": "overlay",
              "size": 10,
              "solidity": 0.2
             }
            },
            "type": "barpolar"
           }
          ],
          "carpet": [
           {
            "aaxis": {
             "endlinecolor": "#2a3f5f",
             "gridcolor": "white",
             "linecolor": "white",
             "minorgridcolor": "white",
             "startlinecolor": "#2a3f5f"
            },
            "baxis": {
             "endlinecolor": "#2a3f5f",
             "gridcolor": "white",
             "linecolor": "white",
             "minorgridcolor": "white",
             "startlinecolor": "#2a3f5f"
            },
            "type": "carpet"
           }
          ],
          "choropleth": [
           {
            "colorbar": {
             "outlinewidth": 0,
             "ticks": ""
            },
            "type": "choropleth"
           }
          ],
          "contour": [
           {
            "colorbar": {
             "outlinewidth": 0,
             "ticks": ""
            },
            "colorscale": [
             [
              0,
              "#0d0887"
             ],
             [
              0.1111111111111111,
              "#46039f"
             ],
             [
              0.2222222222222222,
              "#7201a8"
             ],
             [
              0.3333333333333333,
              "#9c179e"
             ],
             [
              0.4444444444444444,
              "#bd3786"
             ],
             [
              0.5555555555555556,
              "#d8576b"
             ],
             [
              0.6666666666666666,
              "#ed7953"
             ],
             [
              0.7777777777777778,
              "#fb9f3a"
             ],
             [
              0.8888888888888888,
              "#fdca26"
             ],
             [
              1,
              "#f0f921"
             ]
            ],
            "type": "contour"
           }
          ],
          "contourcarpet": [
           {
            "colorbar": {
             "outlinewidth": 0,
             "ticks": ""
            },
            "type": "contourcarpet"
           }
          ],
          "heatmap": [
           {
            "colorbar": {
             "outlinewidth": 0,
             "ticks": ""
            },
            "colorscale": [
             [
              0,
              "#0d0887"
             ],
             [
              0.1111111111111111,
              "#46039f"
             ],
             [
              0.2222222222222222,
              "#7201a8"
             ],
             [
              0.3333333333333333,
              "#9c179e"
             ],
             [
              0.4444444444444444,
              "#bd3786"
             ],
             [
              0.5555555555555556,
              "#d8576b"
             ],
             [
              0.6666666666666666,
              "#ed7953"
             ],
             [
              0.7777777777777778,
              "#fb9f3a"
             ],
             [
              0.8888888888888888,
              "#fdca26"
             ],
             [
              1,
              "#f0f921"
             ]
            ],
            "type": "heatmap"
           }
          ],
          "heatmapgl": [
           {
            "colorbar": {
             "outlinewidth": 0,
             "ticks": ""
            },
            "colorscale": [
             [
              0,
              "#0d0887"
             ],
             [
              0.1111111111111111,
              "#46039f"
             ],
             [
              0.2222222222222222,
              "#7201a8"
             ],
             [
              0.3333333333333333,
              "#9c179e"
             ],
             [
              0.4444444444444444,
              "#bd3786"
             ],
             [
              0.5555555555555556,
              "#d8576b"
             ],
             [
              0.6666666666666666,
              "#ed7953"
             ],
             [
              0.7777777777777778,
              "#fb9f3a"
             ],
             [
              0.8888888888888888,
              "#fdca26"
             ],
             [
              1,
              "#f0f921"
             ]
            ],
            "type": "heatmapgl"
           }
          ],
          "histogram": [
           {
            "marker": {
             "pattern": {
              "fillmode": "overlay",
              "size": 10,
              "solidity": 0.2
             }
            },
            "type": "histogram"
           }
          ],
          "histogram2d": [
           {
            "colorbar": {
             "outlinewidth": 0,
             "ticks": ""
            },
            "colorscale": [
             [
              0,
              "#0d0887"
             ],
             [
              0.1111111111111111,
              "#46039f"
             ],
             [
              0.2222222222222222,
              "#7201a8"
             ],
             [
              0.3333333333333333,
              "#9c179e"
             ],
             [
              0.4444444444444444,
              "#bd3786"
             ],
             [
              0.5555555555555556,
              "#d8576b"
             ],
             [
              0.6666666666666666,
              "#ed7953"
             ],
             [
              0.7777777777777778,
              "#fb9f3a"
             ],
             [
              0.8888888888888888,
              "#fdca26"
             ],
             [
              1,
              "#f0f921"
             ]
            ],
            "type": "histogram2d"
           }
          ],
          "histogram2dcontour": [
           {
            "colorbar": {
             "outlinewidth": 0,
             "ticks": ""
            },
            "colorscale": [
             [
              0,
              "#0d0887"
             ],
             [
              0.1111111111111111,
              "#46039f"
             ],
             [
              0.2222222222222222,
              "#7201a8"
             ],
             [
              0.3333333333333333,
              "#9c179e"
             ],
             [
              0.4444444444444444,
              "#bd3786"
             ],
             [
              0.5555555555555556,
              "#d8576b"
             ],
             [
              0.6666666666666666,
              "#ed7953"
             ],
             [
              0.7777777777777778,
              "#fb9f3a"
             ],
             [
              0.8888888888888888,
              "#fdca26"
             ],
             [
              1,
              "#f0f921"
             ]
            ],
            "type": "histogram2dcontour"
           }
          ],
          "mesh3d": [
           {
            "colorbar": {
             "outlinewidth": 0,
             "ticks": ""
            },
            "type": "mesh3d"
           }
          ],
          "parcoords": [
           {
            "line": {
             "colorbar": {
              "outlinewidth": 0,
              "ticks": ""
             }
            },
            "type": "parcoords"
           }
          ],
          "pie": [
           {
            "automargin": true,
            "type": "pie"
           }
          ],
          "scatter": [
           {
            "fillpattern": {
             "fillmode": "overlay",
             "size": 10,
             "solidity": 0.2
            },
            "type": "scatter"
           }
          ],
          "scatter3d": [
           {
            "line": {
             "colorbar": {
              "outlinewidth": 0,
              "ticks": ""
             }
            },
            "marker": {
             "colorbar": {
              "outlinewidth": 0,
              "ticks": ""
             }
            },
            "type": "scatter3d"
           }
          ],
          "scattercarpet": [
           {
            "marker": {
             "colorbar": {
              "outlinewidth": 0,
              "ticks": ""
             }
            },
            "type": "scattercarpet"
           }
          ],
          "scattergeo": [
           {
            "marker": {
             "colorbar": {
              "outlinewidth": 0,
              "ticks": ""
             }
            },
            "type": "scattergeo"
           }
          ],
          "scattergl": [
           {
            "marker": {
             "colorbar": {
              "outlinewidth": 0,
              "ticks": ""
             }
            },
            "type": "scattergl"
           }
          ],
          "scattermapbox": [
           {
            "marker": {
             "colorbar": {
              "outlinewidth": 0,
              "ticks": ""
             }
            },
            "type": "scattermapbox"
           }
          ],
          "scatterpolar": [
           {
            "marker": {
             "colorbar": {
              "outlinewidth": 0,
              "ticks": ""
             }
            },
            "type": "scatterpolar"
           }
          ],
          "scatterpolargl": [
           {
            "marker": {
             "colorbar": {
              "outlinewidth": 0,
              "ticks": ""
             }
            },
            "type": "scatterpolargl"
           }
          ],
          "scatterternary": [
           {
            "marker": {
             "colorbar": {
              "outlinewidth": 0,
              "ticks": ""
             }
            },
            "type": "scatterternary"
           }
          ],
          "surface": [
           {
            "colorbar": {
             "outlinewidth": 0,
             "ticks": ""
            },
            "colorscale": [
             [
              0,
              "#0d0887"
             ],
             [
              0.1111111111111111,
              "#46039f"
             ],
             [
              0.2222222222222222,
              "#7201a8"
             ],
             [
              0.3333333333333333,
              "#9c179e"
             ],
             [
              0.4444444444444444,
              "#bd3786"
             ],
             [
              0.5555555555555556,
              "#d8576b"
             ],
             [
              0.6666666666666666,
              "#ed7953"
             ],
             [
              0.7777777777777778,
              "#fb9f3a"
             ],
             [
              0.8888888888888888,
              "#fdca26"
             ],
             [
              1,
              "#f0f921"
             ]
            ],
            "type": "surface"
           }
          ],
          "table": [
           {
            "cells": {
             "fill": {
              "color": "#EBF0F8"
             },
             "line": {
              "color": "white"
             }
            },
            "header": {
             "fill": {
              "color": "#C8D4E3"
             },
             "line": {
              "color": "white"
             }
            },
            "type": "table"
           }
          ]
         },
         "layout": {
          "annotationdefaults": {
           "arrowcolor": "#2a3f5f",
           "arrowhead": 0,
           "arrowwidth": 1
          },
          "autotypenumbers": "strict",
          "coloraxis": {
           "colorbar": {
            "outlinewidth": 0,
            "ticks": ""
           }
          },
          "colorscale": {
           "diverging": [
            [
             0,
             "#8e0152"
            ],
            [
             0.1,
             "#c51b7d"
            ],
            [
             0.2,
             "#de77ae"
            ],
            [
             0.3,
             "#f1b6da"
            ],
            [
             0.4,
             "#fde0ef"
            ],
            [
             0.5,
             "#f7f7f7"
            ],
            [
             0.6,
             "#e6f5d0"
            ],
            [
             0.7,
             "#b8e186"
            ],
            [
             0.8,
             "#7fbc41"
            ],
            [
             0.9,
             "#4d9221"
            ],
            [
             1,
             "#276419"
            ]
           ],
           "sequential": [
            [
             0,
             "#0d0887"
            ],
            [
             0.1111111111111111,
             "#46039f"
            ],
            [
             0.2222222222222222,
             "#7201a8"
            ],
            [
             0.3333333333333333,
             "#9c179e"
            ],
            [
             0.4444444444444444,
             "#bd3786"
            ],
            [
             0.5555555555555556,
             "#d8576b"
            ],
            [
             0.6666666666666666,
             "#ed7953"
            ],
            [
             0.7777777777777778,
             "#fb9f3a"
            ],
            [
             0.8888888888888888,
             "#fdca26"
            ],
            [
             1,
             "#f0f921"
            ]
           ],
           "sequentialminus": [
            [
             0,
             "#0d0887"
            ],
            [
             0.1111111111111111,
             "#46039f"
            ],
            [
             0.2222222222222222,
             "#7201a8"
            ],
            [
             0.3333333333333333,
             "#9c179e"
            ],
            [
             0.4444444444444444,
             "#bd3786"
            ],
            [
             0.5555555555555556,
             "#d8576b"
            ],
            [
             0.6666666666666666,
             "#ed7953"
            ],
            [
             0.7777777777777778,
             "#fb9f3a"
            ],
            [
             0.8888888888888888,
             "#fdca26"
            ],
            [
             1,
             "#f0f921"
            ]
           ]
          },
          "colorway": [
           "#636efa",
           "#EF553B",
           "#00cc96",
           "#ab63fa",
           "#FFA15A",
           "#19d3f3",
           "#FF6692",
           "#B6E880",
           "#FF97FF",
           "#FECB52"
          ],
          "font": {
           "color": "#2a3f5f"
          },
          "geo": {
           "bgcolor": "white",
           "lakecolor": "white",
           "landcolor": "#E5ECF6",
           "showlakes": true,
           "showland": true,
           "subunitcolor": "white"
          },
          "hoverlabel": {
           "align": "left"
          },
          "hovermode": "closest",
          "mapbox": {
           "style": "light"
          },
          "paper_bgcolor": "white",
          "plot_bgcolor": "#E5ECF6",
          "polar": {
           "angularaxis": {
            "gridcolor": "white",
            "linecolor": "white",
            "ticks": ""
           },
           "bgcolor": "#E5ECF6",
           "radialaxis": {
            "gridcolor": "white",
            "linecolor": "white",
            "ticks": ""
           }
          },
          "scene": {
           "xaxis": {
            "backgroundcolor": "#E5ECF6",
            "gridcolor": "white",
            "gridwidth": 2,
            "linecolor": "white",
            "showbackground": true,
            "ticks": "",
            "zerolinecolor": "white"
           },
           "yaxis": {
            "backgroundcolor": "#E5ECF6",
            "gridcolor": "white",
            "gridwidth": 2,
            "linecolor": "white",
            "showbackground": true,
            "ticks": "",
            "zerolinecolor": "white"
           },
           "zaxis": {
            "backgroundcolor": "#E5ECF6",
            "gridcolor": "white",
            "gridwidth": 2,
            "linecolor": "white",
            "showbackground": true,
            "ticks": "",
            "zerolinecolor": "white"
           }
          },
          "shapedefaults": {
           "line": {
            "color": "#2a3f5f"
           }
          },
          "ternary": {
           "aaxis": {
            "gridcolor": "white",
            "linecolor": "white",
            "ticks": ""
           },
           "baxis": {
            "gridcolor": "white",
            "linecolor": "white",
            "ticks": ""
           },
           "bgcolor": "#E5ECF6",
           "caxis": {
            "gridcolor": "white",
            "linecolor": "white",
            "ticks": ""
           }
          },
          "title": {
           "x": 0.05
          },
          "xaxis": {
           "automargin": true,
           "gridcolor": "white",
           "linecolor": "white",
           "ticks": "",
           "title": {
            "standoff": 15
           },
           "zerolinecolor": "white",
           "zerolinewidth": 2
          },
          "yaxis": {
           "automargin": true,
           "gridcolor": "white",
           "linecolor": "white",
           "ticks": "",
           "title": {
            "standoff": 15
           },
           "zerolinecolor": "white",
           "zerolinewidth": 2
          }
         }
        },
        "title": {
         "text": "Brand Distribution"
        },
        "xaxis": {
         "anchor": "y",
         "categoryarray": [
          "Apple",
          "HP",
          "Acer",
          "Asus",
          "Dell",
          "Lenovo",
          "Chuwi",
          "MSI",
          "Microsoft",
          "Toshiba",
          "Huawei",
          "Xiaomi",
          "Vero",
          "Razer",
          "Mediacom",
          "Samsung",
          "Google",
          "Fujitsu",
          "LG"
         ],
         "categoryorder": "array",
         "domain": [
          0,
          1
         ],
         "title": {
          "text": "Company"
         }
        },
        "yaxis": {
         "anchor": "x",
         "domain": [
          0,
          1
         ],
         "title": {
          "text": "count"
         }
        }
       }
      }
     },
     "metadata": {},
     "output_type": "display_data"
    }
   ],
   "source": [
    "# Visualising the brands in the dataset\n",
    "plt = px.histogram(df, x=\"Company\", title=\"Brand Distribution\",\n",
    "                   color=\"Company\", color_discrete_sequence=px.colors.qualitative.Pastel)\n",
    "plt.show()"
   ]
  },
  {
   "cell_type": "markdown",
   "metadata": {},
   "source": [
    "## Top 3 Laptop Brands\n",
    "## 1. Dell\n",
    "## 2. HP\n",
    "## 3. Lenovo"
   ]
  },
  {
   "cell_type": "code",
   "execution_count": 172,
   "metadata": {},
   "outputs": [
    {
     "data": {
      "text/plain": [
       "<Axes: xlabel='Company', ylabel='Price_euros'>"
      ]
     },
     "execution_count": 172,
     "metadata": {},
     "output_type": "execute_result"
    },
    {
     "data": {
      "image/png": "[encoded data removed]",
      "text/plain": [
       "<Figure size 640x480 with 1 Axes>"
      ]
     },
     "metadata": {},
     "output_type": "display_data"
    }
   ],
   "source": [
    "# how does brand name impacts the laptop price\n",
    "sns.barplot(x=df['Company'], y=df['Price_euros'], hue=df['Company'], palette='pastel', legend=False)\n"
   ]
  },
  {
   "cell_type": "code",
   "execution_count": 173,
   "metadata": {},
   "outputs": [
    {
     "data": {
      "application/vnd.plotly.v1+json": {
       "config": {
        "plotlyServerURL": "https://plot.ly"
       },
       "data": [
        {
         "alignmentgroup": "True",
         "bingroup": "x",
         "hovertemplate": "Ram=%{x}<br>count=%{y}<extra></extra>",
         "legendgroup": "8",
         "marker": {
          "color": "rgb(102, 197, 204)",
          "pattern": {
           "shape": ""
          }
         },
         "name": "8",
         "offsetgroup": "8",
         "orientation": "v",
         "showlegend": true,
         "type": "histogram",
         "x": [
          8,
          8,
          8,
          8,
          8,
          8,
          8,
          8,
          8,
          8,
          8,
          8,
          8,
          8,
          8,
          8,
          8,
          8,
          8,
          8,
          8,
          8,
          8,
          8,
          8,
          8,
          8,
          8,
          8,
          8,
          8,
          8,
          8,
          8,
          8,
          8,
          8,
          8,
          8,
          8,
          8,
          8,
          8,
          8,
          8,
          8,
          8,
          8,
          8,
          8,
          8,
          8,
          8,
          8,
          8,
          8,
          8,
          8,
          8,
          8,
          8,
          8,
          8,
          8,
          8,
          8,
          8,
          8,
          8,
          8,
          8,
          8,
          8,
          8,
          8,
          8,
          8,
          8,
          8,
          8,
          8,
          8,
          8,
          8,
          8,
          8,
          8,
          8,
          8,
          8,
          8,
          8,
          8,
          8,
          8,
          8,
          8,
          8,
          8,
          8,
          8,
          8,
          8,
          8,
          8,
          8,
          8,
          8,
          8,
          8,
          8,
          8,
          8,
          8,
          8,
          8,
          8,
          8,
          8,
          8,
          8,
          8,
          8,
          8,
          8,
          8,
          8,
          8,
          8,
          8,
          8,
          8,
          8,
          8,
          8,
          8,
          8,
          8,
          8,
          8,
          8,
          8,
          8,
          8,
          8,
          8,
          8,
          8,
          8,
          8,
          8,
          8,
          8,
          8,
          8,
          8,
          8,
          8,
          8,
          8,
          8,
          8,
          8,
          8,
          8,
          8,
          8,
          8,
          8,
          8,
          8,
          8,
          8,
          8,
          8,
          8,
          8,
          8,
          8,
          8,
          8,
          8,
          8,
          8,
          8,
          8,
          8,
          8,
          8,
          8,
          8,
          8,
          8,
          8,
          8,
          8,
          8,
          8,
          8,
          8,
          8,
          8,
          8,
          8,
          8,
          8,
          8,
          8,
          8,
          8,
          8,
          8,
          8,
          8,
          8,
          8,
          8,
          8,
          8,
          8,
          8,
          8,
          8,
          8,
          8,
          8,
          8,
          8,
          8,
          8,
          8,
          8,
          8,
          8,
          8,
          8,
          8,
          8,
          8,
          8,
          8,
          8,
          8,
          8,
          8,
          8,
          8,
          8,
          8,
          8,
          8,
          8,
          8,
          8,
          8,
          8,
          8,
          8,
          8,
          8,
          8,
          8,
          8,
          8,
          8,
          8,
          8,
          8,
          8,
          8,
          8,
          8,
          8,
          8,
          8,
          8,
          8,
          8,
          8,
          8,
          8,
          8,
          8,
          8,
          8,
          8,
          8,
          8,
          8,
          8,
          8,
          8,
          8,
          8,
          8,
          8,
          8,
          8,
          8,
          8,
          8,
          8,
          8,
          8,
          8,
          8,
          8,
          8,
          8,
          8,
          8,
          8,
          8,
          8,
          8,
          8,
          8,
          8,
          8,
          8,
          8,
          8,
          8,
          8,
          8,
          8,
          8,
          8,
          8,
          8,
          8,
          8,
          8,
          8,
          8,
          8,
          8,
          8,
          8,
          8,
          8,
          8,
          8,
          8,
          8,
          8,
          8,
          8,
          8,
          8,
          8,
          8,
          8,
          8,
          8,
          8,
          8,
          8,
          8,
          8,
          8,
          8,
          8,
          8,
          8,
          8,
          8,
          8,
          8,
          8,
          8,
          8,
          8,
          8,
          8,
          8,
          8,
          8,
          8,
          8,
          8,
          8,
          8,
          8,
          8,
          8,
          8,
          8,
          8,
          8,
          8,
          8,
          8,
          8,
          8,
          8,
          8,
          8,
          8,
          8,
          8,
          8,
          8,
          8,
          8,
          8,
          8,
          8,
          8,
          8,
          8,
          8,
          8,
          8,
          8,
          8,
          8,
          8,
          8,
          8,
          8,
          8,
          8,
          8,
          8,
          8,
          8,
          8,
          8,
          8,
          8,
          8,
          8,
          8,
          8,
          8,
          8,
          8,
          8,
          8,
          8,
          8,
          8,
          8,
          8,
          8,
          8,
          8,
          8,
          8,
          8,
          8,
          8,
          8,
          8,
          8,
          8,
          8,
          8,
          8,
          8,
          8,
          8,
          8,
          8,
          8,
          8,
          8,
          8,
          8,
          8,
          8,
          8,
          8,
          8,
          8,
          8,
          8,
          8,
          8,
          8,
          8,
          8,
          8,
          8,
          8,
          8,
          8,
          8,
          8,
          8,
          8,
          8,
          8,
          8,
          8,
          8,
          8,
          8,
          8,
          8,
          8,
          8,
          8,
          8,
          8,
          8,
          8,
          8,
          8,
          8,
          8,
          8,
          8,
          8,
          8,
          8,
          8,
          8,
          8,
          8,
          8,
          8,
          8,
          8,
          8,
          8,
          8,
          8,
          8,
          8,
          8,
          8,
          8,
          8,
          8,
          8,
          8,
          8,
          8,
          8,
          8,
          8,
          8,
          8,
          8,
          8,
          8,
          8,
          8,
          8,
          8,
          8,
          8,
          8,
          8,
          8,
          8,
          8,
          8,
          8,
          8,
          8,
          8,
          8,
          8,
          8,
          8,
          8,
          8,
          8,
          8,
          8,
          8,
          8,
          8,
          8,
          8,
          8,
          8,
          8,
          8,
          8,
          8,
          8,
          8,
          8,
          8,
          8,
          8,
          8,
          8,
          8,
          8,
          8,
          8,
          8,
          8,
          8,
          8,
          8,
          8,
          8,
          8,
          8,
          8,
          8,
          8,
          8,
          8,
          8,
          8,
          8
         ],
         "xaxis": "x",
         "yaxis": "y"
        },
        {
         "alignmentgroup": "True",
         "bingroup": "x",
         "hovertemplate": "Ram=%{x}<br>count=%{y}<extra></extra>",
         "legendgroup": "16",
         "marker": {
          "color": "rgb(246, 207, 113)",
          "pattern": {
           "shape": ""
          }
         },
         "name": "16",
         "offsetgroup": "16",
         "orientation": "v",
         "showlegend": true,
         "type": "histogram",
         "x": [
          16,
          16,
          16,
          16,
          16,
          16,
          16,
          16,
          16,
          16,
          16,
          16,
          16,
          16,
          16,
          16,
          16,
          16,
          16,
          16,
          16,
          16,
          16,
          16,
          16,
          16,
          16,
          16,
          16,
          16,
          16,
          16,
          16,
          16,
          16,
          16,
          16,
          16,
          16,
          16,
          16,
          16,
          16,
          16,
          16,
          16,
          16,
          16,
          16,
          16,
          16,
          16,
          16,
          16,
          16,
          16,
          16,
          16,
          16,
          16,
          16,
          16,
          16,
          16,
          16,
          16,
          16,
          16,
          16,
          16,
          16,
          16,
          16,
          16,
          16,
          16,
          16,
          16,
          16,
          16,
          16,
          16,
          16,
          16,
          16,
          16,
          16,
          16,
          16,
          16,
          16,
          16,
          16,
          16,
          16,
          16,
          16,
          16,
          16,
          16,
          16,
          16,
          16,
          16,
          16,
          16,
          16,
          16,
          16,
          16,
          16,
          16,
          16,
          16,
          16,
          16,
          16,
          16,
          16,
          16,
          16,
          16,
          16,
          16,
          16,
          16,
          16,
          16,
          16,
          16,
          16,
          16,
          16,
          16,
          16,
          16,
          16,
          16,
          16,
          16,
          16,
          16,
          16,
          16,
          16,
          16,
          16,
          16,
          16,
          16,
          16,
          16,
          16,
          16,
          16,
          16,
          16,
          16,
          16,
          16,
          16,
          16,
          16,
          16,
          16,
          16,
          16,
          16,
          16,
          16,
          16,
          16,
          16,
          16,
          16,
          16,
          16,
          16,
          16,
          16,
          16,
          16,
          16,
          16,
          16,
          16,
          16,
          16,
          16,
          16,
          16,
          16,
          16,
          16,
          16,
          16,
          16,
          16
         ],
         "xaxis": "x",
         "yaxis": "y"
        },
        {
         "alignmentgroup": "True",
         "bingroup": "x",
         "hovertemplate": "Ram=%{x}<br>count=%{y}<extra></extra>",
         "legendgroup": "4",
         "marker": {
          "color": "rgb(248, 156, 116)",
          "pattern": {
           "shape": ""
          }
         },
         "name": "4",
         "offsetgroup": "4",
         "orientation": "v",
         "showlegend": true,
         "type": "histogram",
         "x": [
          4,
          4,
          4,
          4,
          4,
          4,
          4,
          4,
          4,
          4,
          4,
          4,
          4,
          4,
          4,
          4,
          4,
          4,
          4,
          4,
          4,
          4,
          4,
          4,
          4,
          4,
          4,
          4,
          4,
          4,
          4,
          4,
          4,
          4,
          4,
          4,
          4,
          4,
          4,
          4,
          4,
          4,
          4,
          4,
          4,
          4,
          4,
          4,
          4,
          4,
          4,
          4,
          4,
          4,
          4,
          4,
          4,
          4,
          4,
          4,
          4,
          4,
          4,
          4,
          4,
          4,
          4,
          4,
          4,
          4,
          4,
          4,
          4,
          4,
          4,
          4,
          4,
          4,
          4,
          4,
          4,
          4,
          4,
          4,
          4,
          4,
          4,
          4,
          4,
          4,
          4,
          4,
          4,
          4,
          4,
          4,
          4,
          4,
          4,
          4,
          4,
          4,
          4,
          4,
          4,
          4,
          4,
          4,
          4,
          4,
          4,
          4,
          4,
          4,
          4,
          4,
          4,
          4,
          4,
          4,
          4,
          4,
          4,
          4,
          4,
          4,
          4,
          4,
          4,
          4,
          4,
          4,
          4,
          4,
          4,
          4,
          4,
          4,
          4,
          4,
          4,
          4,
          4,
          4,
          4,
          4,
          4,
          4,
          4,
          4,
          4,
          4,
          4,
          4,
          4,
          4,
          4,
          4,
          4,
          4,
          4,
          4,
          4,
          4,
          4,
          4,
          4,
          4,
          4,
          4,
          4,
          4,
          4,
          4,
          4,
          4,
          4,
          4,
          4,
          4,
          4,
          4,
          4,
          4,
          4,
          4,
          4,
          4,
          4,
          4,
          4,
          4,
          4,
          4,
          4,
          4,
          4,
          4,
          4,
          4,
          4,
          4,
          4,
          4,
          4,
          4,
          4,
          4,
          4,
          4,
          4,
          4,
          4,
          4,
          4,
          4,
          4,
          4,
          4,
          4,
          4,
          4,
          4,
          4,
          4,
          4,
          4,
          4,
          4,
          4,
          4,
          4,
          4,
          4,
          4,
          4,
          4,
          4,
          4,
          4,
          4,
          4,
          4,
          4,
          4,
          4,
          4,
          4,
          4,
          4,
          4,
          4,
          4,
          4,
          4,
          4,
          4,
          4,
          4,
          4,
          4,
          4,
          4,
          4,
          4,
          4,
          4,
          4,
          4,
          4,
          4,
          4,
          4,
          4,
          4,
          4,
          4,
          4,
          4,
          4,
          4,
          4,
          4,
          4,
          4,
          4,
          4,
          4,
          4,
          4,
          4,
          4,
          4,
          4,
          4,
          4,
          4,
          4,
          4,
          4,
          4,
          4,
          4,
          4,
          4,
          4,
          4,
          4,
          4,
          4,
          4,
          4,
          4,
          4,
          4,
          4,
          4,
          4,
          4,
          4,
          4,
          4,
          4,
          4,
          4,
          4,
          4,
          4,
          4,
          4,
          4,
          4,
          4,
          4,
          4,
          4,
          4,
          4,
          4,
          4,
          4,
          4,
          4,
          4,
          4,
          4,
          4,
          4,
          4,
          4,
          4,
          4,
          4,
          4,
          4,
          4,
          4,
          4,
          4,
          4,
          4,
          4,
          4,
          4,
          4,
          4,
          4
         ],
         "xaxis": "x",
         "yaxis": "y"
        },
        {
         "alignmentgroup": "True",
         "bingroup": "x",
         "hovertemplate": "Ram=%{x}<br>count=%{y}<extra></extra>",
         "legendgroup": "2",
         "marker": {
          "color": "rgb(220, 176, 242)",
          "pattern": {
           "shape": ""
          }
         },
         "name": "2",
         "offsetgroup": "2",
         "orientation": "v",
         "showlegend": true,
         "type": "histogram",
         "x": [
          2,
          2,
          2,
          2,
          2,
          2,
          2,
          2,
          2,
          2,
          2,
          2,
          2,
          2,
          2,
          2
         ],
         "xaxis": "x",
         "yaxis": "y"
        },
        {
         "alignmentgroup": "True",
         "bingroup": "x",
         "hovertemplate": "Ram=%{x}<br>count=%{y}<extra></extra>",
         "legendgroup": "12",
         "marker": {
          "color": "rgb(135, 197, 95)",
          "pattern": {
           "shape": ""
          }
         },
         "name": "12",
         "offsetgroup": "12",
         "orientation": "v",
         "showlegend": true,
         "type": "histogram",
         "x": [
          12,
          12,
          12,
          12,
          12,
          12,
          12,
          12,
          12,
          12,
          12,
          12,
          12,
          12,
          12,
          12,
          12,
          12,
          12,
          12,
          12,
          12,
          12,
          12,
          12
         ],
         "xaxis": "x",
         "yaxis": "y"
        },
        {
         "alignmentgroup": "True",
         "bingroup": "x",
         "hovertemplate": "Ram=%{x}<br>count=%{y}<extra></extra>",
         "legendgroup": "6",
         "marker": {
          "color": "rgb(158, 185, 243)",
          "pattern": {
           "shape": ""
          }
         },
         "name": "6",
         "offsetgroup": "6",
         "orientation": "v",
         "showlegend": true,
         "type": "histogram",
         "x": [
          6,
          6,
          6,
          6,
          6,
          6,
          6,
          6,
          6,
          6,
          6,
          6,
          6,
          6,
          6,
          6,
          6,
          6,
          6,
          6,
          6,
          6,
          6,
          6,
          6,
          6,
          6,
          6,
          6,
          6,
          6,
          6,
          6,
          6,
          6
         ],
         "xaxis": "x",
         "yaxis": "y"
        },
        {
         "alignmentgroup": "True",
         "bingroup": "x",
         "hovertemplate": "Ram=%{x}<br>count=%{y}<extra></extra>",
         "legendgroup": "32",
         "marker": {
          "color": "rgb(254, 136, 177)",
          "pattern": {
           "shape": ""
          }
         },
         "name": "32",
         "offsetgroup": "32",
         "orientation": "v",
         "showlegend": true,
         "type": "histogram",
         "x": [
          32,
          32,
          32,
          32,
          32,
          32,
          32,
          32,
          32,
          32,
          32,
          32,
          32,
          32,
          32,
          32,
          32
         ],
         "xaxis": "x",
         "yaxis": "y"
        },
        {
         "alignmentgroup": "True",
         "bingroup": "x",
         "hovertemplate": "Ram=%{x}<br>count=%{y}<extra></extra>",
         "legendgroup": "24",
         "marker": {
          "color": "rgb(201, 219, 116)",
          "pattern": {
           "shape": ""
          }
         },
         "name": "24",
         "offsetgroup": "24",
         "orientation": "v",
         "showlegend": true,
         "type": "histogram",
         "x": [
          24,
          24,
          24
         ],
         "xaxis": "x",
         "yaxis": "y"
        },
        {
         "alignmentgroup": "True",
         "bingroup": "x",
         "hovertemplate": "Ram=%{x}<br>count=%{y}<extra></extra>",
         "legendgroup": "64",
         "marker": {
          "color": "rgb(139, 224, 164)",
          "pattern": {
           "shape": ""
          }
         },
         "name": "64",
         "offsetgroup": "64",
         "orientation": "v",
         "showlegend": true,
         "type": "histogram",
         "x": [
          64
         ],
         "xaxis": "x",
         "yaxis": "y"
        }
       ],
       "layout": {
        "barmode": "relative",
        "legend": {
         "title": {
          "text": "Ram"
         },
         "tracegroupgap": 0
        },
        "template": {
         "data": {
          "bar": [
           {
            "error_x": {
             "color": "#2a3f5f"
            },
            "error_y": {
             "color": "#2a3f5f"
            },
            "marker": {
             "line": {
              "color": "#E5ECF6",
              "width": 0.5
             },
             "pattern": {
              "fillmode": "overlay",
              "size": 10,
              "solidity": 0.2
             }
            },
            "type": "bar"
           }
          ],
          "barpolar": [
           {
            "marker": {
             "line": {
              "color": "#E5ECF6",
              "width": 0.5
             },
             "pattern": {
              "fillmode": "overlay",
              "size": 10,
              "solidity": 0.2
             }
            },
            "type": "barpolar"
           }
          ],
          "carpet": [
           {
            "aaxis": {
             "endlinecolor": "#2a3f5f",
             "gridcolor": "white",
             "linecolor": "white",
             "minorgridcolor": "white",
             "startlinecolor": "#2a3f5f"
            },
            "baxis": {
             "endlinecolor": "#2a3f5f",
             "gridcolor": "white",
             "linecolor": "white",
             "minorgridcolor": "white",
             "startlinecolor": "#2a3f5f"
            },
            "type": "carpet"
           }
          ],
          "choropleth": [
           {
            "colorbar": {
             "outlinewidth": 0,
             "ticks": ""
            },
            "type": "choropleth"
           }
          ],
          "contour": [
           {
            "colorbar": {
             "outlinewidth": 0,
             "ticks": ""
            },
            "colorscale": [
             [
              0,
              "#0d0887"
             ],
             [
              0.1111111111111111,
              "#46039f"
             ],
             [
              0.2222222222222222,
              "#7201a8"
             ],
             [
              0.3333333333333333,
              "#9c179e"
             ],
             [
              0.4444444444444444,
              "#bd3786"
             ],
             [
              0.5555555555555556,
              "#d8576b"
             ],
             [
              0.6666666666666666,
              "#ed7953"
             ],
             [
              0.7777777777777778,
              "#fb9f3a"
             ],
             [
              0.8888888888888888,
              "#fdca26"
             ],
             [
              1,
              "#f0f921"
             ]
            ],
            "type": "contour"
           }
          ],
          "contourcarpet": [
           {
            "colorbar": {
             "outlinewidth": 0,
             "ticks": ""
            },
            "type": "contourcarpet"
           }
          ],
          "heatmap": [
           {
            "colorbar": {
             "outlinewidth": 0,
             "ticks": ""
            },
            "colorscale": [
             [
              0,
              "#0d0887"
             ],
             [
              0.1111111111111111,
              "#46039f"
             ],
             [
              0.2222222222222222,
              "#7201a8"
             ],
             [
              0.3333333333333333,
              "#9c179e"
             ],
             [
              0.4444444444444444,
              "#bd3786"
             ],
             [
              0.5555555555555556,
              "#d8576b"
             ],
             [
              0.6666666666666666,
              "#ed7953"
             ],
             [
              0.7777777777777778,
              "#fb9f3a"
             ],
             [
              0.8888888888888888,
              "#fdca26"
             ],
             [
              1,
              "#f0f921"
             ]
            ],
            "type": "heatmap"
           }
          ],
          "heatmapgl": [
           {
            "colorbar": {
             "outlinewidth": 0,
             "ticks": ""
            },
            "colorscale": [
             [
              0,
              "#0d0887"
             ],
             [
              0.1111111111111111,
              "#46039f"
             ],
             [
              0.2222222222222222,
              "#7201a8"
             ],
             [
              0.3333333333333333,
              "#9c179e"
             ],
             [
              0.4444444444444444,
              "#bd3786"
             ],
             [
              0.5555555555555556,
              "#d8576b"
             ],
             [
              0.6666666666666666,
              "#ed7953"
             ],
             [
              0.7777777777777778,
              "#fb9f3a"
             ],
             [
              0.8888888888888888,
              "#fdca26"
             ],
             [
              1,
              "#f0f921"
             ]
            ],
            "type": "heatmapgl"
           }
          ],
          "histogram": [
           {
            "marker": {
             "pattern": {
              "fillmode": "overlay",
              "size": 10,
              "solidity": 0.2
             }
            },
            "type": "histogram"
           }
          ],
          "histogram2d": [
           {
            "colorbar": {
             "outlinewidth": 0,
             "ticks": ""
            },
            "colorscale": [
             [
              0,
              "#0d0887"
             ],
             [
              0.1111111111111111,
              "#46039f"
             ],
             [
              0.2222222222222222,
              "#7201a8"
             ],
             [
              0.3333333333333333,
              "#9c179e"
             ],
             [
              0.4444444444444444,
              "#bd3786"
             ],
             [
              0.5555555555555556,
              "#d8576b"
             ],
             [
              0.6666666666666666,
              "#ed7953"
             ],
             [
              0.7777777777777778,
              "#fb9f3a"
             ],
             [
              0.8888888888888888,
              "#fdca26"
             ],
             [
              1,
              "#f0f921"
             ]
            ],
            "type": "histogram2d"
           }
          ],
          "histogram2dcontour": [
           {
            "colorbar": {
             "outlinewidth": 0,
             "ticks": ""
            },
            "colorscale": [
             [
              0,
              "#0d0887"
             ],
             [
              0.1111111111111111,
              "#46039f"
             ],
             [
              0.2222222222222222,
              "#7201a8"
             ],
             [
              0.3333333333333333,
              "#9c179e"
             ],
             [
              0.4444444444444444,
              "#bd3786"
             ],
             [
              0.5555555555555556,
              "#d8576b"
             ],
             [
              0.6666666666666666,
              "#ed7953"
             ],
             [
              0.7777777777777778,
              "#fb9f3a"
             ],
             [
              0.8888888888888888,
              "#fdca26"
             ],
             [
              1,
              "#f0f921"
             ]
            ],
            "type": "histogram2dcontour"
           }
          ],
          "mesh3d": [
           {
            "colorbar": {
             "outlinewidth": 0,
             "ticks": ""
            },
            "type": "mesh3d"
           }
          ],
          "parcoords": [
           {
            "line": {
             "colorbar": {
              "outlinewidth": 0,
              "ticks": ""
             }
            },
            "type": "parcoords"
           }
          ],
          "pie": [
           {
            "automargin": true,
            "type": "pie"
           }
          ],
          "scatter": [
           {
            "fillpattern": {
             "fillmode": "overlay",
             "size": 10,
             "solidity": 0.2
            },
            "type": "scatter"
           }
          ],
          "scatter3d": [
           {
            "line": {
             "colorbar": {
              "outlinewidth": 0,
              "ticks": ""
             }
            },
            "marker": {
             "colorbar": {
              "outlinewidth": 0,
              "ticks": ""
             }
            },
            "type": "scatter3d"
           }
          ],
          "scattercarpet": [
           {
            "marker": {
             "colorbar": {
              "outlinewidth": 0,
              "ticks": ""
             }
            },
            "type": "scattercarpet"
           }
          ],
          "scattergeo": [
           {
            "marker": {
             "colorbar": {
              "outlinewidth": 0,
              "ticks": ""
             }
            },
            "type": "scattergeo"
           }
          ],
          "scattergl": [
           {
            "marker": {
             "colorbar": {
              "outlinewidth": 0,
              "ticks": ""
             }
            },
            "type": "scattergl"
           }
          ],
          "scattermapbox": [
           {
            "marker": {
             "colorbar": {
              "outlinewidth": 0,
              "ticks": ""
             }
            },
            "type": "scattermapbox"
           }
          ],
          "scatterpolar": [
           {
            "marker": {
             "colorbar": {
              "outlinewidth": 0,
              "ticks": ""
             }
            },
            "type": "scatterpolar"
           }
          ],
          "scatterpolargl": [
           {
            "marker": {
             "colorbar": {
              "outlinewidth": 0,
              "ticks": ""
             }
            },
            "type": "scatterpolargl"
           }
          ],
          "scatterternary": [
           {
            "marker": {
             "colorbar": {
              "outlinewidth": 0,
              "ticks": ""
             }
            },
            "type": "scatterternary"
           }
          ],
          "surface": [
           {
            "colorbar": {
             "outlinewidth": 0,
             "ticks": ""
            },
            "colorscale": [
             [
              0,
              "#0d0887"
             ],
             [
              0.1111111111111111,
              "#46039f"
             ],
             [
              0.2222222222222222,
              "#7201a8"
             ],
             [
              0.3333333333333333,
              "#9c179e"
             ],
             [
              0.4444444444444444,
              "#bd3786"
             ],
             [
              0.5555555555555556,
              "#d8576b"
             ],
             [
              0.6666666666666666,
              "#ed7953"
             ],
             [
              0.7777777777777778,
              "#fb9f3a"
             ],
             [
              0.8888888888888888,
              "#fdca26"
             ],
             [
              1,
              "#f0f921"
             ]
            ],
            "type": "surface"
           }
          ],
          "table": [
           {
            "cells": {
             "fill": {
              "color": "#EBF0F8"
             },
             "line": {
              "color": "white"
             }
            },
            "header": {
             "fill": {
              "color": "#C8D4E3"
             },
             "line": {
              "color": "white"
             }
            },
            "type": "table"
           }
          ]
         },
         "layout": {
          "annotationdefaults": {
           "arrowcolor": "#2a3f5f",
           "arrowhead": 0,
           "arrowwidth": 1
          },
          "autotypenumbers": "strict",
          "coloraxis": {
           "colorbar": {
            "outlinewidth": 0,
            "ticks": ""
           }
          },
          "colorscale": {
           "diverging": [
            [
             0,
             "#8e0152"
            ],
            [
             0.1,
             "#c51b7d"
            ],
            [
             0.2,
             "#de77ae"
            ],
            [
             0.3,
             "#f1b6da"
            ],
            [
             0.4,
             "#fde0ef"
            ],
            [
             0.5,
             "#f7f7f7"
            ],
            [
             0.6,
             "#e6f5d0"
            ],
            [
             0.7,
             "#b8e186"
            ],
            [
             0.8,
             "#7fbc41"
            ],
            [
             0.9,
             "#4d9221"
            ],
            [
             1,
             "#276419"
            ]
           ],
           "sequential": [
            [
             0,
             "#0d0887"
            ],
            [
             0.1111111111111111,
             "#46039f"
            ],
            [
             0.2222222222222222,
             "#7201a8"
            ],
            [
             0.3333333333333333,
             "#9c179e"
            ],
            [
             0.4444444444444444,
             "#bd3786"
            ],
            [
             0.5555555555555556,
             "#d8576b"
            ],
            [
             0.6666666666666666,
             "#ed7953"
            ],
            [
             0.7777777777777778,
             "#fb9f3a"
            ],
            [
             0.8888888888888888,
             "#fdca26"
            ],
            [
             1,
             "#f0f921"
            ]
           ],
           "sequentialminus": [
            [
             0,
             "#0d0887"
            ],
            [
             0.1111111111111111,
             "#46039f"
            ],
            [
             0.2222222222222222,
             "#7201a8"
            ],
            [
             0.3333333333333333,
             "#9c179e"
            ],
            [
             0.4444444444444444,
             "#bd3786"
            ],
            [
             0.5555555555555556,
             "#d8576b"
            ],
            [
             0.6666666666666666,
             "#ed7953"
            ],
            [
             0.7777777777777778,
             "#fb9f3a"
            ],
            [
             0.8888888888888888,
             "#fdca26"
            ],
            [
             1,
             "#f0f921"
            ]
           ]
          },
          "colorway": [
           "#636efa",
           "#EF553B",
           "#00cc96",
           "#ab63fa",
           "#FFA15A",
           "#19d3f3",
           "#FF6692",
           "#B6E880",
           "#FF97FF",
           "#FECB52"
          ],
          "font": {
           "color": "#2a3f5f"
          },
          "geo": {
           "bgcolor": "white",
           "lakecolor": "white",
           "landcolor": "#E5ECF6",
           "showlakes": true,
           "showland": true,
           "subunitcolor": "white"
          },
          "hoverlabel": {
           "align": "left"
          },
          "hovermode": "closest",
          "mapbox": {
           "style": "light"
          },
          "paper_bgcolor": "white",
          "plot_bgcolor": "#E5ECF6",
          "polar": {
           "angularaxis": {
            "gridcolor": "white",
            "linecolor": "white",
            "ticks": ""
           },
           "bgcolor": "#E5ECF6",
           "radialaxis": {
            "gridcolor": "white",
            "linecolor": "white",
            "ticks": ""
           }
          },
          "scene": {
           "xaxis": {
            "backgroundcolor": "#E5ECF6",
            "gridcolor": "white",
            "gridwidth": 2,
            "linecolor": "white",
            "showbackground": true,
            "ticks": "",
            "zerolinecolor": "white"
           },
           "yaxis": {
            "backgroundcolor": "#E5ECF6",
            "gridcolor": "white",
            "gridwidth": 2,
            "linecolor": "white",
            "showbackground": true,
            "ticks": "",
            "zerolinecolor": "white"
           },
           "zaxis": {
            "backgroundcolor": "#E5ECF6",
            "gridcolor": "white",
            "gridwidth": 2,
            "linecolor": "white",
            "showbackground": true,
            "ticks": "",
            "zerolinecolor": "white"
           }
          },
          "shapedefaults": {
           "line": {
            "color": "#2a3f5f"
           }
          },
          "ternary": {
           "aaxis": {
            "gridcolor": "white",
            "linecolor": "white",
            "ticks": ""
           },
           "baxis": {
            "gridcolor": "white",
            "linecolor": "white",
            "ticks": ""
           },
           "bgcolor": "#E5ECF6",
           "caxis": {
            "gridcolor": "white",
            "linecolor": "white",
            "ticks": ""
           }
          },
          "title": {
           "x": 0.05
          },
          "xaxis": {
           "automargin": true,
           "gridcolor": "white",
           "linecolor": "white",
           "ticks": "",
           "title": {
            "standoff": 15
           },
           "zerolinecolor": "white",
           "zerolinewidth": 2
          },
          "yaxis": {
           "automargin": true,
           "gridcolor": "white",
           "linecolor": "white",
           "ticks": "",
           "title": {
            "standoff": 15
           },
           "zerolinecolor": "white",
           "zerolinewidth": 2
          }
         }
        },
        "title": {
         "text": "Ram Distribution"
        },
        "xaxis": {
         "anchor": "y",
         "categoryarray": [
          8,
          16,
          4,
          2,
          12,
          6,
          32,
          24,
          64
         ],
         "categoryorder": "array",
         "domain": [
          0,
          1
         ],
         "title": {
          "text": "Ram"
         }
        },
        "yaxis": {
         "anchor": "x",
         "domain": [
          0,
          1
         ],
         "title": {
          "text": "count"
         }
        }
       }
      }
     },
     "metadata": {},
     "output_type": "display_data"
    }
   ],
   "source": [
    "plt = px.histogram(df, x='Ram', color='Ram', title=\"Ram Distribution\", color_discrete_sequence=px.colors.qualitative.Pastel)\n",
    "plt.show()"
   ]
  },
  {
   "cell_type": "code",
   "execution_count": 174,
   "metadata": {},
   "outputs": [
    {
     "data": {
      "image/png": "[encoded data removed]",
      "text/plain": [
       "<Figure size 640x480 with 1 Axes>"
      ]
     },
     "metadata": {},
     "output_type": "display_data"
    },
    {
     "data": {
      "image/png": "[encoded data removed]",
      "text/plain": [
       "<Figure size 640x480 with 1 Axes>"
      ]
     },
     "metadata": {},
     "output_type": "display_data"
    }
   ],
   "source": [
    "import matplotlib.pyplot as plt\n",
    "import seaborn as sns\n",
    "\n",
    "# Plot the count of each 'TypeName'\n",
    "df['TypeName'].value_counts().plot(kind='bar')\n",
    "plt.xticks(rotation=\"vertical\")  # Rotate x-axis labels for the first plot\n",
    "plt.show()\n",
    "\n",
    "# Plot the barplot with 'TypeName' on the x-axis and 'Price_euros' on the y-axis\n",
    "ax = sns.barplot(x=df['TypeName'], y=df['Price_euros'], hue=df['TypeName'], palette=\"colorblind\", legend=False)\n",
    "ax.set_xticklabels(ax.get_xticklabels(), rotation=\"vertical\")  # Rotate x-axis labels for the seaborn plot\n",
    "plt.show()"
   ]
  },
  {
   "cell_type": "code",
   "execution_count": 175,
   "metadata": {},
   "outputs": [
    {
     "data": {
      "text/plain": [
       "<Axes: xlabel='Inches', ylabel='Price_euros'>"
      ]
     },
     "execution_count": 175,
     "metadata": {},
     "output_type": "execute_result"
    },
    {
     "data": {
      "image/png": "[encoded data removed]",
      "text/plain": [
       "<Figure size 640x480 with 1 Axes>"
      ]
     },
     "metadata": {},
     "output_type": "display_data"
    }
   ],
   "source": [
    "# Does the price vary with laptop size in inches?\n",
    "sns.scatterplot(x=df['Inches'],y=df['Price_euros'])\n",
    "# From the below plot we can conclude that there is a relationship but not a strong relationship between the price and size column."
   ]
  },
  {
   "cell_type": "code",
   "execution_count": 176,
   "metadata": {},
   "outputs": [
    {
     "data": {
      "application/vnd.plotly.v1+json": {
       "config": {
        "plotlyServerURL": "https://plot.ly"
       },
       "data": [
        {
         "alignmentgroup": "True",
         "bingroup": "x",
         "hovertemplate": "PrimaryStorageType=%{x}<br>count=%{y}<extra></extra>",
         "legendgroup": "SSD",
         "marker": {
          "color": "rgb(102, 197, 204)",
          "pattern": {
           "shape": ""
          }
         },
         "name": "SSD",
         "offsetgroup": "SSD",
         "orientation": "v",
         "showlegend": true,
         "type": "histogram",
         "x": [
          "SSD",
          "SSD",
          "SSD",
          "SSD",
          "SSD",
          "SSD",
          "SSD",
          "SSD",
          "SSD",
          "SSD",
          "SSD",
          "SSD",
          "SSD",
          "SSD",
          "SSD",
          "SSD",
          "SSD",
          "SSD",
          "SSD",
          "SSD",
          "SSD",
          "SSD",
          "SSD",
          "SSD",
          "SSD",
          "SSD",
          "SSD",
          "SSD",
          "SSD",
          "SSD",
          "SSD",
          "SSD",
          "SSD",
          "SSD",
          "SSD",
          "SSD",
          "SSD",
          "SSD",
          "SSD",
          "SSD",
          "SSD",
          "SSD",
          "SSD",
          "SSD",
          "SSD",
          "SSD",
          "SSD",
          "SSD",
          "SSD",
          "SSD",
          "SSD",
          "SSD",
          "SSD",
          "SSD",
          "SSD",
          "SSD",
          "SSD",
          "SSD",
          "SSD",
          "SSD",
          "SSD",
          "SSD",
          "SSD",
          "SSD",
          "SSD",
          "SSD",
          "SSD",
          "SSD",
          "SSD",
          "SSD",
          "SSD",
          "SSD",
          "SSD",
          "SSD",
          "SSD",
          "SSD",
          "SSD",
          "SSD",
          "SSD",
          "SSD",
          "SSD",
          "SSD",
          "SSD",
          "SSD",
          "SSD",
          "SSD",
          "SSD",
          "SSD",
          "SSD",
          "SSD",
          "SSD",
          "SSD",
          "SSD",
          "SSD",
          "SSD",
          "SSD",
          "SSD",
          "SSD",
          "SSD",
          "SSD",
          "SSD",
          "SSD",
          "SSD",
          "SSD",
          "SSD",
          "SSD",
          "SSD",
          "SSD",
          "SSD",
          "SSD",
          "SSD",
          "SSD",
          "SSD",
          "SSD",
          "SSD",
          "SSD",
          "SSD",
          "SSD",
          "SSD",
          "SSD",
          "SSD",
          "SSD",
          "SSD",
          "SSD",
          "SSD",
          "SSD",
          "SSD",
          "SSD",
          "SSD",
          "SSD",
          "SSD",
          "SSD",
          "SSD",
          "SSD",
          "SSD",
          "SSD",
          "SSD",
          "SSD",
          "SSD",
          "SSD",
          "SSD",
          "SSD",
          "SSD",
          "SSD",
          "SSD",
          "SSD",
          "SSD",
          "SSD",
          "SSD",
          "SSD",
          "SSD",
          "SSD",
          "SSD",
          "SSD",
          "SSD",
          "SSD",
          "SSD",
          "SSD",
          "SSD",
          "SSD",
          "SSD",
          "SSD",
          "SSD",
          "SSD",
          "SSD",
          "SSD",
          "SSD",
          "SSD",
          "SSD",
          "SSD",
          "SSD",
          "SSD",
          "SSD",
          "SSD",
          "SSD",
          "SSD",
          "SSD",
          "SSD",
          "SSD",
          "SSD",
          "SSD",
          "SSD",
          "SSD",
          "SSD",
          "SSD",
          "SSD",
          "SSD",
          "SSD",
          "SSD",
          "SSD",
          "SSD",
          "SSD",
          "SSD",
          "SSD",
          "SSD",
          "SSD",
          "SSD",
          "SSD",
          "SSD",
          "SSD",
          "SSD",
          "SSD",
          "SSD",
          "SSD",
          "SSD",
          "SSD",
          "SSD",
          "SSD",
          "SSD",
          "SSD",
          "SSD",
          "SSD",
          "SSD",
          "SSD",
          "SSD",
          "SSD",
          "SSD",
          "SSD",
          "SSD",
          "SSD",
          "SSD",
          "SSD",
          "SSD",
          "SSD",
          "SSD",
          "SSD",
          "SSD",
          "SSD",
          "SSD",
          "SSD",
          "SSD",
          "SSD",
          "SSD",
          "SSD",
          "SSD",
          "SSD",
          "SSD",
          "SSD",
          "SSD",
          "SSD",
          "SSD",
          "SSD",
          "SSD",
          "SSD",
          "SSD",
          "SSD",
          "SSD",
          "SSD",
          "SSD",
          "SSD",
          "SSD",
          "SSD",
          "SSD",
          "SSD",
          "SSD",
          "SSD",
          "SSD",
          "SSD",
          "SSD",
          "SSD",
          "SSD",
          "SSD",
          "SSD",
          "SSD",
          "SSD",
          "SSD",
          "SSD",
          "SSD",
          "SSD",
          "SSD",
          "SSD",
          "SSD",
          "SSD",
          "SSD",
          "SSD",
          "SSD",
          "SSD",
          "SSD",
          "SSD",
          "SSD",
          "SSD",
          "SSD",
          "SSD",
          "SSD",
          "SSD",
          "SSD",
          "SSD",
          "SSD",
          "SSD",
          "SSD",
          "SSD",
          "SSD",
          "SSD",
          "SSD",
          "SSD",
          "SSD",
          "SSD",
          "SSD",
          "SSD",
          "SSD",
          "SSD",
          "SSD",
          "SSD",
          "SSD",
          "SSD",
          "SSD",
          "SSD",
          "SSD",
          "SSD",
          "SSD",
          "SSD",
          "SSD",
          "SSD",
          "SSD",
          "SSD",
          "SSD",
          "SSD",
          "SSD",
          "SSD",
          "SSD",
          "SSD",
          "SSD",
          "SSD",
          "SSD",
          "SSD",
          "SSD",
          "SSD",
          "SSD",
          "SSD",
          "SSD",
          "SSD",
          "SSD",
          "SSD",
          "SSD",
          "SSD",
          "SSD",
          "SSD",
          "SSD",
          "SSD",
          "SSD",
          "SSD",
          "SSD",
          "SSD",
          "SSD",
          "SSD",
          "SSD",
          "SSD",
          "SSD",
          "SSD",
          "SSD",
          "SSD",
          "SSD",
          "SSD",
          "SSD",
          "SSD",
          "SSD",
          "SSD",
          "SSD",
          "SSD",
          "SSD",
          "SSD",
          "SSD",
          "SSD",
          "SSD",
          "SSD",
          "SSD",
          "SSD",
          "SSD",
          "SSD",
          "SSD",
          "SSD",
          "SSD",
          "SSD",
          "SSD",
          "SSD",
          "SSD",
          "SSD",
          "SSD",
          "SSD",
          "SSD",
          "SSD",
          "SSD",
          "SSD",
          "SSD",
          "SSD",
          "SSD",
          "SSD",
          "SSD",
          "SSD",
          "SSD",
          "SSD",
          "SSD",
          "SSD",
          "SSD",
          "SSD",
          "SSD",
          "SSD",
          "SSD",
          "SSD",
          "SSD",
          "SSD",
          "SSD",
          "SSD",
          "SSD",
          "SSD",
          "SSD",
          "SSD",
          "SSD",
          "SSD",
          "SSD",
          "SSD",
          "SSD",
          "SSD",
          "SSD",
          "SSD",
          "SSD",
          "SSD",
          "SSD",
          "SSD",
          "SSD",
          "SSD",
          "SSD",
          "SSD",
          "SSD",
          "SSD",
          "SSD",
          "SSD",
          "SSD",
          "SSD",
          "SSD",
          "SSD",
          "SSD",
          "SSD",
          "SSD",
          "SSD",
          "SSD",
          "SSD",
          "SSD",
          "SSD",
          "SSD",
          "SSD",
          "SSD",
          "SSD",
          "SSD",
          "SSD",
          "SSD",
          "SSD",
          "SSD",
          "SSD",
          "SSD",
          "SSD",
          "SSD",
          "SSD",
          "SSD",
          "SSD",
          "SSD",
          "SSD",
          "SSD",
          "SSD",
          "SSD",
          "SSD",
          "SSD",
          "SSD",
          "SSD",
          "SSD",
          "SSD",
          "SSD",
          "SSD",
          "SSD",
          "SSD",
          "SSD",
          "SSD",
          "SSD",
          "SSD",
          "SSD",
          "SSD",
          "SSD",
          "SSD",
          "SSD",
          "SSD",
          "SSD",
          "SSD",
          "SSD",
          "SSD",
          "SSD",
          "SSD",
          "SSD",
          "SSD",
          "SSD",
          "SSD",
          "SSD",
          "SSD",
          "SSD",
          "SSD",
          "SSD",
          "SSD",
          "SSD",
          "SSD",
          "SSD",
          "SSD",
          "SSD",
          "SSD",
          "SSD",
          "SSD",
          "SSD",
          "SSD",
          "SSD",
          "SSD",
          "SSD",
          "SSD",
          "SSD",
          "SSD",
          "SSD",
          "SSD",
          "SSD",
          "SSD",
          "SSD",
          "SSD",
          "SSD",
          "SSD",
          "SSD",
          "SSD",
          "SSD",
          "SSD",
          "SSD",
          "SSD",
          "SSD",
          "SSD",
          "SSD",
          "SSD",
          "SSD",
          "SSD",
          "SSD",
          "SSD",
          "SSD",
          "SSD",
          "SSD",
          "SSD",
          "SSD",
          "SSD",
          "SSD",
          "SSD",
          "SSD",
          "SSD",
          "SSD",
          "SSD",
          "SSD",
          "SSD",
          "SSD",
          "SSD",
          "SSD",
          "SSD",
          "SSD",
          "SSD",
          "SSD",
          "SSD",
          "SSD",
          "SSD",
          "SSD",
          "SSD",
          "SSD",
          "SSD",
          "SSD",
          "SSD",
          "SSD",
          "SSD",
          "SSD",
          "SSD",
          "SSD",
          "SSD",
          "SSD",
          "SSD",
          "SSD",
          "SSD",
          "SSD",
          "SSD",
          "SSD",
          "SSD",
          "SSD",
          "SSD",
          "SSD",
          "SSD",
          "SSD",
          "SSD",
          "SSD",
          "SSD",
          "SSD",
          "SSD",
          "SSD",
          "SSD",
          "SSD",
          "SSD",
          "SSD",
          "SSD",
          "SSD",
          "SSD",
          "SSD",
          "SSD",
          "SSD",
          "SSD",
          "SSD",
          "SSD",
          "SSD",
          "SSD",
          "SSD",
          "SSD",
          "SSD",
          "SSD",
          "SSD",
          "SSD",
          "SSD",
          "SSD",
          "SSD",
          "SSD",
          "SSD",
          "SSD",
          "SSD",
          "SSD",
          "SSD",
          "SSD",
          "SSD",
          "SSD",
          "SSD",
          "SSD",
          "SSD",
          "SSD",
          "SSD",
          "SSD",
          "SSD",
          "SSD",
          "SSD",
          "SSD",
          "SSD",
          "SSD",
          "SSD",
          "SSD",
          "SSD",
          "SSD",
          "SSD",
          "SSD",
          "SSD",
          "SSD",
          "SSD",
          "SSD",
          "SSD",
          "SSD",
          "SSD",
          "SSD",
          "SSD",
          "SSD",
          "SSD",
          "SSD",
          "SSD",
          "SSD",
          "SSD",
          "SSD",
          "SSD",
          "SSD",
          "SSD",
          "SSD",
          "SSD",
          "SSD",
          "SSD",
          "SSD",
          "SSD",
          "SSD",
          "SSD",
          "SSD",
          "SSD",
          "SSD",
          "SSD",
          "SSD",
          "SSD",
          "SSD",
          "SSD",
          "SSD",
          "SSD",
          "SSD",
          "SSD",
          "SSD",
          "SSD",
          "SSD",
          "SSD",
          "SSD",
          "SSD",
          "SSD",
          "SSD",
          "SSD",
          "SSD",
          "SSD",
          "SSD",
          "SSD",
          "SSD",
          "SSD",
          "SSD",
          "SSD",
          "SSD",
          "SSD",
          "SSD",
          "SSD",
          "SSD",
          "SSD",
          "SSD",
          "SSD",
          "SSD",
          "SSD",
          "SSD",
          "SSD",
          "SSD",
          "SSD",
          "SSD",
          "SSD",
          "SSD",
          "SSD",
          "SSD",
          "SSD",
          "SSD",
          "SSD",
          "SSD",
          "SSD",
          "SSD",
          "SSD",
          "SSD",
          "SSD",
          "SSD",
          "SSD",
          "SSD",
          "SSD",
          "SSD",
          "SSD",
          "SSD",
          "SSD",
          "SSD",
          "SSD",
          "SSD",
          "SSD",
          "SSD",
          "SSD",
          "SSD",
          "SSD",
          "SSD",
          "SSD",
          "SSD",
          "SSD",
          "SSD",
          "SSD",
          "SSD",
          "SSD",
          "SSD",
          "SSD",
          "SSD",
          "SSD",
          "SSD",
          "SSD",
          "SSD",
          "SSD",
          "SSD",
          "SSD",
          "SSD",
          "SSD",
          "SSD",
          "SSD",
          "SSD",
          "SSD",
          "SSD",
          "SSD",
          "SSD",
          "SSD",
          "SSD",
          "SSD",
          "SSD",
          "SSD",
          "SSD",
          "SSD",
          "SSD",
          "SSD",
          "SSD",
          "SSD",
          "SSD",
          "SSD",
          "SSD",
          "SSD",
          "SSD",
          "SSD",
          "SSD",
          "SSD",
          "SSD",
          "SSD",
          "SSD",
          "SSD",
          "SSD",
          "SSD",
          "SSD",
          "SSD",
          "SSD",
          "SSD",
          "SSD",
          "SSD",
          "SSD",
          "SSD",
          "SSD",
          "SSD",
          "SSD",
          "SSD",
          "SSD",
          "SSD",
          "SSD",
          "SSD",
          "SSD",
          "SSD",
          "SSD",
          "SSD",
          "SSD",
          "SSD",
          "SSD",
          "SSD",
          "SSD",
          "SSD",
          "SSD",
          "SSD",
          "SSD",
          "SSD",
          "SSD",
          "SSD",
          "SSD",
          "SSD",
          "SSD",
          "SSD",
          "SSD",
          "SSD",
          "SSD",
          "SSD",
          "SSD",
          "SSD",
          "SSD",
          "SSD",
          "SSD"
         ],
         "xaxis": "x",
         "yaxis": "y"
        },
        {
         "alignmentgroup": "True",
         "bingroup": "x",
         "hovertemplate": "PrimaryStorageType=%{x}<br>count=%{y}<extra></extra>",
         "legendgroup": "Flash Storage",
         "marker": {
          "color": "rgb(246, 207, 113)",
          "pattern": {
           "shape": ""
          }
         },
         "name": "Flash Storage",
         "offsetgroup": "Flash Storage",
         "orientation": "v",
         "showlegend": true,
         "type": "histogram",
         "x": [
          "Flash Storage",
          "Flash Storage",
          "Flash Storage",
          "Flash Storage",
          "Flash Storage",
          "Flash Storage",
          "Flash Storage",
          "Flash Storage",
          "Flash Storage",
          "Flash Storage",
          "Flash Storage",
          "Flash Storage",
          "Flash Storage",
          "Flash Storage",
          "Flash Storage",
          "Flash Storage",
          "Flash Storage",
          "Flash Storage",
          "Flash Storage",
          "Flash Storage",
          "Flash Storage",
          "Flash Storage",
          "Flash Storage",
          "Flash Storage",
          "Flash Storage",
          "Flash Storage",
          "Flash Storage",
          "Flash Storage",
          "Flash Storage",
          "Flash Storage",
          "Flash Storage",
          "Flash Storage",
          "Flash Storage",
          "Flash Storage",
          "Flash Storage",
          "Flash Storage",
          "Flash Storage",
          "Flash Storage",
          "Flash Storage",
          "Flash Storage",
          "Flash Storage",
          "Flash Storage",
          "Flash Storage",
          "Flash Storage",
          "Flash Storage",
          "Flash Storage",
          "Flash Storage",
          "Flash Storage",
          "Flash Storage",
          "Flash Storage",
          "Flash Storage",
          "Flash Storage",
          "Flash Storage",
          "Flash Storage",
          "Flash Storage",
          "Flash Storage",
          "Flash Storage",
          "Flash Storage",
          "Flash Storage",
          "Flash Storage",
          "Flash Storage",
          "Flash Storage",
          "Flash Storage",
          "Flash Storage",
          "Flash Storage",
          "Flash Storage",
          "Flash Storage",
          "Flash Storage",
          "Flash Storage",
          "Flash Storage",
          "Flash Storage"
         ],
         "xaxis": "x",
         "yaxis": "y"
        },
        {
         "alignmentgroup": "True",
         "bingroup": "x",
         "hovertemplate": "PrimaryStorageType=%{x}<br>count=%{y}<extra></extra>",
         "legendgroup": "HDD",
         "marker": {
          "color": "rgb(248, 156, 116)",
          "pattern": {
           "shape": ""
          }
         },
         "name": "HDD",
         "offsetgroup": "HDD",
         "orientation": "v",
         "showlegend": true,
         "type": "histogram",
         "x": [
          "HDD",
          "HDD",
          "HDD",
          "HDD",
          "HDD",
          "HDD",
          "HDD",
          "HDD",
          "HDD",
          "HDD",
          "HDD",
          "HDD",
          "HDD",
          "HDD",
          "HDD",
          "HDD",
          "HDD",
          "HDD",
          "HDD",
          "HDD",
          "HDD",
          "HDD",
          "HDD",
          "HDD",
          "HDD",
          "HDD",
          "HDD",
          "HDD",
          "HDD",
          "HDD",
          "HDD",
          "HDD",
          "HDD",
          "HDD",
          "HDD",
          "HDD",
          "HDD",
          "HDD",
          "HDD",
          "HDD",
          "HDD",
          "HDD",
          "HDD",
          "HDD",
          "HDD",
          "HDD",
          "HDD",
          "HDD",
          "HDD",
          "HDD",
          "HDD",
          "HDD",
          "HDD",
          "HDD",
          "HDD",
          "HDD",
          "HDD",
          "HDD",
          "HDD",
          "HDD",
          "HDD",
          "HDD",
          "HDD",
          "HDD",
          "HDD",
          "HDD",
          "HDD",
          "HDD",
          "HDD",
          "HDD",
          "HDD",
          "HDD",
          "HDD",
          "HDD",
          "HDD",
          "HDD",
          "HDD",
          "HDD",
          "HDD",
          "HDD",
          "HDD",
          "HDD",
          "HDD",
          "HDD",
          "HDD",
          "HDD",
          "HDD",
          "HDD",
          "HDD",
          "HDD",
          "HDD",
          "HDD",
          "HDD",
          "HDD",
          "HDD",
          "HDD",
          "HDD",
          "HDD",
          "HDD",
          "HDD",
          "HDD",
          "HDD",
          "HDD",
          "HDD",
          "HDD",
          "HDD",
          "HDD",
          "HDD",
          "HDD",
          "HDD",
          "HDD",
          "HDD",
          "HDD",
          "HDD",
          "HDD",
          "HDD",
          "HDD",
          "HDD",
          "HDD",
          "HDD",
          "HDD",
          "HDD",
          "HDD",
          "HDD",
          "HDD",
          "HDD",
          "HDD",
          "HDD",
          "HDD",
          "HDD",
          "HDD",
          "HDD",
          "HDD",
          "HDD",
          "HDD",
          "HDD",
          "HDD",
          "HDD",
          "HDD",
          "HDD",
          "HDD",
          "HDD",
          "HDD",
          "HDD",
          "HDD",
          "HDD",
          "HDD",
          "HDD",
          "HDD",
          "HDD",
          "HDD",
          "HDD",
          "HDD",
          "HDD",
          "HDD",
          "HDD",
          "HDD",
          "HDD",
          "HDD",
          "HDD",
          "HDD",
          "HDD",
          "HDD",
          "HDD",
          "HDD",
          "HDD",
          "HDD",
          "HDD",
          "HDD",
          "HDD",
          "HDD",
          "HDD",
          "HDD",
          "HDD",
          "HDD",
          "HDD",
          "HDD",
          "HDD",
          "HDD",
          "HDD",
          "HDD",
          "HDD",
          "HDD",
          "HDD",
          "HDD",
          "HDD",
          "HDD",
          "HDD",
          "HDD",
          "HDD",
          "HDD",
          "HDD",
          "HDD",
          "HDD",
          "HDD",
          "HDD",
          "HDD",
          "HDD",
          "HDD",
          "HDD",
          "HDD",
          "HDD",
          "HDD",
          "HDD",
          "HDD",
          "HDD",
          "HDD",
          "HDD",
          "HDD",
          "HDD",
          "HDD",
          "HDD",
          "HDD",
          "HDD",
          "HDD",
          "HDD",
          "HDD",
          "HDD",
          "HDD",
          "HDD",
          "HDD",
          "HDD",
          "HDD",
          "HDD",
          "HDD",
          "HDD",
          "HDD",
          "HDD",
          "HDD",
          "HDD",
          "HDD",
          "HDD",
          "HDD",
          "HDD",
          "HDD",
          "HDD",
          "HDD",
          "HDD",
          "HDD",
          "HDD",
          "HDD",
          "HDD",
          "HDD",
          "HDD",
          "HDD",
          "HDD",
          "HDD",
          "HDD",
          "HDD",
          "HDD",
          "HDD",
          "HDD",
          "HDD",
          "HDD",
          "HDD",
          "HDD",
          "HDD",
          "HDD",
          "HDD",
          "HDD",
          "HDD",
          "HDD",
          "HDD",
          "HDD",
          "HDD",
          "HDD",
          "HDD",
          "HDD",
          "HDD",
          "HDD",
          "HDD",
          "HDD",
          "HDD",
          "HDD",
          "HDD",
          "HDD",
          "HDD",
          "HDD",
          "HDD",
          "HDD",
          "HDD",
          "HDD",
          "HDD",
          "HDD",
          "HDD",
          "HDD",
          "HDD",
          "HDD",
          "HDD",
          "HDD",
          "HDD",
          "HDD",
          "HDD",
          "HDD",
          "HDD",
          "HDD",
          "HDD",
          "HDD",
          "HDD",
          "HDD",
          "HDD",
          "HDD",
          "HDD",
          "HDD",
          "HDD",
          "HDD",
          "HDD",
          "HDD",
          "HDD",
          "HDD",
          "HDD",
          "HDD",
          "HDD",
          "HDD",
          "HDD",
          "HDD",
          "HDD",
          "HDD",
          "HDD",
          "HDD",
          "HDD",
          "HDD",
          "HDD",
          "HDD",
          "HDD",
          "HDD",
          "HDD",
          "HDD",
          "HDD",
          "HDD",
          "HDD",
          "HDD",
          "HDD",
          "HDD",
          "HDD",
          "HDD",
          "HDD",
          "HDD",
          "HDD",
          "HDD",
          "HDD",
          "HDD",
          "HDD",
          "HDD",
          "HDD",
          "HDD",
          "HDD",
          "HDD",
          "HDD",
          "HDD",
          "HDD",
          "HDD",
          "HDD",
          "HDD",
          "HDD",
          "HDD",
          "HDD",
          "HDD",
          "HDD"
         ],
         "xaxis": "x",
         "yaxis": "y"
        },
        {
         "alignmentgroup": "True",
         "bingroup": "x",
         "hovertemplate": "PrimaryStorageType=%{x}<br>count=%{y}<extra></extra>",
         "legendgroup": "Hybrid",
         "marker": {
          "color": "rgb(220, 176, 242)",
          "pattern": {
           "shape": ""
          }
         },
         "name": "Hybrid",
         "offsetgroup": "Hybrid",
         "orientation": "v",
         "showlegend": true,
         "type": "histogram",
         "x": [
          "Hybrid",
          "Hybrid",
          "Hybrid",
          "Hybrid",
          "Hybrid",
          "Hybrid",
          "Hybrid",
          "Hybrid"
         ],
         "xaxis": "x",
         "yaxis": "y"
        }
       ],
       "layout": {
        "barmode": "relative",
        "legend": {
         "title": {
          "text": "PrimaryStorageType"
         },
         "tracegroupgap": 0
        },
        "template": {
         "data": {
          "bar": [
           {
            "error_x": {
             "color": "#2a3f5f"
            },
            "error_y": {
             "color": "#2a3f5f"
            },
            "marker": {
             "line": {
              "color": "#E5ECF6",
              "width": 0.5
             },
             "pattern": {
              "fillmode": "overlay",
              "size": 10,
              "solidity": 0.2
             }
            },
            "type": "bar"
           }
          ],
          "barpolar": [
           {
            "marker": {
             "line": {
              "color": "#E5ECF6",
              "width": 0.5
             },
             "pattern": {
              "fillmode": "overlay",
              "size": 10,
              "solidity": 0.2
             }
            },
            "type": "barpolar"
           }
          ],
          "carpet": [
           {
            "aaxis": {
             "endlinecolor": "#2a3f5f",
             "gridcolor": "white",
             "linecolor": "white",
             "minorgridcolor": "white",
             "startlinecolor": "#2a3f5f"
            },
            "baxis": {
             "endlinecolor": "#2a3f5f",
             "gridcolor": "white",
             "linecolor": "white",
             "minorgridcolor": "white",
             "startlinecolor": "#2a3f5f"
            },
            "type": "carpet"
           }
          ],
          "choropleth": [
           {
            "colorbar": {
             "outlinewidth": 0,
             "ticks": ""
            },
            "type": "choropleth"
           }
          ],
          "contour": [
           {
            "colorbar": {
             "outlinewidth": 0,
             "ticks": ""
            },
            "colorscale": [
             [
              0,
              "#0d0887"
             ],
             [
              0.1111111111111111,
              "#46039f"
             ],
             [
              0.2222222222222222,
              "#7201a8"
             ],
             [
              0.3333333333333333,
              "#9c179e"
             ],
             [
              0.4444444444444444,
              "#bd3786"
             ],
             [
              0.5555555555555556,
              "#d8576b"
             ],
             [
              0.6666666666666666,
              "#ed7953"
             ],
             [
              0.7777777777777778,
              "#fb9f3a"
             ],
             [
              0.8888888888888888,
              "#fdca26"
             ],
             [
              1,
              "#f0f921"
             ]
            ],
            "type": "contour"
           }
          ],
          "contourcarpet": [
           {
            "colorbar": {
             "outlinewidth": 0,
             "ticks": ""
            },
            "type": "contourcarpet"
           }
          ],
          "heatmap": [
           {
            "colorbar": {
             "outlinewidth": 0,
             "ticks": ""
            },
            "colorscale": [
             [
              0,
              "#0d0887"
             ],
             [
              0.1111111111111111,
              "#46039f"
             ],
             [
              0.2222222222222222,
              "#7201a8"
             ],
             [
              0.3333333333333333,
              "#9c179e"
             ],
             [
              0.4444444444444444,
              "#bd3786"
             ],
             [
              0.5555555555555556,
              "#d8576b"
             ],
             [
              0.6666666666666666,
              "#ed7953"
             ],
             [
              0.7777777777777778,
              "#fb9f3a"
             ],
             [
              0.8888888888888888,
              "#fdca26"
             ],
             [
              1,
              "#f0f921"
             ]
            ],
            "type": "heatmap"
           }
          ],
          "heatmapgl": [
           {
            "colorbar": {
             "outlinewidth": 0,
             "ticks": ""
            },
            "colorscale": [
             [
              0,
              "#0d0887"
             ],
             [
              0.1111111111111111,
              "#46039f"
             ],
             [
              0.2222222222222222,
              "#7201a8"
             ],
             [
              0.3333333333333333,
              "#9c179e"
             ],
             [
              0.4444444444444444,
              "#bd3786"
             ],
             [
              0.5555555555555556,
              "#d8576b"
             ],
             [
              0.6666666666666666,
              "#ed7953"
             ],
             [
              0.7777777777777778,
              "#fb9f3a"
             ],
             [
              0.8888888888888888,
              "#fdca26"
             ],
             [
              1,
              "#f0f921"
             ]
            ],
            "type": "heatmapgl"
           }
          ],
          "histogram": [
           {
            "marker": {
             "pattern": {
              "fillmode": "overlay",
              "size": 10,
              "solidity": 0.2
             }
            },
            "type": "histogram"
           }
          ],
          "histogram2d": [
           {
            "colorbar": {
             "outlinewidth": 0,
             "ticks": ""
            },
            "colorscale": [
             [
              0,
              "#0d0887"
             ],
             [
              0.1111111111111111,
              "#46039f"
             ],
             [
              0.2222222222222222,
              "#7201a8"
             ],
             [
              0.3333333333333333,
              "#9c179e"
             ],
             [
              0.4444444444444444,
              "#bd3786"
             ],
             [
              0.5555555555555556,
              "#d8576b"
             ],
             [
              0.6666666666666666,
              "#ed7953"
             ],
             [
              0.7777777777777778,
              "#fb9f3a"
             ],
             [
              0.8888888888888888,
              "#fdca26"
             ],
             [
              1,
              "#f0f921"
             ]
            ],
            "type": "histogram2d"
           }
          ],
          "histogram2dcontour": [
           {
            "colorbar": {
             "outlinewidth": 0,
             "ticks": ""
            },
            "colorscale": [
             [
              0,
              "#0d0887"
             ],
             [
              0.1111111111111111,
              "#46039f"
             ],
             [
              0.2222222222222222,
              "#7201a8"
             ],
             [
              0.3333333333333333,
              "#9c179e"
             ],
             [
              0.4444444444444444,
              "#bd3786"
             ],
             [
              0.5555555555555556,
              "#d8576b"
             ],
             [
              0.6666666666666666,
              "#ed7953"
             ],
             [
              0.7777777777777778,
              "#fb9f3a"
             ],
             [
              0.8888888888888888,
              "#fdca26"
             ],
             [
              1,
              "#f0f921"
             ]
            ],
            "type": "histogram2dcontour"
           }
          ],
          "mesh3d": [
           {
            "colorbar": {
             "outlinewidth": 0,
             "ticks": ""
            },
            "type": "mesh3d"
           }
          ],
          "parcoords": [
           {
            "line": {
             "colorbar": {
              "outlinewidth": 0,
              "ticks": ""
             }
            },
            "type": "parcoords"
           }
          ],
          "pie": [
           {
            "automargin": true,
            "type": "pie"
           }
          ],
          "scatter": [
           {
            "fillpattern": {
             "fillmode": "overlay",
             "size": 10,
             "solidity": 0.2
            },
            "type": "scatter"
           }
          ],
          "scatter3d": [
           {
            "line": {
             "colorbar": {
              "outlinewidth": 0,
              "ticks": ""
             }
            },
            "marker": {
             "colorbar": {
              "outlinewidth": 0,
              "ticks": ""
             }
            },
            "type": "scatter3d"
           }
          ],
          "scattercarpet": [
           {
            "marker": {
             "colorbar": {
              "outlinewidth": 0,
              "ticks": ""
             }
            },
            "type": "scattercarpet"
           }
          ],
          "scattergeo": [
           {
            "marker": {
             "colorbar": {
              "outlinewidth": 0,
              "ticks": ""
             }
            },
            "type": "scattergeo"
           }
          ],
          "scattergl": [
           {
            "marker": {
             "colorbar": {
              "outlinewidth": 0,
              "ticks": ""
             }
            },
            "type": "scattergl"
           }
          ],
          "scattermapbox": [
           {
            "marker": {
             "colorbar": {
              "outlinewidth": 0,
              "ticks": ""
             }
            },
            "type": "scattermapbox"
           }
          ],
          "scatterpolar": [
           {
            "marker": {
             "colorbar": {
              "outlinewidth": 0,
              "ticks": ""
             }
            },
            "type": "scatterpolar"
           }
          ],
          "scatterpolargl": [
           {
            "marker": {
             "colorbar": {
              "outlinewidth": 0,
              "ticks": ""
             }
            },
            "type": "scatterpolargl"
           }
          ],
          "scatterternary": [
           {
            "marker": {
             "colorbar": {
              "outlinewidth": 0,
              "ticks": ""
             }
            },
            "type": "scatterternary"
           }
          ],
          "surface": [
           {
            "colorbar": {
             "outlinewidth": 0,
             "ticks": ""
            },
            "colorscale": [
             [
              0,
              "#0d0887"
             ],
             [
              0.1111111111111111,
              "#46039f"
             ],
             [
              0.2222222222222222,
              "#7201a8"
             ],
             [
              0.3333333333333333,
              "#9c179e"
             ],
             [
              0.4444444444444444,
              "#bd3786"
             ],
             [
              0.5555555555555556,
              "#d8576b"
             ],
             [
              0.6666666666666666,
              "#ed7953"
             ],
             [
              0.7777777777777778,
              "#fb9f3a"
             ],
             [
              0.8888888888888888,
              "#fdca26"
             ],
             [
              1,
              "#f0f921"
             ]
            ],
            "type": "surface"
           }
          ],
          "table": [
           {
            "cells": {
             "fill": {
              "color": "#EBF0F8"
             },
             "line": {
              "color": "white"
             }
            },
            "header": {
             "fill": {
              "color": "#C8D4E3"
             },
             "line": {
              "color": "white"
             }
            },
            "type": "table"
           }
          ]
         },
         "layout": {
          "annotationdefaults": {
           "arrowcolor": "#2a3f5f",
           "arrowhead": 0,
           "arrowwidth": 1
          },
          "autotypenumbers": "strict",
          "coloraxis": {
           "colorbar": {
            "outlinewidth": 0,
            "ticks": ""
           }
          },
          "colorscale": {
           "diverging": [
            [
             0,
             "#8e0152"
            ],
            [
             0.1,
             "#c51b7d"
            ],
            [
             0.2,
             "#de77ae"
            ],
            [
             0.3,
             "#f1b6da"
            ],
            [
             0.4,
             "#fde0ef"
            ],
            [
             0.5,
             "#f7f7f7"
            ],
            [
             0.6,
             "#e6f5d0"
            ],
            [
             0.7,
             "#b8e186"
            ],
            [
             0.8,
             "#7fbc41"
            ],
            [
             0.9,
             "#4d9221"
            ],
            [
             1,
             "#276419"
            ]
           ],
           "sequential": [
            [
             0,
             "#0d0887"
            ],
            [
             0.1111111111111111,
             "#46039f"
            ],
            [
             0.2222222222222222,
             "#7201a8"
            ],
            [
             0.3333333333333333,
             "#9c179e"
            ],
            [
             0.4444444444444444,
             "#bd3786"
            ],
            [
             0.5555555555555556,
             "#d8576b"
            ],
            [
             0.6666666666666666,
             "#ed7953"
            ],
            [
             0.7777777777777778,
             "#fb9f3a"
            ],
            [
             0.8888888888888888,
             "#fdca26"
            ],
            [
             1,
             "#f0f921"
            ]
           ],
           "sequentialminus": [
            [
             0,
             "#0d0887"
            ],
            [
             0.1111111111111111,
             "#46039f"
            ],
            [
             0.2222222222222222,
             "#7201a8"
            ],
            [
             0.3333333333333333,
             "#9c179e"
            ],
            [
             0.4444444444444444,
             "#bd3786"
            ],
            [
             0.5555555555555556,
             "#d8576b"
            ],
            [
             0.6666666666666666,
             "#ed7953"
            ],
            [
             0.7777777777777778,
             "#fb9f3a"
            ],
            [
             0.8888888888888888,
             "#fdca26"
            ],
            [
             1,
             "#f0f921"
            ]
           ]
          },
          "colorway": [
           "#636efa",
           "#EF553B",
           "#00cc96",
           "#ab63fa",
           "#FFA15A",
           "#19d3f3",
           "#FF6692",
           "#B6E880",
           "#FF97FF",
           "#FECB52"
          ],
          "font": {
           "color": "#2a3f5f"
          },
          "geo": {
           "bgcolor": "white",
           "lakecolor": "white",
           "landcolor": "#E5ECF6",
           "showlakes": true,
           "showland": true,
           "subunitcolor": "white"
          },
          "hoverlabel": {
           "align": "left"
          },
          "hovermode": "closest",
          "mapbox": {
           "style": "light"
          },
          "paper_bgcolor": "white",
          "plot_bgcolor": "#E5ECF6",
          "polar": {
           "angularaxis": {
            "gridcolor": "white",
            "linecolor": "white",
            "ticks": ""
           },
           "bgcolor": "#E5ECF6",
           "radialaxis": {
            "gridcolor": "white",
            "linecolor": "white",
            "ticks": ""
           }
          },
          "scene": {
           "xaxis": {
            "backgroundcolor": "#E5ECF6",
            "gridcolor": "white",
            "gridwidth": 2,
            "linecolor": "white",
            "showbackground": true,
            "ticks": "",
            "zerolinecolor": "white"
           },
           "yaxis": {
            "backgroundcolor": "#E5ECF6",
            "gridcolor": "white",
            "gridwidth": 2,
            "linecolor": "white",
            "showbackground": true,
            "ticks": "",
            "zerolinecolor": "white"
           },
           "zaxis": {
            "backgroundcolor": "#E5ECF6",
            "gridcolor": "white",
            "gridwidth": 2,
            "linecolor": "white",
            "showbackground": true,
            "ticks": "",
            "zerolinecolor": "white"
           }
          },
          "shapedefaults": {
           "line": {
            "color": "#2a3f5f"
           }
          },
          "ternary": {
           "aaxis": {
            "gridcolor": "white",
            "linecolor": "white",
            "ticks": ""
           },
           "baxis": {
            "gridcolor": "white",
            "linecolor": "white",
            "ticks": ""
           },
           "bgcolor": "#E5ECF6",
           "caxis": {
            "gridcolor": "white",
            "linecolor": "white",
            "ticks": ""
           }
          },
          "title": {
           "x": 0.05
          },
          "xaxis": {
           "automargin": true,
           "gridcolor": "white",
           "linecolor": "white",
           "ticks": "",
           "title": {
            "standoff": 15
           },
           "zerolinecolor": "white",
           "zerolinewidth": 2
          },
          "yaxis": {
           "automargin": true,
           "gridcolor": "white",
           "linecolor": "white",
           "ticks": "",
           "title": {
            "standoff": 15
           },
           "zerolinecolor": "white",
           "zerolinewidth": 2
          }
         }
        },
        "title": {
         "text": "Primary Storage Type Distribution"
        },
        "xaxis": {
         "anchor": "y",
         "categoryarray": [
          "SSD",
          "Flash Storage",
          "HDD",
          "Hybrid"
         ],
         "categoryorder": "array",
         "domain": [
          0,
          1
         ],
         "title": {
          "text": "PrimaryStorageType"
         }
        },
        "yaxis": {
         "anchor": "x",
         "domain": [
          0,
          1
         ],
         "title": {
          "text": "count"
         }
        }
       }
      }
     },
     "metadata": {},
     "output_type": "display_data"
    }
   ],
   "source": [
    "\n",
    "plt = px.histogram(df, x='PrimaryStorageType', color='PrimaryStorageType', title=\"Primary Storage Type Distribution\", color_discrete_sequence=px.colors.qualitative.Pastel)\n",
    "plt.show()"
   ]
  },
  {
   "cell_type": "code",
   "execution_count": 177,
   "metadata": {},
   "outputs": [
    {
     "data": {
      "application/vnd.plotly.v1+json": {
       "config": {
        "plotlyServerURL": "https://plot.ly"
       },
       "data": [
        {
         "alignmentgroup": "True",
         "bingroup": "x",
         "hovertemplate": "GPU=%{x}<br>count=%{y}<extra></extra>",
         "legendgroup": "Intel Iris Plus Graphics 640",
         "marker": {
          "color": "#636efa",
          "pattern": {
           "shape": ""
          }
         },
         "name": "Intel Iris Plus Graphics 640",
         "offsetgroup": "Intel Iris Plus Graphics 640",
         "orientation": "v",
         "showlegend": true,
         "type": "histogram",
         "x": [
          "Intel Iris Plus Graphics 640",
          "Intel Iris Plus Graphics 640",
          "Intel Iris Plus Graphics 640",
          "Intel Iris Plus Graphics 640",
          "Intel Iris Plus Graphics 640",
          "Intel Iris Plus Graphics 640",
          "Intel Iris Plus Graphics 640",
          "Intel Iris Plus Graphics 640"
         ],
         "xaxis": "x",
         "yaxis": "y"
        },
        {
         "alignmentgroup": "True",
         "bingroup": "x",
         "hovertemplate": "GPU=%{x}<br>count=%{y}<extra></extra>",
         "legendgroup": "Intel HD Graphics 6000",
         "marker": {
          "color": "#EF553B",
          "pattern": {
           "shape": ""
          }
         },
         "name": "Intel HD Graphics 6000",
         "offsetgroup": "Intel HD Graphics 6000",
         "orientation": "v",
         "showlegend": true,
         "type": "histogram",
         "x": [
          "Intel HD Graphics 6000",
          "Intel HD Graphics 6000",
          "Intel HD Graphics 6000",
          "Intel HD Graphics 6000",
          "Intel HD Graphics 6000"
         ],
         "xaxis": "x",
         "yaxis": "y"
        },
        {
         "alignmentgroup": "True",
         "bingroup": "x",
         "hovertemplate": "GPU=%{x}<br>count=%{y}<extra></extra>",
         "legendgroup": "Intel HD Graphics 620",
         "marker": {
          "color": "#00cc96",
          "pattern": {
           "shape": ""
          }
         },
         "name": "Intel HD Graphics 620",
         "offsetgroup": "Intel HD Graphics 620",
         "orientation": "v",
         "showlegend": true,
         "type": "histogram",
         "x": [
          "Intel HD Graphics 620",
          "Intel HD Graphics 620",
          "Intel HD Graphics 620",
          "Intel HD Graphics 620",
          "Intel HD Graphics 620",
          "Intel HD Graphics 620",
          "Intel HD Graphics 620",
          "Intel HD Graphics 620",
          "Intel HD Graphics 620",
          "Intel HD Graphics 620",
          "Intel HD Graphics 620",
          "Intel HD Graphics 620",
          "Intel HD Graphics 620",
          "Intel HD Graphics 620",
          "Intel HD Graphics 620",
          "Intel HD Graphics 620",
          "Intel HD Graphics 620",
          "Intel HD Graphics 620",
          "Intel HD Graphics 620",
          "Intel HD Graphics 620",
          "Intel HD Graphics 620",
          "Intel HD Graphics 620",
          "Intel HD Graphics 620",
          "Intel HD Graphics 620",
          "Intel HD Graphics 620",
          "Intel HD Graphics 620",
          "Intel HD Graphics 620",
          "Intel HD Graphics 620",
          "Intel HD Graphics 620",
          "Intel HD Graphics 620",
          "Intel HD Graphics 620",
          "Intel HD Graphics 620",
          "Intel HD Graphics 620",
          "Intel HD Graphics 620",
          "Intel HD Graphics 620",
          "Intel HD Graphics 620",
          "Intel HD Graphics 620",
          "Intel HD Graphics 620",
          "Intel HD Graphics 620",
          "Intel HD Graphics 620",
          "Intel HD Graphics 620",
          "Intel HD Graphics 620",
          "Intel HD Graphics 620",
          "Intel HD Graphics 620",
          "Intel HD Graphics 620",
          "Intel HD Graphics 620",
          "Intel HD Graphics 620",
          "Intel HD Graphics 620",
          "Intel HD Graphics 620",
          "Intel HD Graphics 620",
          "Intel HD Graphics 620",
          "Intel HD Graphics 620",
          "Intel HD Graphics 620",
          "Intel HD Graphics 620",
          "Intel HD Graphics 620",
          "Intel HD Graphics 620",
          "Intel HD Graphics 620",
          "Intel HD Graphics 620",
          "Intel HD Graphics 620",
          "Intel HD Graphics 620",
          "Intel HD Graphics 620",
          "Intel HD Graphics 620",
          "Intel HD Graphics 620",
          "Intel HD Graphics 620",
          "Intel HD Graphics 620",
          "Intel HD Graphics 620",
          "Intel HD Graphics 620",
          "Intel HD Graphics 620",
          "Intel HD Graphics 620",
          "Intel HD Graphics 620",
          "Intel HD Graphics 620",
          "Intel HD Graphics 620",
          "Intel HD Graphics 620",
          "Intel HD Graphics 620",
          "Intel HD Graphics 620",
          "Intel HD Graphics 620",
          "Intel HD Graphics 620",
          "Intel HD Graphics 620",
          "Intel HD Graphics 620",
          "Intel HD Graphics 620",
          "Intel HD Graphics 620",
          "Intel HD Graphics 620",
          "Intel HD Graphics 620",
          "Intel HD Graphics 620",
          "Intel HD Graphics 620",
          "Intel HD Graphics 620",
          "Intel HD Graphics 620",
          "Intel HD Graphics 620",
          "Intel HD Graphics 620",
          "Intel HD Graphics 620",
          "Intel HD Graphics 620",
          "Intel HD Graphics 620",
          "Intel HD Graphics 620",
          "Intel HD Graphics 620",
          "Intel HD Graphics 620",
          "Intel HD Graphics 620",
          "Intel HD Graphics 620",
          "Intel HD Graphics 620",
          "Intel HD Graphics 620",
          "Intel HD Graphics 620",
          "Intel HD Graphics 620",
          "Intel HD Graphics 620",
          "Intel HD Graphics 620",
          "Intel HD Graphics 620",
          "Intel HD Graphics 620",
          "Intel HD Graphics 620",
          "Intel HD Graphics 620",
          "Intel HD Graphics 620",
          "Intel HD Graphics 620",
          "Intel HD Graphics 620",
          "Intel HD Graphics 620",
          "Intel HD Graphics 620",
          "Intel HD Graphics 620",
          "Intel HD Graphics 620",
          "Intel HD Graphics 620",
          "Intel HD Graphics 620",
          "Intel HD Graphics 620",
          "Intel HD Graphics 620",
          "Intel HD Graphics 620",
          "Intel HD Graphics 620",
          "Intel HD Graphics 620",
          "Intel HD Graphics 620",
          "Intel HD Graphics 620",
          "Intel HD Graphics 620",
          "Intel HD Graphics 620",
          "Intel HD Graphics 620",
          "Intel HD Graphics 620",
          "Intel HD Graphics 620",
          "Intel HD Graphics 620",
          "Intel HD Graphics 620",
          "Intel HD Graphics 620",
          "Intel HD Graphics 620",
          "Intel HD Graphics 620",
          "Intel HD Graphics 620",
          "Intel HD Graphics 620",
          "Intel HD Graphics 620",
          "Intel HD Graphics 620",
          "Intel HD Graphics 620",
          "Intel HD Graphics 620",
          "Intel HD Graphics 620",
          "Intel HD Graphics 620",
          "Intel HD Graphics 620",
          "Intel HD Graphics 620",
          "Intel HD Graphics 620",
          "Intel HD Graphics 620",
          "Intel HD Graphics 620",
          "Intel HD Graphics 620",
          "Intel HD Graphics 620",
          "Intel HD Graphics 620",
          "Intel HD Graphics 620",
          "Intel HD Graphics 620",
          "Intel HD Graphics 620",
          "Intel HD Graphics 620",
          "Intel HD Graphics 620",
          "Intel HD Graphics 620",
          "Intel HD Graphics 620",
          "Intel HD Graphics 620",
          "Intel HD Graphics 620",
          "Intel HD Graphics 620",
          "Intel HD Graphics 620",
          "Intel HD Graphics 620",
          "Intel HD Graphics 620",
          "Intel HD Graphics 620",
          "Intel HD Graphics 620",
          "Intel HD Graphics 620",
          "Intel HD Graphics 620",
          "Intel HD Graphics 620",
          "Intel HD Graphics 620",
          "Intel HD Graphics 620",
          "Intel HD Graphics 620",
          "Intel HD Graphics 620",
          "Intel HD Graphics 620",
          "Intel HD Graphics 620",
          "Intel HD Graphics 620",
          "Intel HD Graphics 620",
          "Intel HD Graphics 620",
          "Intel HD Graphics 620",
          "Intel HD Graphics 620",
          "Intel HD Graphics 620",
          "Intel HD Graphics 620",
          "Intel HD Graphics 620",
          "Intel HD Graphics 620",
          "Intel HD Graphics 620",
          "Intel HD Graphics 620",
          "Intel HD Graphics 620",
          "Intel HD Graphics 620",
          "Intel HD Graphics 620",
          "Intel HD Graphics 620",
          "Intel HD Graphics 620",
          "Intel HD Graphics 620",
          "Intel HD Graphics 620",
          "Intel HD Graphics 620",
          "Intel HD Graphics 620",
          "Intel HD Graphics 620",
          "Intel HD Graphics 620",
          "Intel HD Graphics 620",
          "Intel HD Graphics 620",
          "Intel HD Graphics 620",
          "Intel HD Graphics 620",
          "Intel HD Graphics 620",
          "Intel HD Graphics 620",
          "Intel HD Graphics 620",
          "Intel HD Graphics 620",
          "Intel HD Graphics 620",
          "Intel HD Graphics 620",
          "Intel HD Graphics 620",
          "Intel HD Graphics 620",
          "Intel HD Graphics 620",
          "Intel HD Graphics 620",
          "Intel HD Graphics 620",
          "Intel HD Graphics 620",
          "Intel HD Graphics 620",
          "Intel HD Graphics 620",
          "Intel HD Graphics 620",
          "Intel HD Graphics 620",
          "Intel HD Graphics 620",
          "Intel HD Graphics 620",
          "Intel HD Graphics 620",
          "Intel HD Graphics 620",
          "Intel HD Graphics 620",
          "Intel HD Graphics 620",
          "Intel HD Graphics 620",
          "Intel HD Graphics 620",
          "Intel HD Graphics 620",
          "Intel HD Graphics 620",
          "Intel HD Graphics 620",
          "Intel HD Graphics 620",
          "Intel HD Graphics 620",
          "Intel HD Graphics 620",
          "Intel HD Graphics 620",
          "Intel HD Graphics 620",
          "Intel HD Graphics 620",
          "Intel HD Graphics 620",
          "Intel HD Graphics 620",
          "Intel HD Graphics 620",
          "Intel HD Graphics 620",
          "Intel HD Graphics 620",
          "Intel HD Graphics 620",
          "Intel HD Graphics 620",
          "Intel HD Graphics 620",
          "Intel HD Graphics 620",
          "Intel HD Graphics 620",
          "Intel HD Graphics 620",
          "Intel HD Graphics 620",
          "Intel HD Graphics 620",
          "Intel HD Graphics 620",
          "Intel HD Graphics 620",
          "Intel HD Graphics 620",
          "Intel HD Graphics 620",
          "Intel HD Graphics 620",
          "Intel HD Graphics 620",
          "Intel HD Graphics 620",
          "Intel HD Graphics 620",
          "Intel HD Graphics 620",
          "Intel HD Graphics 620",
          "Intel HD Graphics 620",
          "Intel HD Graphics 620",
          "Intel HD Graphics 620",
          "Intel HD Graphics 620",
          "Intel HD Graphics 620",
          "Intel HD Graphics 620",
          "Intel HD Graphics 620",
          "Intel HD Graphics 620",
          "Intel HD Graphics 620",
          "Intel HD Graphics 620",
          "Intel HD Graphics 620",
          "Intel HD Graphics 620",
          "Intel HD Graphics 620",
          "Intel HD Graphics 620",
          "Intel HD Graphics 620",
          "Intel HD Graphics 620",
          "Intel HD Graphics 620",
          "Intel HD Graphics 620",
          "Intel HD Graphics 620",
          "Intel HD Graphics 620",
          "Intel HD Graphics 620",
          "Intel HD Graphics 620",
          "Intel HD Graphics 620",
          "Intel HD Graphics 620"
         ],
         "xaxis": "x",
         "yaxis": "y"
        },
        {
         "alignmentgroup": "True",
         "bingroup": "x",
         "hovertemplate": "GPU=%{x}<br>count=%{y}<extra></extra>",
         "legendgroup": "AMD Radeon Pro 455",
         "marker": {
          "color": "#ab63fa",
          "pattern": {
           "shape": ""
          }
         },
         "name": "AMD Radeon Pro 455",
         "offsetgroup": "AMD Radeon Pro 455",
         "orientation": "v",
         "showlegend": true,
         "type": "histogram",
         "x": [
          "AMD Radeon Pro 455"
         ],
         "xaxis": "x",
         "yaxis": "y"
        },
        {
         "alignmentgroup": "True",
         "bingroup": "x",
         "hovertemplate": "GPU=%{x}<br>count=%{y}<extra></extra>",
         "legendgroup": "Intel Iris Plus Graphics 650",
         "marker": {
          "color": "#FFA15A",
          "pattern": {
           "shape": ""
          }
         },
         "name": "Intel Iris Plus Graphics 650",
         "offsetgroup": "Intel Iris Plus Graphics 650",
         "orientation": "v",
         "showlegend": true,
         "type": "histogram",
         "x": [
          "Intel Iris Plus Graphics 650",
          "Intel Iris Plus Graphics 650"
         ],
         "xaxis": "x",
         "yaxis": "y"
        },
        {
         "alignmentgroup": "True",
         "bingroup": "x",
         "hovertemplate": "GPU=%{x}<br>count=%{y}<extra></extra>",
         "legendgroup": "AMD Radeon R5",
         "marker": {
          "color": "#19d3f3",
          "pattern": {
           "shape": ""
          }
         },
         "name": "AMD Radeon R5",
         "offsetgroup": "AMD Radeon R5",
         "orientation": "v",
         "showlegend": true,
         "type": "histogram",
         "x": [
          "AMD Radeon R5",
          "AMD Radeon R5",
          "AMD Radeon R5",
          "AMD Radeon R5",
          "AMD Radeon R5",
          "AMD Radeon R5",
          "AMD Radeon R5",
          "AMD Radeon R5",
          "AMD Radeon R5",
          "AMD Radeon R5",
          "AMD Radeon R5"
         ],
         "xaxis": "x",
         "yaxis": "y"
        },
        {
         "alignmentgroup": "True",
         "bingroup": "x",
         "hovertemplate": "GPU=%{x}<br>count=%{y}<extra></extra>",
         "legendgroup": "Intel Iris Pro Graphics",
         "marker": {
          "color": "#FF6692",
          "pattern": {
           "shape": ""
          }
         },
         "name": "Intel Iris Pro Graphics",
         "offsetgroup": "Intel Iris Pro Graphics",
         "orientation": "v",
         "showlegend": true,
         "type": "histogram",
         "x": [
          "Intel Iris Pro Graphics"
         ],
         "xaxis": "x",
         "yaxis": "y"
        },
        {
         "alignmentgroup": "True",
         "bingroup": "x",
         "hovertemplate": "GPU=%{x}<br>count=%{y}<extra></extra>",
         "legendgroup": "Nvidia GeForce MX150",
         "marker": {
          "color": "#B6E880",
          "pattern": {
           "shape": ""
          }
         },
         "name": "Nvidia GeForce MX150",
         "offsetgroup": "Nvidia GeForce MX150",
         "orientation": "v",
         "showlegend": true,
         "type": "histogram",
         "x": [
          "Nvidia GeForce MX150",
          "Nvidia GeForce MX150",
          "Nvidia GeForce MX150",
          "Nvidia GeForce MX150",
          "Nvidia GeForce MX150",
          "Nvidia GeForce MX150",
          "Nvidia GeForce MX150",
          "Nvidia GeForce MX150",
          "Nvidia GeForce MX150",
          "Nvidia GeForce MX150",
          "Nvidia GeForce MX150",
          "Nvidia GeForce MX150",
          "Nvidia GeForce MX150",
          "Nvidia GeForce MX150",
          "Nvidia GeForce MX150"
         ],
         "xaxis": "x",
         "yaxis": "y"
        },
        {
         "alignmentgroup": "True",
         "bingroup": "x",
         "hovertemplate": "GPU=%{x}<br>count=%{y}<extra></extra>",
         "legendgroup": "Intel UHD Graphics 620",
         "marker": {
          "color": "#FF97FF",
          "pattern": {
           "shape": ""
          }
         },
         "name": "Intel UHD Graphics 620",
         "offsetgroup": "Intel UHD Graphics 620",
         "orientation": "v",
         "showlegend": true,
         "type": "histogram",
         "x": [
          "Intel UHD Graphics 620",
          "Intel UHD Graphics 620",
          "Intel UHD Graphics 620",
          "Intel UHD Graphics 620",
          "Intel UHD Graphics 620",
          "Intel UHD Graphics 620",
          "Intel UHD Graphics 620",
          "Intel UHD Graphics 620",
          "Intel UHD Graphics 620",
          "Intel UHD Graphics 620",
          "Intel UHD Graphics 620",
          "Intel UHD Graphics 620",
          "Intel UHD Graphics 620",
          "Intel UHD Graphics 620",
          "Intel UHD Graphics 620",
          "Intel UHD Graphics 620",
          "Intel UHD Graphics 620",
          "Intel UHD Graphics 620",
          "Intel UHD Graphics 620",
          "Intel UHD Graphics 620",
          "Intel UHD Graphics 620",
          "Intel UHD Graphics 620",
          "Intel UHD Graphics 620",
          "Intel UHD Graphics 620",
          "Intel UHD Graphics 620",
          "Intel UHD Graphics 620",
          "Intel UHD Graphics 620",
          "Intel UHD Graphics 620",
          "Intel UHD Graphics 620",
          "Intel UHD Graphics 620",
          "Intel UHD Graphics 620",
          "Intel UHD Graphics 620",
          "Intel UHD Graphics 620",
          "Intel UHD Graphics 620",
          "Intel UHD Graphics 620",
          "Intel UHD Graphics 620",
          "Intel UHD Graphics 620",
          "Intel UHD Graphics 620",
          "Intel UHD Graphics 620",
          "Intel UHD Graphics 620",
          "Intel UHD Graphics 620",
          "Intel UHD Graphics 620",
          "Intel UHD Graphics 620",
          "Intel UHD Graphics 620",
          "Intel UHD Graphics 620",
          "Intel UHD Graphics 620",
          "Intel UHD Graphics 620",
          "Intel UHD Graphics 620",
          "Intel UHD Graphics 620",
          "Intel UHD Graphics 620",
          "Intel UHD Graphics 620",
          "Intel UHD Graphics 620",
          "Intel UHD Graphics 620",
          "Intel UHD Graphics 620",
          "Intel UHD Graphics 620",
          "Intel UHD Graphics 620",
          "Intel UHD Graphics 620",
          "Intel UHD Graphics 620",
          "Intel UHD Graphics 620",
          "Intel UHD Graphics 620",
          "Intel UHD Graphics 620",
          "Intel UHD Graphics 620",
          "Intel UHD Graphics 620",
          "Intel UHD Graphics 620",
          "Intel UHD Graphics 620",
          "Intel UHD Graphics 620",
          "Intel UHD Graphics 620",
          "Intel UHD Graphics 620"
         ],
         "xaxis": "x",
         "yaxis": "y"
        },
        {
         "alignmentgroup": "True",
         "bingroup": "x",
         "hovertemplate": "GPU=%{x}<br>count=%{y}<extra></extra>",
         "legendgroup": "Intel HD Graphics 520",
         "marker": {
          "color": "#FECB52",
          "pattern": {
           "shape": ""
          }
         },
         "name": "Intel HD Graphics 520",
         "offsetgroup": "Intel HD Graphics 520",
         "orientation": "v",
         "showlegend": true,
         "type": "histogram",
         "x": [
          "Intel HD Graphics 520",
          "Intel HD Graphics 520",
          "Intel HD Graphics 520",
          "Intel HD Graphics 520",
          "Intel HD Graphics 520",
          "Intel HD Graphics 520",
          "Intel HD Graphics 520",
          "Intel HD Graphics 520",
          "Intel HD Graphics 520",
          "Intel HD Graphics 520",
          "Intel HD Graphics 520",
          "Intel HD Graphics 520",
          "Intel HD Graphics 520",
          "Intel HD Graphics 520",
          "Intel HD Graphics 520",
          "Intel HD Graphics 520",
          "Intel HD Graphics 520",
          "Intel HD Graphics 520",
          "Intel HD Graphics 520",
          "Intel HD Graphics 520",
          "Intel HD Graphics 520",
          "Intel HD Graphics 520",
          "Intel HD Graphics 520",
          "Intel HD Graphics 520",
          "Intel HD Graphics 520",
          "Intel HD Graphics 520",
          "Intel HD Graphics 520",
          "Intel HD Graphics 520",
          "Intel HD Graphics 520",
          "Intel HD Graphics 520",
          "Intel HD Graphics 520",
          "Intel HD Graphics 520",
          "Intel HD Graphics 520",
          "Intel HD Graphics 520",
          "Intel HD Graphics 520",
          "Intel HD Graphics 520",
          "Intel HD Graphics 520",
          "Intel HD Graphics 520",
          "Intel HD Graphics 520",
          "Intel HD Graphics 520",
          "Intel HD Graphics 520",
          "Intel HD Graphics 520",
          "Intel HD Graphics 520",
          "Intel HD Graphics 520",
          "Intel HD Graphics 520",
          "Intel HD Graphics 520",
          "Intel HD Graphics 520",
          "Intel HD Graphics 520",
          "Intel HD Graphics 520",
          "Intel HD Graphics 520",
          "Intel HD Graphics 520",
          "Intel HD Graphics 520",
          "Intel HD Graphics 520",
          "Intel HD Graphics 520",
          "Intel HD Graphics 520",
          "Intel HD Graphics 520",
          "Intel HD Graphics 520",
          "Intel HD Graphics 520",
          "Intel HD Graphics 520",
          "Intel HD Graphics 520",
          "Intel HD Graphics 520",
          "Intel HD Graphics 520",
          "Intel HD Graphics 520",
          "Intel HD Graphics 520",
          "Intel HD Graphics 520",
          "Intel HD Graphics 520",
          "Intel HD Graphics 520",
          "Intel HD Graphics 520",
          "Intel HD Graphics 520",
          "Intel HD Graphics 520",
          "Intel HD Graphics 520",
          "Intel HD Graphics 520",
          "Intel HD Graphics 520",
          "Intel HD Graphics 520",
          "Intel HD Graphics 520",
          "Intel HD Graphics 520",
          "Intel HD Graphics 520",
          "Intel HD Graphics 520",
          "Intel HD Graphics 520",
          "Intel HD Graphics 520",
          "Intel HD Graphics 520",
          "Intel HD Graphics 520",
          "Intel HD Graphics 520",
          "Intel HD Graphics 520",
          "Intel HD Graphics 520",
          "Intel HD Graphics 520",
          "Intel HD Graphics 520",
          "Intel HD Graphics 520",
          "Intel HD Graphics 520",
          "Intel HD Graphics 520",
          "Intel HD Graphics 520",
          "Intel HD Graphics 520",
          "Intel HD Graphics 520",
          "Intel HD Graphics 520",
          "Intel HD Graphics 520",
          "Intel HD Graphics 520",
          "Intel HD Graphics 520",
          "Intel HD Graphics 520",
          "Intel HD Graphics 520",
          "Intel HD Graphics 520",
          "Intel HD Graphics 520",
          "Intel HD Graphics 520",
          "Intel HD Graphics 520",
          "Intel HD Graphics 520",
          "Intel HD Graphics 520",
          "Intel HD Graphics 520",
          "Intel HD Graphics 520",
          "Intel HD Graphics 520",
          "Intel HD Graphics 520",
          "Intel HD Graphics 520",
          "Intel HD Graphics 520",
          "Intel HD Graphics 520",
          "Intel HD Graphics 520",
          "Intel HD Graphics 520",
          "Intel HD Graphics 520",
          "Intel HD Graphics 520",
          "Intel HD Graphics 520",
          "Intel HD Graphics 520",
          "Intel HD Graphics 520",
          "Intel HD Graphics 520",
          "Intel HD Graphics 520",
          "Intel HD Graphics 520",
          "Intel HD Graphics 520",
          "Intel HD Graphics 520",
          "Intel HD Graphics 520",
          "Intel HD Graphics 520",
          "Intel HD Graphics 520",
          "Intel HD Graphics 520",
          "Intel HD Graphics 520",
          "Intel HD Graphics 520",
          "Intel HD Graphics 520",
          "Intel HD Graphics 520",
          "Intel HD Graphics 520",
          "Intel HD Graphics 520",
          "Intel HD Graphics 520",
          "Intel HD Graphics 520",
          "Intel HD Graphics 520",
          "Intel HD Graphics 520",
          "Intel HD Graphics 520",
          "Intel HD Graphics 520",
          "Intel HD Graphics 520",
          "Intel HD Graphics 520",
          "Intel HD Graphics 520",
          "Intel HD Graphics 520",
          "Intel HD Graphics 520",
          "Intel HD Graphics 520",
          "Intel HD Graphics 520",
          "Intel HD Graphics 520",
          "Intel HD Graphics 520",
          "Intel HD Graphics 520",
          "Intel HD Graphics 520",
          "Intel HD Graphics 520",
          "Intel HD Graphics 520",
          "Intel HD Graphics 520",
          "Intel HD Graphics 520",
          "Intel HD Graphics 520",
          "Intel HD Graphics 520",
          "Intel HD Graphics 520",
          "Intel HD Graphics 520",
          "Intel HD Graphics 520",
          "Intel HD Graphics 520",
          "Intel HD Graphics 520",
          "Intel HD Graphics 520",
          "Intel HD Graphics 520",
          "Intel HD Graphics 520",
          "Intel HD Graphics 520",
          "Intel HD Graphics 520",
          "Intel HD Graphics 520",
          "Intel HD Graphics 520",
          "Intel HD Graphics 520",
          "Intel HD Graphics 520",
          "Intel HD Graphics 520",
          "Intel HD Graphics 520",
          "Intel HD Graphics 520",
          "Intel HD Graphics 520",
          "Intel HD Graphics 520",
          "Intel HD Graphics 520",
          "Intel HD Graphics 520",
          "Intel HD Graphics 520",
          "Intel HD Graphics 520",
          "Intel HD Graphics 520"
         ],
         "xaxis": "x",
         "yaxis": "y"
        },
        {
         "alignmentgroup": "True",
         "bingroup": "x",
         "hovertemplate": "GPU=%{x}<br>count=%{y}<extra></extra>",
         "legendgroup": "AMD Radeon Pro 555",
         "marker": {
          "color": "#636efa",
          "pattern": {
           "shape": ""
          }
         },
         "name": "AMD Radeon Pro 555",
         "offsetgroup": "AMD Radeon Pro 555",
         "orientation": "v",
         "showlegend": true,
         "type": "histogram",
         "x": [
          "AMD Radeon Pro 555"
         ],
         "xaxis": "x",
         "yaxis": "y"
        },
        {
         "alignmentgroup": "True",
         "bingroup": "x",
         "hovertemplate": "GPU=%{x}<br>count=%{y}<extra></extra>",
         "legendgroup": "AMD Radeon R5 M430",
         "marker": {
          "color": "#EF553B",
          "pattern": {
           "shape": ""
          }
         },
         "name": "AMD Radeon R5 M430",
         "offsetgroup": "AMD Radeon R5 M430",
         "orientation": "v",
         "showlegend": true,
         "type": "histogram",
         "x": [
          "AMD Radeon R5 M430",
          "AMD Radeon R5 M430",
          "AMD Radeon R5 M430",
          "AMD Radeon R5 M430",
          "AMD Radeon R5 M430",
          "AMD Radeon R5 M430",
          "AMD Radeon R5 M430",
          "AMD Radeon R5 M430",
          "AMD Radeon R5 M430",
          "AMD Radeon R5 M430",
          "AMD Radeon R5 M430",
          "AMD Radeon R5 M430",
          "AMD Radeon R5 M430",
          "AMD Radeon R5 M430",
          "AMD Radeon R5 M430",
          "AMD Radeon R5 M430",
          "AMD Radeon R5 M430",
          "AMD Radeon R5 M430",
          "AMD Radeon R5 M430",
          "AMD Radeon R5 M430"
         ],
         "xaxis": "x",
         "yaxis": "y"
        },
        {
         "alignmentgroup": "True",
         "bingroup": "x",
         "hovertemplate": "GPU=%{x}<br>count=%{y}<extra></extra>",
         "legendgroup": "Intel HD Graphics 615",
         "marker": {
          "color": "#00cc96",
          "pattern": {
           "shape": ""
          }
         },
         "name": "Intel HD Graphics 615",
         "offsetgroup": "Intel HD Graphics 615",
         "orientation": "v",
         "showlegend": true,
         "type": "histogram",
         "x": [
          "Intel HD Graphics 615",
          "Intel HD Graphics 615",
          "Intel HD Graphics 615",
          "Intel HD Graphics 615",
          "Intel HD Graphics 615",
          "Intel HD Graphics 615",
          "Intel HD Graphics 615",
          "Intel HD Graphics 615",
          "Intel HD Graphics 615",
          "Intel HD Graphics 615",
          "Intel HD Graphics 615",
          "Intel HD Graphics 615",
          "Intel HD Graphics 615",
          "Intel HD Graphics 615"
         ],
         "xaxis": "x",
         "yaxis": "y"
        },
        {
         "alignmentgroup": "True",
         "bingroup": "x",
         "hovertemplate": "GPU=%{x}<br>count=%{y}<extra></extra>",
         "legendgroup": "AMD Radeon Pro 560",
         "marker": {
          "color": "#ab63fa",
          "pattern": {
           "shape": ""
          }
         },
         "name": "AMD Radeon Pro 560",
         "offsetgroup": "AMD Radeon Pro 560",
         "orientation": "v",
         "showlegend": true,
         "type": "histogram",
         "x": [
          "AMD Radeon Pro 560"
         ],
         "xaxis": "x",
         "yaxis": "y"
        },
        {
         "alignmentgroup": "True",
         "bingroup": "x",
         "hovertemplate": "GPU=%{x}<br>count=%{y}<extra></extra>",
         "legendgroup": "Nvidia GeForce 940MX",
         "marker": {
          "color": "#FFA15A",
          "pattern": {
           "shape": ""
          }
         },
         "name": "Nvidia GeForce 940MX",
         "offsetgroup": "Nvidia GeForce 940MX",
         "orientation": "v",
         "showlegend": true,
         "type": "histogram",
         "x": [
          "Nvidia GeForce 940MX",
          "Nvidia GeForce 940MX",
          "Nvidia GeForce 940MX",
          "Nvidia GeForce 940MX",
          "Nvidia GeForce 940MX",
          "Nvidia GeForce 940MX",
          "Nvidia GeForce 940MX",
          "Nvidia GeForce 940MX",
          "Nvidia GeForce 940MX",
          "Nvidia GeForce 940MX",
          "Nvidia GeForce 940MX",
          "Nvidia GeForce 940MX",
          "Nvidia GeForce 940MX",
          "Nvidia GeForce 940MX",
          "Nvidia GeForce 940MX",
          "Nvidia GeForce 940MX",
          "Nvidia GeForce 940MX",
          "Nvidia GeForce 940MX",
          "Nvidia GeForce 940MX",
          "Nvidia GeForce 940MX",
          "Nvidia GeForce 940MX",
          "Nvidia GeForce 940MX",
          "Nvidia GeForce 940MX",
          "Nvidia GeForce 940MX",
          "Nvidia GeForce 940MX",
          "Nvidia GeForce 940MX",
          "Nvidia GeForce 940MX",
          "Nvidia GeForce 940MX",
          "Nvidia GeForce 940MX",
          "Nvidia GeForce 940MX",
          "Nvidia GeForce 940MX",
          "Nvidia GeForce 940MX",
          "Nvidia GeForce 940MX",
          "Nvidia GeForce 940MX",
          "Nvidia GeForce 940MX",
          "Nvidia GeForce 940MX",
          "Nvidia GeForce 940MX",
          "Nvidia GeForce 940MX",
          "Nvidia GeForce 940MX",
          "Nvidia GeForce 940MX",
          "Nvidia GeForce 940MX",
          "Nvidia GeForce 940MX",
          "Nvidia GeForce 940MX"
         ],
         "xaxis": "x",
         "yaxis": "y"
        },
        {
         "alignmentgroup": "True",
         "bingroup": "x",
         "hovertemplate": "GPU=%{x}<br>count=%{y}<extra></extra>",
         "legendgroup": "Intel HD Graphics 400",
         "marker": {
          "color": "#19d3f3",
          "pattern": {
           "shape": ""
          }
         },
         "name": "Intel HD Graphics 400",
         "offsetgroup": "Intel HD Graphics 400",
         "orientation": "v",
         "showlegend": true,
         "type": "histogram",
         "x": [
          "Intel HD Graphics 400",
          "Intel HD Graphics 400",
          "Intel HD Graphics 400",
          "Intel HD Graphics 400",
          "Intel HD Graphics 400",
          "Intel HD Graphics 400",
          "Intel HD Graphics 400",
          "Intel HD Graphics 400",
          "Intel HD Graphics 400",
          "Intel HD Graphics 400",
          "Intel HD Graphics 400",
          "Intel HD Graphics 400",
          "Intel HD Graphics 400",
          "Intel HD Graphics 400",
          "Intel HD Graphics 400",
          "Intel HD Graphics 400",
          "Intel HD Graphics 400",
          "Intel HD Graphics 400",
          "Intel HD Graphics 400",
          "Intel HD Graphics 400",
          "Intel HD Graphics 400",
          "Intel HD Graphics 400",
          "Intel HD Graphics 400",
          "Intel HD Graphics 400",
          "Intel HD Graphics 400",
          "Intel HD Graphics 400",
          "Intel HD Graphics 400",
          "Intel HD Graphics 400",
          "Intel HD Graphics 400",
          "Intel HD Graphics 400",
          "Intel HD Graphics 400",
          "Intel HD Graphics 400",
          "Intel HD Graphics 400"
         ],
         "xaxis": "x",
         "yaxis": "y"
        },
        {
         "alignmentgroup": "True",
         "bingroup": "x",
         "hovertemplate": "GPU=%{x}<br>count=%{y}<extra></extra>",
         "legendgroup": "Nvidia GeForce GTX 1050",
         "marker": {
          "color": "#FF6692",
          "pattern": {
           "shape": ""
          }
         },
         "name": "Nvidia GeForce GTX 1050",
         "offsetgroup": "Nvidia GeForce GTX 1050",
         "orientation": "v",
         "showlegend": true,
         "type": "histogram",
         "x": [
          "Nvidia GeForce GTX 1050",
          "Nvidia GeForce GTX 1050",
          "Nvidia GeForce GTX 1050",
          "Nvidia GeForce GTX 1050",
          "Nvidia GeForce GTX 1050",
          "Nvidia GeForce GTX 1050",
          "Nvidia GeForce GTX 1050",
          "Nvidia GeForce GTX 1050",
          "Nvidia GeForce GTX 1050",
          "Nvidia GeForce GTX 1050",
          "Nvidia GeForce GTX 1050",
          "Nvidia GeForce GTX 1050",
          "Nvidia GeForce GTX 1050",
          "Nvidia GeForce GTX 1050",
          "Nvidia GeForce GTX 1050",
          "Nvidia GeForce GTX 1050",
          "Nvidia GeForce GTX 1050",
          "Nvidia GeForce GTX 1050",
          "Nvidia GeForce GTX 1050",
          "Nvidia GeForce GTX 1050",
          "Nvidia GeForce GTX 1050",
          "Nvidia GeForce GTX 1050",
          "Nvidia GeForce GTX 1050",
          "Nvidia GeForce GTX 1050",
          "Nvidia GeForce GTX 1050",
          "Nvidia GeForce GTX 1050",
          "Nvidia GeForce GTX 1050",
          "Nvidia GeForce GTX 1050",
          "Nvidia GeForce GTX 1050",
          "Nvidia GeForce GTX 1050",
          "Nvidia GeForce GTX 1050",
          "Nvidia GeForce GTX 1050",
          "Nvidia GeForce GTX 1050",
          "Nvidia GeForce GTX 1050",
          "Nvidia GeForce GTX 1050",
          "Nvidia GeForce GTX 1050",
          "Nvidia GeForce GTX 1050",
          "Nvidia GeForce GTX 1050",
          "Nvidia GeForce GTX 1050",
          "Nvidia GeForce GTX 1050",
          "Nvidia GeForce GTX 1050",
          "Nvidia GeForce GTX 1050",
          "Nvidia GeForce GTX 1050",
          "Nvidia GeForce GTX 1050",
          "Nvidia GeForce GTX 1050",
          "Nvidia GeForce GTX 1050",
          "Nvidia GeForce GTX 1050",
          "Nvidia GeForce GTX 1050",
          "Nvidia GeForce GTX 1050",
          "Nvidia GeForce GTX 1050",
          "Nvidia GeForce GTX 1050",
          "Nvidia GeForce GTX 1050",
          "Nvidia GeForce GTX 1050",
          "Nvidia GeForce GTX 1050",
          "Nvidia GeForce GTX 1050",
          "Nvidia GeForce GTX 1050",
          "Nvidia GeForce GTX 1050",
          "Nvidia GeForce GTX 1050",
          "Nvidia GeForce GTX 1050",
          "Nvidia GeForce GTX 1050",
          "Nvidia GeForce GTX 1050",
          "Nvidia GeForce GTX 1050",
          "Nvidia GeForce GTX 1050",
          "Nvidia GeForce GTX 1050",
          "Nvidia GeForce GTX 1050",
          "Nvidia GeForce GTX 1050"
         ],
         "xaxis": "x",
         "yaxis": "y"
        },
        {
         "alignmentgroup": "True",
         "bingroup": "x",
         "hovertemplate": "GPU=%{x}<br>count=%{y}<extra></extra>",
         "legendgroup": "AMD Radeon R2",
         "marker": {
          "color": "#B6E880",
          "pattern": {
           "shape": ""
          }
         },
         "name": "AMD Radeon R2",
         "offsetgroup": "AMD Radeon R2",
         "orientation": "v",
         "showlegend": true,
         "type": "histogram",
         "x": [
          "AMD Radeon R2",
          "AMD Radeon R2",
          "AMD Radeon R2",
          "AMD Radeon R2",
          "AMD Radeon R2"
         ],
         "xaxis": "x",
         "yaxis": "y"
        },
        {
         "alignmentgroup": "True",
         "bingroup": "x",
         "hovertemplate": "GPU=%{x}<br>count=%{y}<extra></extra>",
         "legendgroup": "AMD Radeon 530",
         "marker": {
          "color": "#FF97FF",
          "pattern": {
           "shape": ""
          }
         },
         "name": "AMD Radeon 530",
         "offsetgroup": "AMD Radeon 530",
         "orientation": "v",
         "showlegend": true,
         "type": "histogram",
         "x": [
          "AMD Radeon 530",
          "AMD Radeon 530",
          "AMD Radeon 530",
          "AMD Radeon 530",
          "AMD Radeon 530",
          "AMD Radeon 530",
          "AMD Radeon 530",
          "AMD Radeon 530",
          "AMD Radeon 530",
          "AMD Radeon 530",
          "AMD Radeon 530",
          "AMD Radeon 530",
          "AMD Radeon 530",
          "AMD Radeon 530",
          "AMD Radeon 530",
          "AMD Radeon 530",
          "AMD Radeon 530",
          "AMD Radeon 530",
          "AMD Radeon 530",
          "AMD Radeon 530",
          "AMD Radeon 530",
          "AMD Radeon 530",
          "AMD Radeon 530",
          "AMD Radeon 530",
          "AMD Radeon 530",
          "AMD Radeon 530",
          "AMD Radeon 530",
          "AMD Radeon 530",
          "AMD Radeon 530",
          "AMD Radeon 530",
          "AMD Radeon 530",
          "AMD Radeon 530",
          "AMD Radeon 530",
          "AMD Radeon 530",
          "AMD Radeon 530",
          "AMD Radeon 530",
          "AMD Radeon 530",
          "AMD Radeon 530",
          "AMD Radeon 530",
          "AMD Radeon 530",
          "AMD Radeon 530"
         ],
         "xaxis": "x",
         "yaxis": "y"
        },
        {
         "alignmentgroup": "True",
         "bingroup": "x",
         "hovertemplate": "GPU=%{x}<br>count=%{y}<extra></extra>",
         "legendgroup": "Nvidia GeForce 930MX",
         "marker": {
          "color": "#FECB52",
          "pattern": {
           "shape": ""
          }
         },
         "name": "Nvidia GeForce 930MX",
         "offsetgroup": "Nvidia GeForce 930MX",
         "orientation": "v",
         "showlegend": true,
         "type": "histogram",
         "x": [
          "Nvidia GeForce 930MX",
          "Nvidia GeForce 930MX",
          "Nvidia GeForce 930MX",
          "Nvidia GeForce 930MX",
          "Nvidia GeForce 930MX",
          "Nvidia GeForce 930MX",
          "Nvidia GeForce 930MX",
          "Nvidia GeForce 930MX",
          "Nvidia GeForce 930MX",
          "Nvidia GeForce 930MX",
          "Nvidia GeForce 930MX",
          "Nvidia GeForce 930MX",
          "Nvidia GeForce 930MX",
          "Nvidia GeForce 930MX",
          "Nvidia GeForce 930MX",
          "Nvidia GeForce 930MX",
          "Nvidia GeForce 930MX",
          "Nvidia GeForce 930MX",
          "Nvidia GeForce 930MX",
          "Nvidia GeForce 930MX"
         ],
         "xaxis": "x",
         "yaxis": "y"
        },
        {
         "alignmentgroup": "True",
         "bingroup": "x",
         "hovertemplate": "GPU=%{x}<br>count=%{y}<extra></extra>",
         "legendgroup": "Intel HD Graphics",
         "marker": {
          "color": "#636efa",
          "pattern": {
           "shape": ""
          }
         },
         "name": "Intel HD Graphics",
         "offsetgroup": "Intel HD Graphics",
         "orientation": "v",
         "showlegend": true,
         "type": "histogram",
         "x": [
          "Intel HD Graphics",
          "Intel HD Graphics",
          "Intel HD Graphics",
          "Intel HD Graphics",
          "Intel HD Graphics",
          "Intel HD Graphics",
          "Intel HD Graphics",
          "Intel HD Graphics",
          "Intel HD Graphics",
          "Intel HD Graphics",
          "Intel HD Graphics",
          "Intel HD Graphics",
          "Intel HD Graphics",
          "Intel HD Graphics",
          "Intel HD Graphics",
          "Intel HD Graphics",
          "Intel HD Graphics",
          "Intel HD Graphics",
          "Intel HD Graphics",
          "Intel HD Graphics",
          "Intel HD Graphics",
          "Intel HD Graphics",
          "Intel HD Graphics"
         ],
         "xaxis": "x",
         "yaxis": "y"
        },
        {
         "alignmentgroup": "True",
         "bingroup": "x",
         "hovertemplate": "GPU=%{x}<br>count=%{y}<extra></extra>",
         "legendgroup": "Intel HD Graphics 500",
         "marker": {
          "color": "#EF553B",
          "pattern": {
           "shape": ""
          }
         },
         "name": "Intel HD Graphics 500",
         "offsetgroup": "Intel HD Graphics 500",
         "orientation": "v",
         "showlegend": true,
         "type": "histogram",
         "x": [
          "Intel HD Graphics 500",
          "Intel HD Graphics 500",
          "Intel HD Graphics 500",
          "Intel HD Graphics 500",
          "Intel HD Graphics 500",
          "Intel HD Graphics 500",
          "Intel HD Graphics 500",
          "Intel HD Graphics 500",
          "Intel HD Graphics 500",
          "Intel HD Graphics 500",
          "Intel HD Graphics 500",
          "Intel HD Graphics 500",
          "Intel HD Graphics 500",
          "Intel HD Graphics 500",
          "Intel HD Graphics 500",
          "Intel HD Graphics 500",
          "Intel HD Graphics 500",
          "Intel HD Graphics 500",
          "Intel HD Graphics 500",
          "Intel HD Graphics 500",
          "Intel HD Graphics 500",
          "Intel HD Graphics 500",
          "Intel HD Graphics 500",
          "Intel HD Graphics 500",
          "Intel HD Graphics 500",
          "Intel HD Graphics 500",
          "Intel HD Graphics 500",
          "Intel HD Graphics 500",
          "Intel HD Graphics 500",
          "Intel HD Graphics 500",
          "Intel HD Graphics 500",
          "Intel HD Graphics 500",
          "Intel HD Graphics 500",
          "Intel HD Graphics 500",
          "Intel HD Graphics 500",
          "Intel HD Graphics 500",
          "Intel HD Graphics 500",
          "Intel HD Graphics 500",
          "Intel HD Graphics 500"
         ],
         "xaxis": "x",
         "yaxis": "y"
        },
        {
         "alignmentgroup": "True",
         "bingroup": "x",
         "hovertemplate": "GPU=%{x}<br>count=%{y}<extra></extra>",
         "legendgroup": "Nvidia GeForce 930MX ",
         "marker": {
          "color": "#00cc96",
          "pattern": {
           "shape": ""
          }
         },
         "name": "Nvidia GeForce 930MX ",
         "offsetgroup": "Nvidia GeForce 930MX ",
         "orientation": "v",
         "showlegend": true,
         "type": "histogram",
         "x": [
          "Nvidia GeForce 930MX ",
          "Nvidia GeForce 930MX ",
          "Nvidia GeForce 930MX ",
          "Nvidia GeForce 930MX ",
          "Nvidia GeForce 930MX "
         ],
         "xaxis": "x",
         "yaxis": "y"
        },
        {
         "alignmentgroup": "True",
         "bingroup": "x",
         "hovertemplate": "GPU=%{x}<br>count=%{y}<extra></extra>",
         "legendgroup": "Nvidia GeForce GTX 1060",
         "marker": {
          "color": "#ab63fa",
          "pattern": {
           "shape": ""
          }
         },
         "name": "Nvidia GeForce GTX 1060",
         "offsetgroup": "Nvidia GeForce GTX 1060",
         "orientation": "v",
         "showlegend": true,
         "type": "histogram",
         "x": [
          "Nvidia GeForce GTX 1060",
          "Nvidia GeForce GTX 1060",
          "Nvidia GeForce GTX 1060",
          "Nvidia GeForce GTX 1060",
          "Nvidia GeForce GTX 1060",
          "Nvidia GeForce GTX 1060",
          "Nvidia GeForce GTX 1060",
          "Nvidia GeForce GTX 1060",
          "Nvidia GeForce GTX 1060",
          "Nvidia GeForce GTX 1060",
          "Nvidia GeForce GTX 1060",
          "Nvidia GeForce GTX 1060",
          "Nvidia GeForce GTX 1060",
          "Nvidia GeForce GTX 1060",
          "Nvidia GeForce GTX 1060",
          "Nvidia GeForce GTX 1060",
          "Nvidia GeForce GTX 1060",
          "Nvidia GeForce GTX 1060",
          "Nvidia GeForce GTX 1060",
          "Nvidia GeForce GTX 1060",
          "Nvidia GeForce GTX 1060",
          "Nvidia GeForce GTX 1060",
          "Nvidia GeForce GTX 1060",
          "Nvidia GeForce GTX 1060",
          "Nvidia GeForce GTX 1060",
          "Nvidia GeForce GTX 1060",
          "Nvidia GeForce GTX 1060",
          "Nvidia GeForce GTX 1060",
          "Nvidia GeForce GTX 1060",
          "Nvidia GeForce GTX 1060",
          "Nvidia GeForce GTX 1060",
          "Nvidia GeForce GTX 1060",
          "Nvidia GeForce GTX 1060",
          "Nvidia GeForce GTX 1060",
          "Nvidia GeForce GTX 1060",
          "Nvidia GeForce GTX 1060",
          "Nvidia GeForce GTX 1060",
          "Nvidia GeForce GTX 1060",
          "Nvidia GeForce GTX 1060",
          "Nvidia GeForce GTX 1060",
          "Nvidia GeForce GTX 1060",
          "Nvidia GeForce GTX 1060",
          "Nvidia GeForce GTX 1060",
          "Nvidia GeForce GTX 1060",
          "Nvidia GeForce GTX 1060",
          "Nvidia GeForce GTX 1060",
          "Nvidia GeForce GTX 1060",
          "Nvidia GeForce GTX 1060"
         ],
         "xaxis": "x",
         "yaxis": "y"
        },
        {
         "alignmentgroup": "True",
         "bingroup": "x",
         "hovertemplate": "GPU=%{x}<br>count=%{y}<extra></extra>",
         "legendgroup": "Nvidia GeForce 150MX",
         "marker": {
          "color": "#FFA15A",
          "pattern": {
           "shape": ""
          }
         },
         "name": "Nvidia GeForce 150MX",
         "offsetgroup": "Nvidia GeForce 150MX",
         "orientation": "v",
         "showlegend": true,
         "type": "histogram",
         "x": [
          "Nvidia GeForce 150MX",
          "Nvidia GeForce 150MX",
          "Nvidia GeForce 150MX"
         ],
         "xaxis": "x",
         "yaxis": "y"
        },
        {
         "alignmentgroup": "True",
         "bingroup": "x",
         "hovertemplate": "GPU=%{x}<br>count=%{y}<extra></extra>",
         "legendgroup": "Intel Iris Graphics 540",
         "marker": {
          "color": "#19d3f3",
          "pattern": {
           "shape": ""
          }
         },
         "name": "Intel Iris Graphics 540",
         "offsetgroup": "Intel Iris Graphics 540",
         "orientation": "v",
         "showlegend": true,
         "type": "histogram",
         "x": [
          "Intel Iris Graphics 540",
          "Intel Iris Graphics 540"
         ],
         "xaxis": "x",
         "yaxis": "y"
        },
        {
         "alignmentgroup": "True",
         "bingroup": "x",
         "hovertemplate": "GPU=%{x}<br>count=%{y}<extra></extra>",
         "legendgroup": "AMD Radeon RX 580",
         "marker": {
          "color": "#FF6692",
          "pattern": {
           "shape": ""
          }
         },
         "name": "AMD Radeon RX 580",
         "offsetgroup": "AMD Radeon RX 580",
         "orientation": "v",
         "showlegend": true,
         "type": "histogram",
         "x": [
          "AMD Radeon RX 580",
          "AMD Radeon RX 580",
          "AMD Radeon RX 580",
          "AMD Radeon RX 580",
          "AMD Radeon RX 580"
         ],
         "xaxis": "x",
         "yaxis": "y"
        },
        {
         "alignmentgroup": "True",
         "bingroup": "x",
         "hovertemplate": "GPU=%{x}<br>count=%{y}<extra></extra>",
         "legendgroup": "Nvidia GeForce 920MX",
         "marker": {
          "color": "#B6E880",
          "pattern": {
           "shape": ""
          }
         },
         "name": "Nvidia GeForce 920MX",
         "offsetgroup": "Nvidia GeForce 920MX",
         "orientation": "v",
         "showlegend": true,
         "type": "histogram",
         "x": [
          "Nvidia GeForce 920MX",
          "Nvidia GeForce 920MX",
          "Nvidia GeForce 920MX",
          "Nvidia GeForce 920MX",
          "Nvidia GeForce 920MX",
          "Nvidia GeForce 920MX",
          "Nvidia GeForce 920MX",
          "Nvidia GeForce 920MX",
          "Nvidia GeForce 920MX",
          "Nvidia GeForce 920MX",
          "Nvidia GeForce 920MX",
          "Nvidia GeForce 920MX",
          "Nvidia GeForce 920MX"
         ],
         "xaxis": "x",
         "yaxis": "y"
        },
        {
         "alignmentgroup": "True",
         "bingroup": "x",
         "hovertemplate": "GPU=%{x}<br>count=%{y}<extra></extra>",
         "legendgroup": "AMD Radeon R4 Graphics",
         "marker": {
          "color": "#FF97FF",
          "pattern": {
           "shape": ""
          }
         },
         "name": "AMD Radeon R4 Graphics",
         "offsetgroup": "AMD Radeon R4 Graphics",
         "orientation": "v",
         "showlegend": true,
         "type": "histogram",
         "x": [
          "AMD Radeon R4 Graphics",
          "AMD Radeon R4 Graphics",
          "AMD Radeon R4 Graphics",
          "AMD Radeon R4 Graphics",
          "AMD Radeon R4 Graphics"
         ],
         "xaxis": "x",
         "yaxis": "y"
        },
        {
         "alignmentgroup": "True",
         "bingroup": "x",
         "hovertemplate": "GPU=%{x}<br>count=%{y}<extra></extra>",
         "legendgroup": "AMD Radeon 520",
         "marker": {
          "color": "#FECB52",
          "pattern": {
           "shape": ""
          }
         },
         "name": "AMD Radeon 520",
         "offsetgroup": "AMD Radeon 520",
         "orientation": "v",
         "showlegend": true,
         "type": "histogram",
         "x": [
          "AMD Radeon 520",
          "AMD Radeon 520",
          "AMD Radeon 520",
          "AMD Radeon 520",
          "AMD Radeon 520",
          "AMD Radeon 520",
          "AMD Radeon 520",
          "AMD Radeon 520",
          "AMD Radeon 520",
          "AMD Radeon 520",
          "AMD Radeon 520",
          "AMD Radeon 520",
          "AMD Radeon 520",
          "AMD Radeon 520",
          "AMD Radeon 520",
          "AMD Radeon 520",
          "AMD Radeon 520"
         ],
         "xaxis": "x",
         "yaxis": "y"
        },
        {
         "alignmentgroup": "True",
         "bingroup": "x",
         "hovertemplate": "GPU=%{x}<br>count=%{y}<extra></extra>",
         "legendgroup": "Nvidia GeForce GTX 1070",
         "marker": {
          "color": "#636efa",
          "pattern": {
           "shape": ""
          }
         },
         "name": "Nvidia GeForce GTX 1070",
         "offsetgroup": "Nvidia GeForce GTX 1070",
         "orientation": "v",
         "showlegend": true,
         "type": "histogram",
         "x": [
          "Nvidia GeForce GTX 1070",
          "Nvidia GeForce GTX 1070",
          "Nvidia GeForce GTX 1070",
          "Nvidia GeForce GTX 1070",
          "Nvidia GeForce GTX 1070",
          "Nvidia GeForce GTX 1070",
          "Nvidia GeForce GTX 1070",
          "Nvidia GeForce GTX 1070",
          "Nvidia GeForce GTX 1070",
          "Nvidia GeForce GTX 1070",
          "Nvidia GeForce GTX 1070",
          "Nvidia GeForce GTX 1070",
          "Nvidia GeForce GTX 1070",
          "Nvidia GeForce GTX 1070",
          "Nvidia GeForce GTX 1070",
          "Nvidia GeForce GTX 1070",
          "Nvidia GeForce GTX 1070",
          "Nvidia GeForce GTX 1070",
          "Nvidia GeForce GTX 1070",
          "Nvidia GeForce GTX 1070",
          "Nvidia GeForce GTX 1070",
          "Nvidia GeForce GTX 1070",
          "Nvidia GeForce GTX 1070",
          "Nvidia GeForce GTX 1070",
          "Nvidia GeForce GTX 1070",
          "Nvidia GeForce GTX 1070",
          "Nvidia GeForce GTX 1070",
          "Nvidia GeForce GTX 1070",
          "Nvidia GeForce GTX 1070",
          "Nvidia GeForce GTX 1070"
         ],
         "xaxis": "x",
         "yaxis": "y"
        },
        {
         "alignmentgroup": "True",
         "bingroup": "x",
         "hovertemplate": "GPU=%{x}<br>count=%{y}<extra></extra>",
         "legendgroup": "Nvidia GeForce GTX 1050 Ti",
         "marker": {
          "color": "#EF553B",
          "pattern": {
           "shape": ""
          }
         },
         "name": "Nvidia GeForce GTX 1050 Ti",
         "offsetgroup": "Nvidia GeForce GTX 1050 Ti",
         "orientation": "v",
         "showlegend": true,
         "type": "histogram",
         "x": [
          "Nvidia GeForce GTX 1050 Ti",
          "Nvidia GeForce GTX 1050 Ti",
          "Nvidia GeForce GTX 1050 Ti",
          "Nvidia GeForce GTX 1050 Ti",
          "Nvidia GeForce GTX 1050 Ti",
          "Nvidia GeForce GTX 1050 Ti",
          "Nvidia GeForce GTX 1050 Ti",
          "Nvidia GeForce GTX 1050 Ti",
          "Nvidia GeForce GTX 1050 Ti",
          "Nvidia GeForce GTX 1050 Ti",
          "Nvidia GeForce GTX 1050 Ti",
          "Nvidia GeForce GTX 1050 Ti",
          "Nvidia GeForce GTX 1050 Ti",
          "Nvidia GeForce GTX 1050 Ti",
          "Nvidia GeForce GTX 1050 Ti",
          "Nvidia GeForce GTX 1050 Ti",
          "Nvidia GeForce GTX 1050 Ti",
          "Nvidia GeForce GTX 1050 Ti",
          "Nvidia GeForce GTX 1050 Ti",
          "Nvidia GeForce GTX 1050 Ti",
          "Nvidia GeForce GTX 1050 Ti",
          "Nvidia GeForce GTX 1050 Ti",
          "Nvidia GeForce GTX 1050 Ti",
          "Nvidia GeForce GTX 1050 Ti",
          "Nvidia GeForce GTX 1050 Ti",
          "Nvidia GeForce GTX 1050 Ti",
          "Nvidia GeForce GTX 1050 Ti",
          "Nvidia GeForce GTX 1050 Ti"
         ],
         "xaxis": "x",
         "yaxis": "y"
        },
        {
         "alignmentgroup": "True",
         "bingroup": "x",
         "hovertemplate": "GPU=%{x}<br>count=%{y}<extra></extra>",
         "legendgroup": "Nvidia GeForce MX130",
         "marker": {
          "color": "#00cc96",
          "pattern": {
           "shape": ""
          }
         },
         "name": "Nvidia GeForce MX130",
         "offsetgroup": "Nvidia GeForce MX130",
         "orientation": "v",
         "showlegend": true,
         "type": "histogram",
         "x": [
          "Nvidia GeForce MX130",
          "Nvidia GeForce MX130",
          "Nvidia GeForce MX130",
          "Nvidia GeForce MX130",
          "Nvidia GeForce MX130",
          "Nvidia GeForce MX130"
         ],
         "xaxis": "x",
         "yaxis": "y"
        },
        {
         "alignmentgroup": "True",
         "bingroup": "x",
         "hovertemplate": "GPU=%{x}<br>count=%{y}<extra></extra>",
         "legendgroup": "AMD R4 Graphics",
         "marker": {
          "color": "#ab63fa",
          "pattern": {
           "shape": ""
          }
         },
         "name": "AMD R4 Graphics",
         "offsetgroup": "AMD R4 Graphics",
         "orientation": "v",
         "showlegend": true,
         "type": "histogram",
         "x": [
          "AMD R4 Graphics"
         ],
         "xaxis": "x",
         "yaxis": "y"
        },
        {
         "alignmentgroup": "True",
         "bingroup": "x",
         "hovertemplate": "GPU=%{x}<br>count=%{y}<extra></extra>",
         "legendgroup": "Nvidia GeForce GTX 940MX",
         "marker": {
          "color": "#FFA15A",
          "pattern": {
           "shape": ""
          }
         },
         "name": "Nvidia GeForce GTX 940MX",
         "offsetgroup": "Nvidia GeForce GTX 940MX",
         "orientation": "v",
         "showlegend": true,
         "type": "histogram",
         "x": [
          "Nvidia GeForce GTX 940MX",
          "Nvidia GeForce GTX 940MX",
          "Nvidia GeForce GTX 940MX",
          "Nvidia GeForce GTX 940MX"
         ],
         "xaxis": "x",
         "yaxis": "y"
        },
        {
         "alignmentgroup": "True",
         "bingroup": "x",
         "hovertemplate": "GPU=%{x}<br>count=%{y}<extra></extra>",
         "legendgroup": "AMD Radeon RX 560",
         "marker": {
          "color": "#19d3f3",
          "pattern": {
           "shape": ""
          }
         },
         "name": "AMD Radeon RX 560",
         "offsetgroup": "AMD Radeon RX 560",
         "orientation": "v",
         "showlegend": true,
         "type": "histogram",
         "x": [
          "AMD Radeon RX 560"
         ],
         "xaxis": "x",
         "yaxis": "y"
        },
        {
         "alignmentgroup": "True",
         "bingroup": "x",
         "hovertemplate": "GPU=%{x}<br>count=%{y}<extra></extra>",
         "legendgroup": "Nvidia GeForce 920M",
         "marker": {
          "color": "#FF6692",
          "pattern": {
           "shape": ""
          }
         },
         "name": "Nvidia GeForce 920M",
         "offsetgroup": "Nvidia GeForce 920M",
         "orientation": "v",
         "showlegend": true,
         "type": "histogram",
         "x": [
          "Nvidia GeForce 920M",
          "Nvidia GeForce 920M",
          "Nvidia GeForce 920M",
          "Nvidia GeForce 920M"
         ],
         "xaxis": "x",
         "yaxis": "y"
        },
        {
         "alignmentgroup": "True",
         "bingroup": "x",
         "hovertemplate": "GPU=%{x}<br>count=%{y}<extra></extra>",
         "legendgroup": "AMD Radeon R7 M445",
         "marker": {
          "color": "#B6E880",
          "pattern": {
           "shape": ""
          }
         },
         "name": "AMD Radeon R7 M445",
         "offsetgroup": "AMD Radeon R7 M445",
         "orientation": "v",
         "showlegend": true,
         "type": "histogram",
         "x": [
          "AMD Radeon R7 M445",
          "AMD Radeon R7 M445",
          "AMD Radeon R7 M445",
          "AMD Radeon R7 M445",
          "AMD Radeon R7 M445",
          "AMD Radeon R7 M445",
          "AMD Radeon R7 M445",
          "AMD Radeon R7 M445",
          "AMD Radeon R7 M445",
          "AMD Radeon R7 M445",
          "AMD Radeon R7 M445",
          "AMD Radeon R7 M445",
          "AMD Radeon R7 M445",
          "AMD Radeon R7 M445"
         ],
         "xaxis": "x",
         "yaxis": "y"
        },
        {
         "alignmentgroup": "True",
         "bingroup": "x",
         "hovertemplate": "GPU=%{x}<br>count=%{y}<extra></extra>",
         "legendgroup": "AMD Radeon RX 550",
         "marker": {
          "color": "#FF97FF",
          "pattern": {
           "shape": ""
          }
         },
         "name": "AMD Radeon RX 550",
         "offsetgroup": "AMD Radeon RX 550",
         "orientation": "v",
         "showlegend": true,
         "type": "histogram",
         "x": [
          "AMD Radeon RX 550",
          "AMD Radeon RX 550",
          "AMD Radeon RX 550",
          "AMD Radeon RX 550"
         ],
         "xaxis": "x",
         "yaxis": "y"
        },
        {
         "alignmentgroup": "True",
         "bingroup": "x",
         "hovertemplate": "GPU=%{x}<br>count=%{y}<extra></extra>",
         "legendgroup": "Nvidia GeForce GTX 1050M",
         "marker": {
          "color": "#FECB52",
          "pattern": {
           "shape": ""
          }
         },
         "name": "Nvidia GeForce GTX 1050M",
         "offsetgroup": "Nvidia GeForce GTX 1050M",
         "orientation": "v",
         "showlegend": true,
         "type": "histogram",
         "x": [
          "Nvidia GeForce GTX 1050M",
          "Nvidia GeForce GTX 1050M",
          "Nvidia GeForce GTX 1050M"
         ],
         "xaxis": "x",
         "yaxis": "y"
        },
        {
         "alignmentgroup": "True",
         "bingroup": "x",
         "hovertemplate": "GPU=%{x}<br>count=%{y}<extra></extra>",
         "legendgroup": "Intel HD Graphics 515",
         "marker": {
          "color": "#636efa",
          "pattern": {
           "shape": ""
          }
         },
         "name": "Intel HD Graphics 515",
         "offsetgroup": "Intel HD Graphics 515",
         "orientation": "v",
         "showlegend": true,
         "type": "histogram",
         "x": [
          "Intel HD Graphics 515",
          "Intel HD Graphics 515",
          "Intel HD Graphics 515",
          "Intel HD Graphics 515",
          "Intel HD Graphics 515",
          "Intel HD Graphics 515",
          "Intel HD Graphics 515",
          "Intel HD Graphics 515",
          "Intel HD Graphics 515",
          "Intel HD Graphics 515",
          "Intel HD Graphics 515",
          "Intel HD Graphics 515",
          "Intel HD Graphics 515"
         ],
         "xaxis": "x",
         "yaxis": "y"
        },
        {
         "alignmentgroup": "True",
         "bingroup": "x",
         "hovertemplate": "GPU=%{x}<br>count=%{y}<extra></extra>",
         "legendgroup": "AMD Radeon R5 M420",
         "marker": {
          "color": "#EF553B",
          "pattern": {
           "shape": ""
          }
         },
         "name": "AMD Radeon R5 M420",
         "offsetgroup": "AMD Radeon R5 M420",
         "orientation": "v",
         "showlegend": true,
         "type": "histogram",
         "x": [
          "AMD Radeon R5 M420",
          "AMD Radeon R5 M420",
          "AMD Radeon R5 M420",
          "AMD Radeon R5 M420",
          "AMD Radeon R5 M420",
          "AMD Radeon R5 M420",
          "AMD Radeon R5 M420",
          "AMD Radeon R5 M420"
         ],
         "xaxis": "x",
         "yaxis": "y"
        },
        {
         "alignmentgroup": "True",
         "bingroup": "x",
         "hovertemplate": "GPU=%{x}<br>count=%{y}<extra></extra>",
         "legendgroup": "Intel HD Graphics 505",
         "marker": {
          "color": "#00cc96",
          "pattern": {
           "shape": ""
          }
         },
         "name": "Intel HD Graphics 505",
         "offsetgroup": "Intel HD Graphics 505",
         "orientation": "v",
         "showlegend": true,
         "type": "histogram",
         "x": [
          "Intel HD Graphics 505",
          "Intel HD Graphics 505",
          "Intel HD Graphics 505",
          "Intel HD Graphics 505",
          "Intel HD Graphics 505",
          "Intel HD Graphics 505",
          "Intel HD Graphics 505",
          "Intel HD Graphics 505",
          "Intel HD Graphics 505",
          "Intel HD Graphics 505",
          "Intel HD Graphics 505",
          "Intel HD Graphics 505"
         ],
         "xaxis": "x",
         "yaxis": "y"
        },
        {
         "alignmentgroup": "True",
         "bingroup": "x",
         "hovertemplate": "GPU=%{x}<br>count=%{y}<extra></extra>",
         "legendgroup": "Nvidia GTX 980 SLI",
         "marker": {
          "color": "#ab63fa",
          "pattern": {
           "shape": ""
          }
         },
         "name": "Nvidia GTX 980 SLI",
         "offsetgroup": "Nvidia GTX 980 SLI",
         "orientation": "v",
         "showlegend": true,
         "type": "histogram",
         "x": [
          "Nvidia GTX 980 SLI"
         ],
         "xaxis": "x",
         "yaxis": "y"
        },
        {
         "alignmentgroup": "True",
         "bingroup": "x",
         "hovertemplate": "GPU=%{x}<br>count=%{y}<extra></extra>",
         "legendgroup": "AMD R17M-M1-70",
         "marker": {
          "color": "#FFA15A",
          "pattern": {
           "shape": ""
          }
         },
         "name": "AMD R17M-M1-70",
         "offsetgroup": "AMD R17M-M1-70",
         "orientation": "v",
         "showlegend": true,
         "type": "histogram",
         "x": [
          "AMD R17M-M1-70"
         ],
         "xaxis": "x",
         "yaxis": "y"
        },
        {
         "alignmentgroup": "True",
         "bingroup": "x",
         "hovertemplate": "GPU=%{x}<br>count=%{y}<extra></extra>",
         "legendgroup": "Nvidia GeForce GTX 1080",
         "marker": {
          "color": "#19d3f3",
          "pattern": {
           "shape": ""
          }
         },
         "name": "Nvidia GeForce GTX 1080",
         "offsetgroup": "Nvidia GeForce GTX 1080",
         "orientation": "v",
         "showlegend": true,
         "type": "histogram",
         "x": [
          "Nvidia GeForce GTX 1080",
          "Nvidia GeForce GTX 1080",
          "Nvidia GeForce GTX 1080",
          "Nvidia GeForce GTX 1080",
          "Nvidia GeForce GTX 1080",
          "Nvidia GeForce GTX 1080"
         ],
         "xaxis": "x",
         "yaxis": "y"
        },
        {
         "alignmentgroup": "True",
         "bingroup": "x",
         "hovertemplate": "GPU=%{x}<br>count=%{y}<extra></extra>",
         "legendgroup": "Nvidia Quadro M1200",
         "marker": {
          "color": "#FF6692",
          "pattern": {
           "shape": ""
          }
         },
         "name": "Nvidia Quadro M1200",
         "offsetgroup": "Nvidia Quadro M1200",
         "orientation": "v",
         "showlegend": true,
         "type": "histogram",
         "x": [
          "Nvidia Quadro M1200",
          "Nvidia Quadro M1200",
          "Nvidia Quadro M1200",
          "Nvidia Quadro M1200",
          "Nvidia Quadro M1200",
          "Nvidia Quadro M1200",
          "Nvidia Quadro M1200",
          "Nvidia Quadro M1200",
          "Nvidia Quadro M1200"
         ],
         "xaxis": "x",
         "yaxis": "y"
        },
        {
         "alignmentgroup": "True",
         "bingroup": "x",
         "hovertemplate": "GPU=%{x}<br>count=%{y}<extra></extra>",
         "legendgroup": "Nvidia GeForce 920MX ",
         "marker": {
          "color": "#B6E880",
          "pattern": {
           "shape": ""
          }
         },
         "name": "Nvidia GeForce 920MX ",
         "offsetgroup": "Nvidia GeForce 920MX ",
         "orientation": "v",
         "showlegend": true,
         "type": "histogram",
         "x": [
          "Nvidia GeForce 920MX ",
          "Nvidia GeForce 920MX ",
          "Nvidia GeForce 920MX ",
          "Nvidia GeForce 920MX ",
          "Nvidia GeForce 920MX "
         ],
         "xaxis": "x",
         "yaxis": "y"
        },
        {
         "alignmentgroup": "True",
         "bingroup": "x",
         "hovertemplate": "GPU=%{x}<br>count=%{y}<extra></extra>",
         "legendgroup": "Nvidia GeForce GTX 950M",
         "marker": {
          "color": "#FF97FF",
          "pattern": {
           "shape": ""
          }
         },
         "name": "Nvidia GeForce GTX 950M",
         "offsetgroup": "Nvidia GeForce GTX 950M",
         "orientation": "v",
         "showlegend": true,
         "type": "histogram",
         "x": [
          "Nvidia GeForce GTX 950M",
          "Nvidia GeForce GTX 950M",
          "Nvidia GeForce GTX 950M",
          "Nvidia GeForce GTX 950M",
          "Nvidia GeForce GTX 950M",
          "Nvidia GeForce GTX 950M",
          "Nvidia GeForce GTX 950M"
         ],
         "xaxis": "x",
         "yaxis": "y"
        },
        {
         "alignmentgroup": "True",
         "bingroup": "x",
         "hovertemplate": "GPU=%{x}<br>count=%{y}<extra></extra>",
         "legendgroup": "AMD FirePro W4190M ",
         "marker": {
          "color": "#FECB52",
          "pattern": {
           "shape": ""
          }
         },
         "name": "AMD FirePro W4190M ",
         "offsetgroup": "AMD FirePro W4190M ",
         "orientation": "v",
         "showlegend": true,
         "type": "histogram",
         "x": [
          "AMD FirePro W4190M ",
          "AMD FirePro W4190M "
         ],
         "xaxis": "x",
         "yaxis": "y"
        },
        {
         "alignmentgroup": "True",
         "bingroup": "x",
         "hovertemplate": "GPU=%{x}<br>count=%{y}<extra></extra>",
         "legendgroup": "Nvidia GeForce GTX 980M",
         "marker": {
          "color": "#636efa",
          "pattern": {
           "shape": ""
          }
         },
         "name": "Nvidia GeForce GTX 980M",
         "offsetgroup": "Nvidia GeForce GTX 980M",
         "orientation": "v",
         "showlegend": true,
         "type": "histogram",
         "x": [
          "Nvidia GeForce GTX 980M",
          "Nvidia GeForce GTX 980M",
          "Nvidia GeForce GTX 980M",
          "Nvidia GeForce GTX 980M",
          "Nvidia GeForce GTX 980M",
          "Nvidia GeForce GTX 980M",
          "Nvidia GeForce GTX 980M",
          "Nvidia GeForce GTX 980M",
          "Nvidia GeForce GTX 980M",
          "Nvidia GeForce GTX 980M"
         ],
         "xaxis": "x",
         "yaxis": "y"
        },
        {
         "alignmentgroup": "True",
         "bingroup": "x",
         "hovertemplate": "GPU=%{x}<br>count=%{y}<extra></extra>",
         "legendgroup": "Intel Iris Graphics 550",
         "marker": {
          "color": "#EF553B",
          "pattern": {
           "shape": ""
          }
         },
         "name": "Intel Iris Graphics 550",
         "offsetgroup": "Intel Iris Graphics 550",
         "orientation": "v",
         "showlegend": true,
         "type": "histogram",
         "x": [
          "Intel Iris Graphics 550"
         ],
         "xaxis": "x",
         "yaxis": "y"
        },
        {
         "alignmentgroup": "True",
         "bingroup": "x",
         "hovertemplate": "GPU=%{x}<br>count=%{y}<extra></extra>",
         "legendgroup": "Nvidia GeForce 930M",
         "marker": {
          "color": "#00cc96",
          "pattern": {
           "shape": ""
          }
         },
         "name": "Nvidia GeForce 930M",
         "offsetgroup": "Nvidia GeForce 930M",
         "orientation": "v",
         "showlegend": true,
         "type": "histogram",
         "x": [
          "Nvidia GeForce 930M",
          "Nvidia GeForce 930M",
          "Nvidia GeForce 930M",
          "Nvidia GeForce 930M",
          "Nvidia GeForce 930M",
          "Nvidia GeForce 930M"
         ],
         "xaxis": "x",
         "yaxis": "y"
        },
        {
         "alignmentgroup": "True",
         "bingroup": "x",
         "hovertemplate": "GPU=%{x}<br>count=%{y}<extra></extra>",
         "legendgroup": "Intel HD Graphics 630",
         "marker": {
          "color": "#ab63fa",
          "pattern": {
           "shape": ""
          }
         },
         "name": "Intel HD Graphics 630",
         "offsetgroup": "Intel HD Graphics 630",
         "orientation": "v",
         "showlegend": true,
         "type": "histogram",
         "x": [
          "Intel HD Graphics 630",
          "Intel HD Graphics 630",
          "Intel HD Graphics 630",
          "Intel HD Graphics 630"
         ],
         "xaxis": "x",
         "yaxis": "y"
        },
        {
         "alignmentgroup": "True",
         "bingroup": "x",
         "hovertemplate": "GPU=%{x}<br>count=%{y}<extra></extra>",
         "legendgroup": "AMD Radeon R5 430",
         "marker": {
          "color": "#FFA15A",
          "pattern": {
           "shape": ""
          }
         },
         "name": "AMD Radeon R5 430",
         "offsetgroup": "AMD Radeon R5 430",
         "orientation": "v",
         "showlegend": true,
         "type": "histogram",
         "x": [
          "AMD Radeon R5 430"
         ],
         "xaxis": "x",
         "yaxis": "y"
        },
        {
         "alignmentgroup": "True",
         "bingroup": "x",
         "hovertemplate": "GPU=%{x}<br>count=%{y}<extra></extra>",
         "legendgroup": "Nvidia GeForce GTX 940M",
         "marker": {
          "color": "#19d3f3",
          "pattern": {
           "shape": ""
          }
         },
         "name": "Nvidia GeForce GTX 940M",
         "offsetgroup": "Nvidia GeForce GTX 940M",
         "orientation": "v",
         "showlegend": true,
         "type": "histogram",
         "x": [
          "Nvidia GeForce GTX 940M"
         ],
         "xaxis": "x",
         "yaxis": "y"
        },
        {
         "alignmentgroup": "True",
         "bingroup": "x",
         "hovertemplate": "GPU=%{x}<br>count=%{y}<extra></extra>",
         "legendgroup": "Intel HD Graphics 510",
         "marker": {
          "color": "#FF6692",
          "pattern": {
           "shape": ""
          }
         },
         "name": "Intel HD Graphics 510",
         "offsetgroup": "Intel HD Graphics 510",
         "orientation": "v",
         "showlegend": true,
         "type": "histogram",
         "x": [
          "Intel HD Graphics 510",
          "Intel HD Graphics 510",
          "Intel HD Graphics 510",
          "Intel HD Graphics 510"
         ],
         "xaxis": "x",
         "yaxis": "y"
        },
        {
         "alignmentgroup": "True",
         "bingroup": "x",
         "hovertemplate": "GPU=%{x}<br>count=%{y}<extra></extra>",
         "legendgroup": "Intel HD Graphics 405",
         "marker": {
          "color": "#B6E880",
          "pattern": {
           "shape": ""
          }
         },
         "name": "Intel HD Graphics 405",
         "offsetgroup": "Intel HD Graphics 405",
         "orientation": "v",
         "showlegend": true,
         "type": "histogram",
         "x": [
          "Intel HD Graphics 405",
          "Intel HD Graphics 405",
          "Intel HD Graphics 405",
          "Intel HD Graphics 405",
          "Intel HD Graphics 405",
          "Intel HD Graphics 405",
          "Intel HD Graphics 405",
          "Intel HD Graphics 405",
          "Intel HD Graphics 405"
         ],
         "xaxis": "x",
         "yaxis": "y"
        },
        {
         "alignmentgroup": "True",
         "bingroup": "x",
         "hovertemplate": "GPU=%{x}<br>count=%{y}<extra></extra>",
         "legendgroup": "AMD Radeon RX 540",
         "marker": {
          "color": "#FF97FF",
          "pattern": {
           "shape": ""
          }
         },
         "name": "AMD Radeon RX 540",
         "offsetgroup": "AMD Radeon RX 540",
         "orientation": "v",
         "showlegend": true,
         "type": "histogram",
         "x": [
          "AMD Radeon RX 540",
          "AMD Radeon RX 540"
         ],
         "xaxis": "x",
         "yaxis": "y"
        },
        {
         "alignmentgroup": "True",
         "bingroup": "x",
         "hovertemplate": "GPU=%{x}<br>count=%{y}<extra></extra>",
         "legendgroup": "Nvidia GeForce GT 940MX",
         "marker": {
          "color": "#FECB52",
          "pattern": {
           "shape": ""
          }
         },
         "name": "Nvidia GeForce GT 940MX",
         "offsetgroup": "Nvidia GeForce GT 940MX",
         "orientation": "v",
         "showlegend": true,
         "type": "histogram",
         "x": [
          "Nvidia GeForce GT 940MX",
          "Nvidia GeForce GT 940MX",
          "Nvidia GeForce GT 940MX",
          "Nvidia GeForce GT 940MX",
          "Nvidia GeForce GT 940MX"
         ],
         "xaxis": "x",
         "yaxis": "y"
        },
        {
         "alignmentgroup": "True",
         "bingroup": "x",
         "hovertemplate": "GPU=%{x}<br>count=%{y}<extra></extra>",
         "legendgroup": "AMD FirePro W5130M",
         "marker": {
          "color": "#636efa",
          "pattern": {
           "shape": ""
          }
         },
         "name": "AMD FirePro W5130M",
         "offsetgroup": "AMD FirePro W5130M",
         "orientation": "v",
         "showlegend": true,
         "type": "histogram",
         "x": [
          "AMD FirePro W5130M"
         ],
         "xaxis": "x",
         "yaxis": "y"
        },
        {
         "alignmentgroup": "True",
         "bingroup": "x",
         "hovertemplate": "GPU=%{x}<br>count=%{y}<extra></extra>",
         "legendgroup": "Nvidia Quadro M2200M",
         "marker": {
          "color": "#EF553B",
          "pattern": {
           "shape": ""
          }
         },
         "name": "Nvidia Quadro M2200M",
         "offsetgroup": "Nvidia Quadro M2200M",
         "orientation": "v",
         "showlegend": true,
         "type": "histogram",
         "x": [
          "Nvidia Quadro M2200M",
          "Nvidia Quadro M2200M",
          "Nvidia Quadro M2200M"
         ],
         "xaxis": "x",
         "yaxis": "y"
        },
        {
         "alignmentgroup": "True",
         "bingroup": "x",
         "hovertemplate": "GPU=%{x}<br>count=%{y}<extra></extra>",
         "legendgroup": "AMD Radeon R4",
         "marker": {
          "color": "#00cc96",
          "pattern": {
           "shape": ""
          }
         },
         "name": "AMD Radeon R4",
         "offsetgroup": "AMD Radeon R4",
         "orientation": "v",
         "showlegend": true,
         "type": "histogram",
         "x": [
          "AMD Radeon R4",
          "AMD Radeon R4",
          "AMD Radeon R4"
         ],
         "xaxis": "x",
         "yaxis": "y"
        },
        {
         "alignmentgroup": "True",
         "bingroup": "x",
         "hovertemplate": "GPU=%{x}<br>count=%{y}<extra></extra>",
         "legendgroup": "Nvidia Quadro M620",
         "marker": {
          "color": "#ab63fa",
          "pattern": {
           "shape": ""
          }
         },
         "name": "Nvidia Quadro M620",
         "offsetgroup": "Nvidia Quadro M620",
         "orientation": "v",
         "showlegend": true,
         "type": "histogram",
         "x": [
          "Nvidia Quadro M620",
          "Nvidia Quadro M620",
          "Nvidia Quadro M620",
          "Nvidia Quadro M620",
          "Nvidia Quadro M620"
         ],
         "xaxis": "x",
         "yaxis": "y"
        },
        {
         "alignmentgroup": "True",
         "bingroup": "x",
         "hovertemplate": "GPU=%{x}<br>count=%{y}<extra></extra>",
         "legendgroup": "AMD Radeon R7 M460",
         "marker": {
          "color": "#FFA15A",
          "pattern": {
           "shape": ""
          }
         },
         "name": "AMD Radeon R7 M460",
         "offsetgroup": "AMD Radeon R7 M460",
         "orientation": "v",
         "showlegend": true,
         "type": "histogram",
         "x": [
          "AMD Radeon R7 M460",
          "AMD Radeon R7 M460"
         ],
         "xaxis": "x",
         "yaxis": "y"
        },
        {
         "alignmentgroup": "True",
         "bingroup": "x",
         "hovertemplate": "GPU=%{x}<br>count=%{y}<extra></extra>",
         "legendgroup": "Intel HD Graphics 530",
         "marker": {
          "color": "#19d3f3",
          "pattern": {
           "shape": ""
          }
         },
         "name": "Intel HD Graphics 530",
         "offsetgroup": "Intel HD Graphics 530",
         "orientation": "v",
         "showlegend": true,
         "type": "histogram",
         "x": [
          "Intel HD Graphics 530"
         ],
         "xaxis": "x",
         "yaxis": "y"
        },
        {
         "alignmentgroup": "True",
         "bingroup": "x",
         "hovertemplate": "GPU=%{x}<br>count=%{y}<extra></extra>",
         "legendgroup": "Nvidia GeForce GTX 965M",
         "marker": {
          "color": "#FF6692",
          "pattern": {
           "shape": ""
          }
         },
         "name": "Nvidia GeForce GTX 965M",
         "offsetgroup": "Nvidia GeForce GTX 965M",
         "orientation": "v",
         "showlegend": true,
         "type": "histogram",
         "x": [
          "Nvidia GeForce GTX 965M",
          "Nvidia GeForce GTX 965M",
          "Nvidia GeForce GTX 965M",
          "Nvidia GeForce GTX 965M"
         ],
         "xaxis": "x",
         "yaxis": "y"
        },
        {
         "alignmentgroup": "True",
         "bingroup": "x",
         "hovertemplate": "GPU=%{x}<br>count=%{y}<extra></extra>",
         "legendgroup": "Nvidia GeForce GTX1080",
         "marker": {
          "color": "#B6E880",
          "pattern": {
           "shape": ""
          }
         },
         "name": "Nvidia GeForce GTX1080",
         "offsetgroup": "Nvidia GeForce GTX1080",
         "orientation": "v",
         "showlegend": true,
         "type": "histogram",
         "x": [
          "Nvidia GeForce GTX1080"
         ],
         "xaxis": "x",
         "yaxis": "y"
        },
        {
         "alignmentgroup": "True",
         "bingroup": "x",
         "hovertemplate": "GPU=%{x}<br>count=%{y}<extra></extra>",
         "legendgroup": "Nvidia GeForce GTX1050 Ti",
         "marker": {
          "color": "#FF97FF",
          "pattern": {
           "shape": ""
          }
         },
         "name": "Nvidia GeForce GTX1050 Ti",
         "offsetgroup": "Nvidia GeForce GTX1050 Ti",
         "orientation": "v",
         "showlegend": true,
         "type": "histogram",
         "x": [
          "Nvidia GeForce GTX1050 Ti"
         ],
         "xaxis": "x",
         "yaxis": "y"
        },
        {
         "alignmentgroup": "True",
         "bingroup": "x",
         "hovertemplate": "GPU=%{x}<br>count=%{y}<extra></extra>",
         "legendgroup": "Nvidia GeForce GTX 960M",
         "marker": {
          "color": "#FECB52",
          "pattern": {
           "shape": ""
          }
         },
         "name": "Nvidia GeForce GTX 960M",
         "offsetgroup": "Nvidia GeForce GTX 960M",
         "orientation": "v",
         "showlegend": true,
         "type": "histogram",
         "x": [
          "Nvidia GeForce GTX 960M",
          "Nvidia GeForce GTX 960M",
          "Nvidia GeForce GTX 960M",
          "Nvidia GeForce GTX 960M",
          "Nvidia GeForce GTX 960M",
          "Nvidia GeForce GTX 960M",
          "Nvidia GeForce GTX 960M",
          "Nvidia GeForce GTX 960M",
          "Nvidia GeForce GTX 960M",
          "Nvidia GeForce GTX 960M",
          "Nvidia GeForce GTX 960M",
          "Nvidia GeForce GTX 960M"
         ],
         "xaxis": "x",
         "yaxis": "y"
        },
        {
         "alignmentgroup": "True",
         "bingroup": "x",
         "hovertemplate": "GPU=%{x}<br>count=%{y}<extra></extra>",
         "legendgroup": "AMD Radeon R2 Graphics",
         "marker": {
          "color": "#636efa",
          "pattern": {
           "shape": ""
          }
         },
         "name": "AMD Radeon R2 Graphics",
         "offsetgroup": "AMD Radeon R2 Graphics",
         "orientation": "v",
         "showlegend": true,
         "type": "histogram",
         "x": [
          "AMD Radeon R2 Graphics",
          "AMD Radeon R2 Graphics",
          "AMD Radeon R2 Graphics",
          "AMD Radeon R2 Graphics"
         ],
         "xaxis": "x",
         "yaxis": "y"
        },
        {
         "alignmentgroup": "True",
         "bingroup": "x",
         "hovertemplate": "GPU=%{x}<br>count=%{y}<extra></extra>",
         "legendgroup": "Nvidia Quadro M620M",
         "marker": {
          "color": "#EF553B",
          "pattern": {
           "shape": ""
          }
         },
         "name": "Nvidia Quadro M620M",
         "offsetgroup": "Nvidia Quadro M620M",
         "orientation": "v",
         "showlegend": true,
         "type": "histogram",
         "x": [
          "Nvidia Quadro M620M"
         ],
         "xaxis": "x",
         "yaxis": "y"
        },
        {
         "alignmentgroup": "True",
         "bingroup": "x",
         "hovertemplate": "GPU=%{x}<br>count=%{y}<extra></extra>",
         "legendgroup": "Nvidia GeForce GTX 970M",
         "marker": {
          "color": "#00cc96",
          "pattern": {
           "shape": ""
          }
         },
         "name": "Nvidia GeForce GTX 970M",
         "offsetgroup": "Nvidia GeForce GTX 970M",
         "orientation": "v",
         "showlegend": true,
         "type": "histogram",
         "x": [
          "Nvidia GeForce GTX 970M",
          "Nvidia GeForce GTX 970M",
          "Nvidia GeForce GTX 970M",
          "Nvidia GeForce GTX 970M",
          "Nvidia GeForce GTX 970M"
         ],
         "xaxis": "x",
         "yaxis": "y"
        },
        {
         "alignmentgroup": "True",
         "bingroup": "x",
         "hovertemplate": "GPU=%{x}<br>count=%{y}<extra></extra>",
         "legendgroup": "Nvidia GeForce GTX 960<U+039C>",
         "marker": {
          "color": "#ab63fa",
          "pattern": {
           "shape": ""
          }
         },
         "name": "Nvidia GeForce GTX 960<U+039C>",
         "offsetgroup": "Nvidia GeForce GTX 960<U+039C>",
         "orientation": "v",
         "showlegend": true,
         "type": "histogram",
         "x": [
          "Nvidia GeForce GTX 960<U+039C>",
          "Nvidia GeForce GTX 960<U+039C>"
         ],
         "xaxis": "x",
         "yaxis": "y"
        },
        {
         "alignmentgroup": "True",
         "bingroup": "x",
         "hovertemplate": "GPU=%{x}<br>count=%{y}<extra></extra>",
         "legendgroup": "Intel Graphics 620",
         "marker": {
          "color": "#FFA15A",
          "pattern": {
           "shape": ""
          }
         },
         "name": "Intel Graphics 620",
         "offsetgroup": "Intel Graphics 620",
         "orientation": "v",
         "showlegend": true,
         "type": "histogram",
         "x": [
          "Intel Graphics 620"
         ],
         "xaxis": "x",
         "yaxis": "y"
        },
        {
         "alignmentgroup": "True",
         "bingroup": "x",
         "hovertemplate": "GPU=%{x}<br>count=%{y}<extra></extra>",
         "legendgroup": "Nvidia GeForce GTX 960",
         "marker": {
          "color": "#19d3f3",
          "pattern": {
           "shape": ""
          }
         },
         "name": "Nvidia GeForce GTX 960",
         "offsetgroup": "Nvidia GeForce GTX 960",
         "orientation": "v",
         "showlegend": true,
         "type": "histogram",
         "x": [
          "Nvidia GeForce GTX 960",
          "Nvidia GeForce GTX 960"
         ],
         "xaxis": "x",
         "yaxis": "y"
        },
        {
         "alignmentgroup": "True",
         "bingroup": "x",
         "hovertemplate": "GPU=%{x}<br>count=%{y}<extra></extra>",
         "legendgroup": "AMD Radeon R5 520",
         "marker": {
          "color": "#FF6692",
          "pattern": {
           "shape": ""
          }
         },
         "name": "AMD Radeon R5 520",
         "offsetgroup": "AMD Radeon R5 520",
         "orientation": "v",
         "showlegend": true,
         "type": "histogram",
         "x": [
          "AMD Radeon R5 520"
         ],
         "xaxis": "x",
         "yaxis": "y"
        },
        {
         "alignmentgroup": "True",
         "bingroup": "x",
         "hovertemplate": "GPU=%{x}<br>count=%{y}<extra></extra>",
         "legendgroup": "AMD Radeon R7 M440",
         "marker": {
          "color": "#B6E880",
          "pattern": {
           "shape": ""
          }
         },
         "name": "AMD Radeon R7 M440",
         "offsetgroup": "AMD Radeon R7 M440",
         "orientation": "v",
         "showlegend": true,
         "type": "histogram",
         "x": [
          "AMD Radeon R7 M440",
          "AMD Radeon R7 M440",
          "AMD Radeon R7 M440"
         ],
         "xaxis": "x",
         "yaxis": "y"
        },
        {
         "alignmentgroup": "True",
         "bingroup": "x",
         "hovertemplate": "GPU=%{x}<br>count=%{y}<extra></extra>",
         "legendgroup": "AMD Radeon R7",
         "marker": {
          "color": "#FF97FF",
          "pattern": {
           "shape": ""
          }
         },
         "name": "AMD Radeon R7",
         "offsetgroup": "AMD Radeon R7",
         "orientation": "v",
         "showlegend": true,
         "type": "histogram",
         "x": [
          "AMD Radeon R7"
         ],
         "xaxis": "x",
         "yaxis": "y"
        },
        {
         "alignmentgroup": "True",
         "bingroup": "x",
         "hovertemplate": "GPU=%{x}<br>count=%{y}<extra></extra>",
         "legendgroup": "Nvidia Quadro M520M",
         "marker": {
          "color": "#FECB52",
          "pattern": {
           "shape": ""
          }
         },
         "name": "Nvidia Quadro M520M",
         "offsetgroup": "Nvidia Quadro M520M",
         "orientation": "v",
         "showlegend": true,
         "type": "histogram",
         "x": [
          "Nvidia Quadro M520M",
          "Nvidia Quadro M520M"
         ],
         "xaxis": "x",
         "yaxis": "y"
        },
        {
         "alignmentgroup": "True",
         "bingroup": "x",
         "hovertemplate": "GPU=%{x}<br>count=%{y}<extra></extra>",
         "legendgroup": "Nvidia Quadro M2200",
         "marker": {
          "color": "#636efa",
          "pattern": {
           "shape": ""
          }
         },
         "name": "Nvidia Quadro M2200",
         "offsetgroup": "Nvidia Quadro M2200",
         "orientation": "v",
         "showlegend": true,
         "type": "histogram",
         "x": [
          "Nvidia Quadro M2200",
          "Nvidia Quadro M2200"
         ],
         "xaxis": "x",
         "yaxis": "y"
        },
        {
         "alignmentgroup": "True",
         "bingroup": "x",
         "hovertemplate": "GPU=%{x}<br>count=%{y}<extra></extra>",
         "legendgroup": "Nvidia Quadro M2000M",
         "marker": {
          "color": "#EF553B",
          "pattern": {
           "shape": ""
          }
         },
         "name": "Nvidia Quadro M2000M",
         "offsetgroup": "Nvidia Quadro M2000M",
         "orientation": "v",
         "showlegend": true,
         "type": "histogram",
         "x": [
          "Nvidia Quadro M2000M",
          "Nvidia Quadro M2000M"
         ],
         "xaxis": "x",
         "yaxis": "y"
        },
        {
         "alignmentgroup": "True",
         "bingroup": "x",
         "hovertemplate": "GPU=%{x}<br>count=%{y}<extra></extra>",
         "legendgroup": "Intel HD Graphics 540",
         "marker": {
          "color": "#00cc96",
          "pattern": {
           "shape": ""
          }
         },
         "name": "Intel HD Graphics 540",
         "offsetgroup": "Intel HD Graphics 540",
         "orientation": "v",
         "showlegend": true,
         "type": "histogram",
         "x": [
          "Intel HD Graphics 540"
         ],
         "xaxis": "x",
         "yaxis": "y"
        },
        {
         "alignmentgroup": "True",
         "bingroup": "x",
         "hovertemplate": "GPU=%{x}<br>count=%{y}<extra></extra>",
         "legendgroup": "Nvidia Quadro M1000M",
         "marker": {
          "color": "#ab63fa",
          "pattern": {
           "shape": ""
          }
         },
         "name": "Nvidia Quadro M1000M",
         "offsetgroup": "Nvidia Quadro M1000M",
         "orientation": "v",
         "showlegend": true,
         "type": "histogram",
         "x": [
          "Nvidia Quadro M1000M",
          "Nvidia Quadro M1000M",
          "Nvidia Quadro M1000M",
          "Nvidia Quadro M1000M"
         ],
         "xaxis": "x",
         "yaxis": "y"
        },
        {
         "alignmentgroup": "True",
         "bingroup": "x",
         "hovertemplate": "GPU=%{x}<br>count=%{y}<extra></extra>",
         "legendgroup": "AMD Radeon 540",
         "marker": {
          "color": "#FFA15A",
          "pattern": {
           "shape": ""
          }
         },
         "name": "AMD Radeon 540",
         "offsetgroup": "AMD Radeon 540",
         "orientation": "v",
         "showlegend": true,
         "type": "histogram",
         "x": [
          "AMD Radeon 540"
         ],
         "xaxis": "x",
         "yaxis": "y"
        },
        {
         "alignmentgroup": "True",
         "bingroup": "x",
         "hovertemplate": "GPU=%{x}<br>count=%{y}<extra></extra>",
         "legendgroup": "Nvidia GeForce GTX 1070M",
         "marker": {
          "color": "#19d3f3",
          "pattern": {
           "shape": ""
          }
         },
         "name": "Nvidia GeForce GTX 1070M",
         "offsetgroup": "Nvidia GeForce GTX 1070M",
         "orientation": "v",
         "showlegend": true,
         "type": "histogram",
         "x": [
          "Nvidia GeForce GTX 1070M"
         ],
         "xaxis": "x",
         "yaxis": "y"
        },
        {
         "alignmentgroup": "True",
         "bingroup": "x",
         "hovertemplate": "GPU=%{x}<br>count=%{y}<extra></extra>",
         "legendgroup": "Nvidia GeForce GTX1060",
         "marker": {
          "color": "#FF6692",
          "pattern": {
           "shape": ""
          }
         },
         "name": "Nvidia GeForce GTX1060",
         "offsetgroup": "Nvidia GeForce GTX1060",
         "orientation": "v",
         "showlegend": true,
         "type": "histogram",
         "x": [
          "Nvidia GeForce GTX1060"
         ],
         "xaxis": "x",
         "yaxis": "y"
        },
        {
         "alignmentgroup": "True",
         "bingroup": "x",
         "hovertemplate": "GPU=%{x}<br>count=%{y}<extra></extra>",
         "legendgroup": "Intel HD Graphics 5300",
         "marker": {
          "color": "#B6E880",
          "pattern": {
           "shape": ""
          }
         },
         "name": "Intel HD Graphics 5300",
         "offsetgroup": "Intel HD Graphics 5300",
         "orientation": "v",
         "showlegend": true,
         "type": "histogram",
         "x": [
          "Intel HD Graphics 5300",
          "Intel HD Graphics 5300"
         ],
         "xaxis": "x",
         "yaxis": "y"
        },
        {
         "alignmentgroup": "True",
         "bingroup": "x",
         "hovertemplate": "GPU=%{x}<br>count=%{y}<extra></extra>",
         "legendgroup": "AMD Radeon R5 M420X",
         "marker": {
          "color": "#FF97FF",
          "pattern": {
           "shape": ""
          }
         },
         "name": "AMD Radeon R5 M420X",
         "offsetgroup": "AMD Radeon R5 M420X",
         "orientation": "v",
         "showlegend": true,
         "type": "histogram",
         "x": [
          "AMD Radeon R5 M420X",
          "AMD Radeon R5 M420X",
          "AMD Radeon R5 M420X"
         ],
         "xaxis": "x",
         "yaxis": "y"
        },
        {
         "alignmentgroup": "True",
         "bingroup": "x",
         "hovertemplate": "GPU=%{x}<br>count=%{y}<extra></extra>",
         "legendgroup": "AMD Radeon R7 Graphics",
         "marker": {
          "color": "#FECB52",
          "pattern": {
           "shape": ""
          }
         },
         "name": "AMD Radeon R7 Graphics",
         "offsetgroup": "AMD Radeon R7 Graphics",
         "orientation": "v",
         "showlegend": true,
         "type": "histogram",
         "x": [
          "AMD Radeon R7 Graphics"
         ],
         "xaxis": "x",
         "yaxis": "y"
        },
        {
         "alignmentgroup": "True",
         "bingroup": "x",
         "hovertemplate": "GPU=%{x}<br>count=%{y}<extra></extra>",
         "legendgroup": "Nvidia GeForce 920",
         "marker": {
          "color": "#636efa",
          "pattern": {
           "shape": ""
          }
         },
         "name": "Nvidia GeForce 920",
         "offsetgroup": "Nvidia GeForce 920",
         "orientation": "v",
         "showlegend": true,
         "type": "histogram",
         "x": [
          "Nvidia GeForce 920"
         ],
         "xaxis": "x",
         "yaxis": "y"
        },
        {
         "alignmentgroup": "True",
         "bingroup": "x",
         "hovertemplate": "GPU=%{x}<br>count=%{y}<extra></extra>",
         "legendgroup": "Nvidia GeForce 940M",
         "marker": {
          "color": "#EF553B",
          "pattern": {
           "shape": ""
          }
         },
         "name": "Nvidia GeForce 940M",
         "offsetgroup": "Nvidia GeForce 940M",
         "orientation": "v",
         "showlegend": true,
         "type": "histogram",
         "x": [
          "Nvidia GeForce 940M"
         ],
         "xaxis": "x",
         "yaxis": "y"
        },
        {
         "alignmentgroup": "True",
         "bingroup": "x",
         "hovertemplate": "GPU=%{x}<br>count=%{y}<extra></extra>",
         "legendgroup": "Nvidia GeForce GTX 930MX",
         "marker": {
          "color": "#00cc96",
          "pattern": {
           "shape": ""
          }
         },
         "name": "Nvidia GeForce GTX 930MX",
         "offsetgroup": "Nvidia GeForce GTX 930MX",
         "orientation": "v",
         "showlegend": true,
         "type": "histogram",
         "x": [
          "Nvidia GeForce GTX 930MX"
         ],
         "xaxis": "x",
         "yaxis": "y"
        },
        {
         "alignmentgroup": "True",
         "bingroup": "x",
         "hovertemplate": "GPU=%{x}<br>count=%{y}<extra></extra>",
         "legendgroup": "AMD Radeon R7 M465",
         "marker": {
          "color": "#ab63fa",
          "pattern": {
           "shape": ""
          }
         },
         "name": "AMD Radeon R7 M465",
         "offsetgroup": "AMD Radeon R7 M465",
         "orientation": "v",
         "showlegend": true,
         "type": "histogram",
         "x": [
          "AMD Radeon R7 M465"
         ],
         "xaxis": "x",
         "yaxis": "y"
        },
        {
         "alignmentgroup": "True",
         "bingroup": "x",
         "hovertemplate": "GPU=%{x}<br>count=%{y}<extra></extra>",
         "legendgroup": "AMD Radeon R3",
         "marker": {
          "color": "#FFA15A",
          "pattern": {
           "shape": ""
          }
         },
         "name": "AMD Radeon R3",
         "offsetgroup": "AMD Radeon R3",
         "orientation": "v",
         "showlegend": true,
         "type": "histogram",
         "x": [
          "AMD Radeon R3"
         ],
         "xaxis": "x",
         "yaxis": "y"
        },
        {
         "alignmentgroup": "True",
         "bingroup": "x",
         "hovertemplate": "GPU=%{x}<br>count=%{y}<extra></extra>",
         "legendgroup": "Nvidia GeForce GTX 1050Ti",
         "marker": {
          "color": "#19d3f3",
          "pattern": {
           "shape": ""
          }
         },
         "name": "Nvidia GeForce GTX 1050Ti",
         "offsetgroup": "Nvidia GeForce GTX 1050Ti",
         "orientation": "v",
         "showlegend": true,
         "type": "histogram",
         "x": [
          "Nvidia GeForce GTX 1050Ti",
          "Nvidia GeForce GTX 1050Ti"
         ],
         "xaxis": "x",
         "yaxis": "y"
        },
        {
         "alignmentgroup": "True",
         "bingroup": "x",
         "hovertemplate": "GPU=%{x}<br>count=%{y}<extra></extra>",
         "legendgroup": "AMD Radeon R7 M365X",
         "marker": {
          "color": "#FF6692",
          "pattern": {
           "shape": ""
          }
         },
         "name": "AMD Radeon R7 M365X",
         "offsetgroup": "AMD Radeon R7 M365X",
         "orientation": "v",
         "showlegend": true,
         "type": "histogram",
         "x": [
          "AMD Radeon R7 M365X"
         ],
         "xaxis": "x",
         "yaxis": "y"
        },
        {
         "alignmentgroup": "True",
         "bingroup": "x",
         "hovertemplate": "GPU=%{x}<br>count=%{y}<extra></extra>",
         "legendgroup": "AMD Radeon R9 M385",
         "marker": {
          "color": "#B6E880",
          "pattern": {
           "shape": ""
          }
         },
         "name": "AMD Radeon R9 M385",
         "offsetgroup": "AMD Radeon R9 M385",
         "orientation": "v",
         "showlegend": true,
         "type": "histogram",
         "x": [
          "AMD Radeon R9 M385"
         ],
         "xaxis": "x",
         "yaxis": "y"
        },
        {
         "alignmentgroup": "True",
         "bingroup": "x",
         "hovertemplate": "GPU=%{x}<br>count=%{y}<extra></extra>",
         "legendgroup": "Intel HD Graphics 620 ",
         "marker": {
          "color": "#FF97FF",
          "pattern": {
           "shape": ""
          }
         },
         "name": "Intel HD Graphics 620 ",
         "offsetgroup": "Intel HD Graphics 620 ",
         "orientation": "v",
         "showlegend": true,
         "type": "histogram",
         "x": [
          "Intel HD Graphics 620 "
         ],
         "xaxis": "x",
         "yaxis": "y"
        },
        {
         "alignmentgroup": "True",
         "bingroup": "x",
         "hovertemplate": "GPU=%{x}<br>count=%{y}<extra></extra>",
         "legendgroup": "Nvidia Quadro 3000M",
         "marker": {
          "color": "#FECB52",
          "pattern": {
           "shape": ""
          }
         },
         "name": "Nvidia Quadro 3000M",
         "offsetgroup": "Nvidia Quadro 3000M",
         "orientation": "v",
         "showlegend": true,
         "type": "histogram",
         "x": [
          "Nvidia Quadro 3000M"
         ],
         "xaxis": "x",
         "yaxis": "y"
        },
        {
         "alignmentgroup": "True",
         "bingroup": "x",
         "hovertemplate": "GPU=%{x}<br>count=%{y}<extra></extra>",
         "legendgroup": "Nvidia GeForce GTX 980 ",
         "marker": {
          "color": "#636efa",
          "pattern": {
           "shape": ""
          }
         },
         "name": "Nvidia GeForce GTX 980 ",
         "offsetgroup": "Nvidia GeForce GTX 980 ",
         "orientation": "v",
         "showlegend": true,
         "type": "histogram",
         "x": [
          "Nvidia GeForce GTX 980 "
         ],
         "xaxis": "x",
         "yaxis": "y"
        },
        {
         "alignmentgroup": "True",
         "bingroup": "x",
         "hovertemplate": "GPU=%{x}<br>count=%{y}<extra></extra>",
         "legendgroup": "AMD Radeon R5 M330",
         "marker": {
          "color": "#EF553B",
          "pattern": {
           "shape": ""
          }
         },
         "name": "AMD Radeon R5 M330",
         "offsetgroup": "AMD Radeon R5 M330",
         "orientation": "v",
         "showlegend": true,
         "type": "histogram",
         "x": [
          "AMD Radeon R5 M330",
          "AMD Radeon R5 M330",
          "AMD Radeon R5 M330",
          "AMD Radeon R5 M330",
          "AMD Radeon R5 M330"
         ],
         "xaxis": "x",
         "yaxis": "y"
        },
        {
         "alignmentgroup": "True",
         "bingroup": "x",
         "hovertemplate": "GPU=%{x}<br>count=%{y}<extra></extra>",
         "legendgroup": "AMD FirePro W4190M",
         "marker": {
          "color": "#00cc96",
          "pattern": {
           "shape": ""
          }
         },
         "name": "AMD FirePro W4190M",
         "offsetgroup": "AMD FirePro W4190M",
         "orientation": "v",
         "showlegend": true,
         "type": "histogram",
         "x": [
          "AMD FirePro W4190M"
         ],
         "xaxis": "x",
         "yaxis": "y"
        },
        {
         "alignmentgroup": "True",
         "bingroup": "x",
         "hovertemplate": "GPU=%{x}<br>count=%{y}<extra></extra>",
         "legendgroup": "AMD FirePro W6150M",
         "marker": {
          "color": "#ab63fa",
          "pattern": {
           "shape": ""
          }
         },
         "name": "AMD FirePro W6150M",
         "offsetgroup": "AMD FirePro W6150M",
         "orientation": "v",
         "showlegend": true,
         "type": "histogram",
         "x": [
          "AMD FirePro W6150M"
         ],
         "xaxis": "x",
         "yaxis": "y"
        },
        {
         "alignmentgroup": "True",
         "bingroup": "x",
         "hovertemplate": "GPU=%{x}<br>count=%{y}<extra></extra>",
         "legendgroup": "AMD Radeon R5 M315",
         "marker": {
          "color": "#FFA15A",
          "pattern": {
           "shape": ""
          }
         },
         "name": "AMD Radeon R5 M315",
         "offsetgroup": "AMD Radeon R5 M315",
         "orientation": "v",
         "showlegend": true,
         "type": "histogram",
         "x": [
          "AMD Radeon R5 M315"
         ],
         "xaxis": "x",
         "yaxis": "y"
        },
        {
         "alignmentgroup": "True",
         "bingroup": "x",
         "hovertemplate": "GPU=%{x}<br>count=%{y}<extra></extra>",
         "legendgroup": "Nvidia Quadro M500M",
         "marker": {
          "color": "#19d3f3",
          "pattern": {
           "shape": ""
          }
         },
         "name": "Nvidia Quadro M500M",
         "offsetgroup": "Nvidia Quadro M500M",
         "orientation": "v",
         "showlegend": true,
         "type": "histogram",
         "x": [
          "Nvidia Quadro M500M"
         ],
         "xaxis": "x",
         "yaxis": "y"
        },
        {
         "alignmentgroup": "True",
         "bingroup": "x",
         "hovertemplate": "GPU=%{x}<br>count=%{y}<extra></extra>",
         "legendgroup": "AMD Radeon R7 M360",
         "marker": {
          "color": "#FF6692",
          "pattern": {
           "shape": ""
          }
         },
         "name": "AMD Radeon R7 M360",
         "offsetgroup": "AMD Radeon R7 M360",
         "orientation": "v",
         "showlegend": true,
         "type": "histogram",
         "x": [
          "AMD Radeon R7 M360"
         ],
         "xaxis": "x",
         "yaxis": "y"
        },
        {
         "alignmentgroup": "True",
         "bingroup": "x",
         "hovertemplate": "GPU=%{x}<br>count=%{y}<extra></extra>",
         "legendgroup": "Nvidia Quadro M3000M",
         "marker": {
          "color": "#B6E880",
          "pattern": {
           "shape": ""
          }
         },
         "name": "Nvidia Quadro M3000M",
         "offsetgroup": "Nvidia Quadro M3000M",
         "orientation": "v",
         "showlegend": true,
         "type": "histogram",
         "x": [
          "Nvidia Quadro M3000M"
         ],
         "xaxis": "x",
         "yaxis": "y"
        },
        {
         "alignmentgroup": "True",
         "bingroup": "x",
         "hovertemplate": "GPU=%{x}<br>count=%{y}<extra></extra>",
         "legendgroup": "Nvidia GeForce 960M",
         "marker": {
          "color": "#FF97FF",
          "pattern": {
           "shape": ""
          }
         },
         "name": "Nvidia GeForce 960M",
         "offsetgroup": "Nvidia GeForce 960M",
         "orientation": "v",
         "showlegend": true,
         "type": "histogram",
         "x": [
          "Nvidia GeForce 960M"
         ],
         "xaxis": "x",
         "yaxis": "y"
        },
        {
         "alignmentgroup": "True",
         "bingroup": "x",
         "hovertemplate": "GPU=%{x}<br>count=%{y}<extra></extra>",
         "legendgroup": "ARM Mali T860 MP4",
         "marker": {
          "color": "#FECB52",
          "pattern": {
           "shape": ""
          }
         },
         "name": "ARM Mali T860 MP4",
         "offsetgroup": "ARM Mali T860 MP4",
         "orientation": "v",
         "showlegend": true,
         "type": "histogram",
         "x": [
          "ARM Mali T860 MP4"
         ],
         "xaxis": "x",
         "yaxis": "y"
        }
       ],
       "layout": {
        "barmode": "relative",
        "legend": {
         "title": {
          "text": "GPU"
         },
         "tracegroupgap": 0
        },
        "template": {
         "data": {
          "bar": [
           {
            "error_x": {
             "color": "#2a3f5f"
            },
            "error_y": {
             "color": "#2a3f5f"
            },
            "marker": {
             "line": {
              "color": "#E5ECF6",
              "width": 0.5
             },
             "pattern": {
              "fillmode": "overlay",
              "size": 10,
              "solidity": 0.2
             }
            },
            "type": "bar"
           }
          ],
          "barpolar": [
           {
            "marker": {
             "line": {
              "color": "#E5ECF6",
              "width": 0.5
             },
             "pattern": {
              "fillmode": "overlay",
              "size": 10,
              "solidity": 0.2
             }
            },
            "type": "barpolar"
           }
          ],
          "carpet": [
           {
            "aaxis": {
             "endlinecolor": "#2a3f5f",
             "gridcolor": "white",
             "linecolor": "white",
             "minorgridcolor": "white",
             "startlinecolor": "#2a3f5f"
            },
            "baxis": {
             "endlinecolor": "#2a3f5f",
             "gridcolor": "white",
             "linecolor": "white",
             "minorgridcolor": "white",
             "startlinecolor": "#2a3f5f"
            },
            "type": "carpet"
           }
          ],
          "choropleth": [
           {
            "colorbar": {
             "outlinewidth": 0,
             "ticks": ""
            },
            "type": "choropleth"
           }
          ],
          "contour": [
           {
            "colorbar": {
             "outlinewidth": 0,
             "ticks": ""
            },
            "colorscale": [
             [
              0,
              "#0d0887"
             ],
             [
              0.1111111111111111,
              "#46039f"
             ],
             [
              0.2222222222222222,
              "#7201a8"
             ],
             [
              0.3333333333333333,
              "#9c179e"
             ],
             [
              0.4444444444444444,
              "#bd3786"
             ],
             [
              0.5555555555555556,
              "#d8576b"
             ],
             [
              0.6666666666666666,
              "#ed7953"
             ],
             [
              0.7777777777777778,
              "#fb9f3a"
             ],
             [
              0.8888888888888888,
              "#fdca26"
             ],
             [
              1,
              "#f0f921"
             ]
            ],
            "type": "contour"
           }
          ],
          "contourcarpet": [
           {
            "colorbar": {
             "outlinewidth": 0,
             "ticks": ""
            },
            "type": "contourcarpet"
           }
          ],
          "heatmap": [
           {
            "colorbar": {
             "outlinewidth": 0,
             "ticks": ""
            },
            "colorscale": [
             [
              0,
              "#0d0887"
             ],
             [
              0.1111111111111111,
              "#46039f"
             ],
             [
              0.2222222222222222,
              "#7201a8"
             ],
             [
              0.3333333333333333,
              "#9c179e"
             ],
             [
              0.4444444444444444,
              "#bd3786"
             ],
             [
              0.5555555555555556,
              "#d8576b"
             ],
             [
              0.6666666666666666,
              "#ed7953"
             ],
             [
              0.7777777777777778,
              "#fb9f3a"
             ],
             [
              0.8888888888888888,
              "#fdca26"
             ],
             [
              1,
              "#f0f921"
             ]
            ],
            "type": "heatmap"
           }
          ],
          "heatmapgl": [
           {
            "colorbar": {
             "outlinewidth": 0,
             "ticks": ""
            },
            "colorscale": [
             [
              0,
              "#0d0887"
             ],
             [
              0.1111111111111111,
              "#46039f"
             ],
             [
              0.2222222222222222,
              "#7201a8"
             ],
             [
              0.3333333333333333,
              "#9c179e"
             ],
             [
              0.4444444444444444,
              "#bd3786"
             ],
             [
              0.5555555555555556,
              "#d8576b"
             ],
             [
              0.6666666666666666,
              "#ed7953"
             ],
             [
              0.7777777777777778,
              "#fb9f3a"
             ],
             [
              0.8888888888888888,
              "#fdca26"
             ],
             [
              1,
              "#f0f921"
             ]
            ],
            "type": "heatmapgl"
           }
          ],
          "histogram": [
           {
            "marker": {
             "pattern": {
              "fillmode": "overlay",
              "size": 10,
              "solidity": 0.2
             }
            },
            "type": "histogram"
           }
          ],
          "histogram2d": [
           {
            "colorbar": {
             "outlinewidth": 0,
             "ticks": ""
            },
            "colorscale": [
             [
              0,
              "#0d0887"
             ],
             [
              0.1111111111111111,
              "#46039f"
             ],
             [
              0.2222222222222222,
              "#7201a8"
             ],
             [
              0.3333333333333333,
              "#9c179e"
             ],
             [
              0.4444444444444444,
              "#bd3786"
             ],
             [
              0.5555555555555556,
              "#d8576b"
             ],
             [
              0.6666666666666666,
              "#ed7953"
             ],
             [
              0.7777777777777778,
              "#fb9f3a"
             ],
             [
              0.8888888888888888,
              "#fdca26"
             ],
             [
              1,
              "#f0f921"
             ]
            ],
            "type": "histogram2d"
           }
          ],
          "histogram2dcontour": [
           {
            "colorbar": {
             "outlinewidth": 0,
             "ticks": ""
            },
            "colorscale": [
             [
              0,
              "#0d0887"
             ],
             [
              0.1111111111111111,
              "#46039f"
             ],
             [
              0.2222222222222222,
              "#7201a8"
             ],
             [
              0.3333333333333333,
              "#9c179e"
             ],
             [
              0.4444444444444444,
              "#bd3786"
             ],
             [
              0.5555555555555556,
              "#d8576b"
             ],
             [
              0.6666666666666666,
              "#ed7953"
             ],
             [
              0.7777777777777778,
              "#fb9f3a"
             ],
             [
              0.8888888888888888,
              "#fdca26"
             ],
             [
              1,
              "#f0f921"
             ]
            ],
            "type": "histogram2dcontour"
           }
          ],
          "mesh3d": [
           {
            "colorbar": {
             "outlinewidth": 0,
             "ticks": ""
            },
            "type": "mesh3d"
           }
          ],
          "parcoords": [
           {
            "line": {
             "colorbar": {
              "outlinewidth": 0,
              "ticks": ""
             }
            },
            "type": "parcoords"
           }
          ],
          "pie": [
           {
            "automargin": true,
            "type": "pie"
           }
          ],
          "scatter": [
           {
            "fillpattern": {
             "fillmode": "overlay",
             "size": 10,
             "solidity": 0.2
            },
            "type": "scatter"
           }
          ],
          "scatter3d": [
           {
            "line": {
             "colorbar": {
              "outlinewidth": 0,
              "ticks": ""
             }
            },
            "marker": {
             "colorbar": {
              "outlinewidth": 0,
              "ticks": ""
             }
            },
            "type": "scatter3d"
           }
          ],
          "scattercarpet": [
           {
            "marker": {
             "colorbar": {
              "outlinewidth": 0,
              "ticks": ""
             }
            },
            "type": "scattercarpet"
           }
          ],
          "scattergeo": [
           {
            "marker": {
             "colorbar": {
              "outlinewidth": 0,
              "ticks": ""
             }
            },
            "type": "scattergeo"
           }
          ],
          "scattergl": [
           {
            "marker": {
             "colorbar": {
              "outlinewidth": 0,
              "ticks": ""
             }
            },
            "type": "scattergl"
           }
          ],
          "scattermapbox": [
           {
            "marker": {
             "colorbar": {
              "outlinewidth": 0,
              "ticks": ""
             }
            },
            "type": "scattermapbox"
           }
          ],
          "scatterpolar": [
           {
            "marker": {
             "colorbar": {
              "outlinewidth": 0,
              "ticks": ""
             }
            },
            "type": "scatterpolar"
           }
          ],
          "scatterpolargl": [
           {
            "marker": {
             "colorbar": {
              "outlinewidth": 0,
              "ticks": ""
             }
            },
            "type": "scatterpolargl"
           }
          ],
          "scatterternary": [
           {
            "marker": {
             "colorbar": {
              "outlinewidth": 0,
              "ticks": ""
             }
            },
            "type": "scatterternary"
           }
          ],
          "surface": [
           {
            "colorbar": {
             "outlinewidth": 0,
             "ticks": ""
            },
            "colorscale": [
             [
              0,
              "#0d0887"
             ],
             [
              0.1111111111111111,
              "#46039f"
             ],
             [
              0.2222222222222222,
              "#7201a8"
             ],
             [
              0.3333333333333333,
              "#9c179e"
             ],
             [
              0.4444444444444444,
              "#bd3786"
             ],
             [
              0.5555555555555556,
              "#d8576b"
             ],
             [
              0.6666666666666666,
              "#ed7953"
             ],
             [
              0.7777777777777778,
              "#fb9f3a"
             ],
             [
              0.8888888888888888,
              "#fdca26"
             ],
             [
              1,
              "#f0f921"
             ]
            ],
            "type": "surface"
           }
          ],
          "table": [
           {
            "cells": {
             "fill": {
              "color": "#EBF0F8"
             },
             "line": {
              "color": "white"
             }
            },
            "header": {
             "fill": {
              "color": "#C8D4E3"
             },
             "line": {
              "color": "white"
             }
            },
            "type": "table"
           }
          ]
         },
         "layout": {
          "annotationdefaults": {
           "arrowcolor": "#2a3f5f",
           "arrowhead": 0,
           "arrowwidth": 1
          },
          "autotypenumbers": "strict",
          "coloraxis": {
           "colorbar": {
            "outlinewidth": 0,
            "ticks": ""
           }
          },
          "colorscale": {
           "diverging": [
            [
             0,
             "#8e0152"
            ],
            [
             0.1,
             "#c51b7d"
            ],
            [
             0.2,
             "#de77ae"
            ],
            [
             0.3,
             "#f1b6da"
            ],
            [
             0.4,
             "#fde0ef"
            ],
            [
             0.5,
             "#f7f7f7"
            ],
            [
             0.6,
             "#e6f5d0"
            ],
            [
             0.7,
             "#b8e186"
            ],
            [
             0.8,
             "#7fbc41"
            ],
            [
             0.9,
             "#4d9221"
            ],
            [
             1,
             "#276419"
            ]
           ],
           "sequential": [
            [
             0,
             "#0d0887"
            ],
            [
             0.1111111111111111,
             "#46039f"
            ],
            [
             0.2222222222222222,
             "#7201a8"
            ],
            [
             0.3333333333333333,
             "#9c179e"
            ],
            [
             0.4444444444444444,
             "#bd3786"
            ],
            [
             0.5555555555555556,
             "#d8576b"
            ],
            [
             0.6666666666666666,
             "#ed7953"
            ],
            [
             0.7777777777777778,
             "#fb9f3a"
            ],
            [
             0.8888888888888888,
             "#fdca26"
            ],
            [
             1,
             "#f0f921"
            ]
           ],
           "sequentialminus": [
            [
             0,
             "#0d0887"
            ],
            [
             0.1111111111111111,
             "#46039f"
            ],
            [
             0.2222222222222222,
             "#7201a8"
            ],
            [
             0.3333333333333333,
             "#9c179e"
            ],
            [
             0.4444444444444444,
             "#bd3786"
            ],
            [
             0.5555555555555556,
             "#d8576b"
            ],
            [
             0.6666666666666666,
             "#ed7953"
            ],
            [
             0.7777777777777778,
             "#fb9f3a"
            ],
            [
             0.8888888888888888,
             "#fdca26"
            ],
            [
             1,
             "#f0f921"
            ]
           ]
          },
          "colorway": [
           "#636efa",
           "#EF553B",
           "#00cc96",
           "#ab63fa",
           "#FFA15A",
           "#19d3f3",
           "#FF6692",
           "#B6E880",
           "#FF97FF",
           "#FECB52"
          ],
          "font": {
           "color": "#2a3f5f"
          },
          "geo": {
           "bgcolor": "white",
           "lakecolor": "white",
           "landcolor": "#E5ECF6",
           "showlakes": true,
           "showland": true,
           "subunitcolor": "white"
          },
          "hoverlabel": {
           "align": "left"
          },
          "hovermode": "closest",
          "mapbox": {
           "style": "light"
          },
          "paper_bgcolor": "white",
          "plot_bgcolor": "#E5ECF6",
          "polar": {
           "angularaxis": {
            "gridcolor": "white",
            "linecolor": "white",
            "ticks": ""
           },
           "bgcolor": "#E5ECF6",
           "radialaxis": {
            "gridcolor": "white",
            "linecolor": "white",
            "ticks": ""
           }
          },
          "scene": {
           "xaxis": {
            "backgroundcolor": "#E5ECF6",
            "gridcolor": "white",
            "gridwidth": 2,
            "linecolor": "white",
            "showbackground": true,
            "ticks": "",
            "zerolinecolor": "white"
           },
           "yaxis": {
            "backgroundcolor": "#E5ECF6",
            "gridcolor": "white",
            "gridwidth": 2,
            "linecolor": "white",
            "showbackground": true,
            "ticks": "",
            "zerolinecolor": "white"
           },
           "zaxis": {
            "backgroundcolor": "#E5ECF6",
            "gridcolor": "white",
            "gridwidth": 2,
            "linecolor": "white",
            "showbackground": true,
            "ticks": "",
            "zerolinecolor": "white"
           }
          },
          "shapedefaults": {
           "line": {
            "color": "#2a3f5f"
           }
          },
          "ternary": {
           "aaxis": {
            "gridcolor": "white",
            "linecolor": "white",
            "ticks": ""
           },
           "baxis": {
            "gridcolor": "white",
            "linecolor": "white",
            "ticks": ""
           },
           "bgcolor": "#E5ECF6",
           "caxis": {
            "gridcolor": "white",
            "linecolor": "white",
            "ticks": ""
           }
          },
          "title": {
           "x": 0.05
          },
          "xaxis": {
           "automargin": true,
           "gridcolor": "white",
           "linecolor": "white",
           "ticks": "",
           "title": {
            "standoff": 15
           },
           "zerolinecolor": "white",
           "zerolinewidth": 2
          },
          "yaxis": {
           "automargin": true,
           "gridcolor": "white",
           "linecolor": "white",
           "ticks": "",
           "title": {
            "standoff": 15
           },
           "zerolinecolor": "white",
           "zerolinewidth": 2
          }
         }
        },
        "title": {
         "text": "GPU Distribution"
        },
        "xaxis": {
         "anchor": "y",
         "categoryarray": [
          "Intel Iris Plus Graphics 640",
          "Intel HD Graphics 6000",
          "Intel HD Graphics 620",
          "AMD Radeon Pro 455",
          "Intel Iris Plus Graphics 650",
          "AMD Radeon R5",
          "Intel Iris Pro Graphics",
          "Nvidia GeForce MX150",
          "Intel UHD Graphics 620",
          "Intel HD Graphics 520",
          "AMD Radeon Pro 555",
          "AMD Radeon R5 M430",
          "Intel HD Graphics 615",
          "AMD Radeon Pro 560",
          "Nvidia GeForce 940MX",
          "Intel HD Graphics 400",
          "Nvidia GeForce GTX 1050",
          "AMD Radeon R2",
          "AMD Radeon 530",
          "Nvidia GeForce 930MX",
          "Intel HD Graphics",
          "Intel HD Graphics 500",
          "Nvidia GeForce 930MX ",
          "Nvidia GeForce GTX 1060",
          "Nvidia GeForce 150MX",
          "Intel Iris Graphics 540",
          "AMD Radeon RX 580",
          "Nvidia GeForce 920MX",
          "AMD Radeon R4 Graphics",
          "AMD Radeon 520",
          "Nvidia GeForce GTX 1070",
          "Nvidia GeForce GTX 1050 Ti",
          "Nvidia GeForce MX130",
          "AMD R4 Graphics",
          "Nvidia GeForce GTX 940MX",
          "AMD Radeon RX 560",
          "Nvidia GeForce 920M",
          "AMD Radeon R7 M445",
          "AMD Radeon RX 550",
          "Nvidia GeForce GTX 1050M",
          "Intel HD Graphics 515",
          "AMD Radeon R5 M420",
          "Intel HD Graphics 505",
          "Nvidia GTX 980 SLI",
          "AMD R17M-M1-70",
          "Nvidia GeForce GTX 1080",
          "Nvidia Quadro M1200",
          "Nvidia GeForce 920MX ",
          "Nvidia GeForce GTX 950M",
          "AMD FirePro W4190M ",
          "Nvidia GeForce GTX 980M",
          "Intel Iris Graphics 550",
          "Nvidia GeForce 930M",
          "Intel HD Graphics 630",
          "AMD Radeon R5 430",
          "Nvidia GeForce GTX 940M",
          "Intel HD Graphics 510",
          "Intel HD Graphics 405",
          "AMD Radeon RX 540",
          "Nvidia GeForce GT 940MX",
          "AMD FirePro W5130M",
          "Nvidia Quadro M2200M",
          "AMD Radeon R4",
          "Nvidia Quadro M620",
          "AMD Radeon R7 M460",
          "Intel HD Graphics 530",
          "Nvidia GeForce GTX 965M",
          "Nvidia GeForce GTX1080",
          "Nvidia GeForce GTX1050 Ti",
          "Nvidia GeForce GTX 960M",
          "AMD Radeon R2 Graphics",
          "Nvidia Quadro M620M",
          "Nvidia GeForce GTX 970M",
          "Nvidia GeForce GTX 960<U+039C>",
          "Intel Graphics 620",
          "Nvidia GeForce GTX 960",
          "AMD Radeon R5 520",
          "AMD Radeon R7 M440",
          "AMD Radeon R7",
          "Nvidia Quadro M520M",
          "Nvidia Quadro M2200",
          "Nvidia Quadro M2000M",
          "Intel HD Graphics 540",
          "Nvidia Quadro M1000M",
          "AMD Radeon 540",
          "Nvidia GeForce GTX 1070M",
          "Nvidia GeForce GTX1060",
          "Intel HD Graphics 5300",
          "AMD Radeon R5 M420X",
          "AMD Radeon R7 Graphics",
          "Nvidia GeForce 920",
          "Nvidia GeForce 940M",
          "Nvidia GeForce GTX 930MX",
          "AMD Radeon R7 M465",
          "AMD Radeon R3",
          "Nvidia GeForce GTX 1050Ti",
          "AMD Radeon R7 M365X",
          "AMD Radeon R9 M385",
          "Intel HD Graphics 620 ",
          "Nvidia Quadro 3000M",
          "Nvidia GeForce GTX 980 ",
          "AMD Radeon R5 M330",
          "AMD FirePro W4190M",
          "AMD FirePro W6150M",
          "AMD Radeon R5 M315",
          "Nvidia Quadro M500M",
          "AMD Radeon R7 M360",
          "Nvidia Quadro M3000M",
          "Nvidia GeForce 960M",
          "ARM Mali T860 MP4"
         ],
         "categoryorder": "array",
         "domain": [
          0,
          1
         ],
         "title": {
          "text": "GPU"
         }
        },
        "yaxis": {
         "anchor": "x",
         "domain": [
          0,
          1
         ],
         "title": {
          "text": "count"
         }
        }
       }
      }
     },
     "metadata": {},
     "output_type": "display_data"
    }
   ],
   "source": [
    "plt = px.histogram(df, x='GPU', color='GPU', title=\"GPU Distribution\")\n",
    "plt.show()"
   ]
  },
  {
   "cell_type": "markdown",
   "metadata": {},
   "source": [
    "# Feature Engineering and Preprocessing of Laptop Price Prediction Model"
   ]
  },
  {
   "cell_type": "code",
   "execution_count": 178,
   "metadata": {},
   "outputs": [],
   "source": [
    "import pandas as pd\n",
    "from sklearn.compose import ColumnTransformer\n",
    "from sklearn.preprocessing import LabelEncoder, StandardScaler, OneHotEncoder\n",
    "from sklearn.pipeline import Pipeline\n",
    "from sklearn.model_selection import train_test_split\n",
    "from sklearn.ensemble import RandomForestRegressor\n",
    "from sklearn.linear_model import LinearRegression\n",
    "from xgboost import XGBRegressor\n",
    "from sklearn.svm import SVR\n",
    "from sklearn.metrics import r2_score\n"
   ]
  },
  {
   "cell_type": "code",
   "execution_count": 179,
   "metadata": {},
   "outputs": [
    {
     "data": {
      "text/html": [
       "<div>\n",
       "<style scoped>\n",
       "    .dataframe tbody tr th:only-of-type {\n",
       "        vertical-align: middle;\n",
       "    }\n",
       "\n",
       "    .dataframe tbody tr th {\n",
       "        vertical-align: top;\n",
       "    }\n",
       "\n",
       "    .dataframe thead th {\n",
       "        text-align: right;\n",
       "    }\n",
       "</style>\n",
       "<table border=\"1\" class=\"dataframe\">\n",
       "  <thead>\n",
       "    <tr style=\"text-align: right;\">\n",
       "      <th></th>\n",
       "      <th>Company</th>\n",
       "      <th>Product</th>\n",
       "      <th>TypeName</th>\n",
       "      <th>Inches</th>\n",
       "      <th>Ram</th>\n",
       "      <th>OS</th>\n",
       "      <th>Weight</th>\n",
       "      <th>Price_euros</th>\n",
       "      <th>Screen</th>\n",
       "      <th>ScreenW</th>\n",
       "      <th>...</th>\n",
       "      <th>Touchscreen</th>\n",
       "      <th>IPSpanel</th>\n",
       "      <th>RetinaDisplay</th>\n",
       "      <th>CPU_freq</th>\n",
       "      <th>PrimaryStorage</th>\n",
       "      <th>SecondaryStorage</th>\n",
       "      <th>PrimaryStorageType</th>\n",
       "      <th>SecondaryStorageType</th>\n",
       "      <th>GPU</th>\n",
       "      <th>CPU</th>\n",
       "    </tr>\n",
       "  </thead>\n",
       "  <tbody>\n",
       "    <tr>\n",
       "      <th>0</th>\n",
       "      <td>Apple</td>\n",
       "      <td>MacBook Pro</td>\n",
       "      <td>Ultrabook</td>\n",
       "      <td>13.3</td>\n",
       "      <td>8</td>\n",
       "      <td>macOS</td>\n",
       "      <td>1.37</td>\n",
       "      <td>1339.69</td>\n",
       "      <td>Standard</td>\n",
       "      <td>2560</td>\n",
       "      <td>...</td>\n",
       "      <td>No</td>\n",
       "      <td>Yes</td>\n",
       "      <td>Yes</td>\n",
       "      <td>2.3</td>\n",
       "      <td>128</td>\n",
       "      <td>0</td>\n",
       "      <td>SSD</td>\n",
       "      <td>No</td>\n",
       "      <td>Intel Iris Plus Graphics 640</td>\n",
       "      <td>Intel Core i5</td>\n",
       "    </tr>\n",
       "    <tr>\n",
       "      <th>1</th>\n",
       "      <td>Apple</td>\n",
       "      <td>Macbook Air</td>\n",
       "      <td>Ultrabook</td>\n",
       "      <td>13.3</td>\n",
       "      <td>8</td>\n",
       "      <td>macOS</td>\n",
       "      <td>1.34</td>\n",
       "      <td>898.94</td>\n",
       "      <td>Standard</td>\n",
       "      <td>1440</td>\n",
       "      <td>...</td>\n",
       "      <td>No</td>\n",
       "      <td>No</td>\n",
       "      <td>No</td>\n",
       "      <td>1.8</td>\n",
       "      <td>128</td>\n",
       "      <td>0</td>\n",
       "      <td>Flash Storage</td>\n",
       "      <td>No</td>\n",
       "      <td>Intel HD Graphics 6000</td>\n",
       "      <td>Intel Core i5</td>\n",
       "    </tr>\n",
       "    <tr>\n",
       "      <th>2</th>\n",
       "      <td>HP</td>\n",
       "      <td>250 G6</td>\n",
       "      <td>Notebook</td>\n",
       "      <td>15.6</td>\n",
       "      <td>8</td>\n",
       "      <td>No OS</td>\n",
       "      <td>1.86</td>\n",
       "      <td>575.00</td>\n",
       "      <td>Full HD</td>\n",
       "      <td>1920</td>\n",
       "      <td>...</td>\n",
       "      <td>No</td>\n",
       "      <td>No</td>\n",
       "      <td>No</td>\n",
       "      <td>2.5</td>\n",
       "      <td>256</td>\n",
       "      <td>0</td>\n",
       "      <td>SSD</td>\n",
       "      <td>No</td>\n",
       "      <td>Intel HD Graphics 620</td>\n",
       "      <td>Intel Core i5 7200U</td>\n",
       "    </tr>\n",
       "    <tr>\n",
       "      <th>3</th>\n",
       "      <td>Apple</td>\n",
       "      <td>MacBook Pro</td>\n",
       "      <td>Ultrabook</td>\n",
       "      <td>15.4</td>\n",
       "      <td>16</td>\n",
       "      <td>macOS</td>\n",
       "      <td>1.83</td>\n",
       "      <td>2537.45</td>\n",
       "      <td>Standard</td>\n",
       "      <td>2880</td>\n",
       "      <td>...</td>\n",
       "      <td>No</td>\n",
       "      <td>Yes</td>\n",
       "      <td>Yes</td>\n",
       "      <td>2.7</td>\n",
       "      <td>512</td>\n",
       "      <td>0</td>\n",
       "      <td>SSD</td>\n",
       "      <td>No</td>\n",
       "      <td>AMD Radeon Pro 455</td>\n",
       "      <td>Intel Core i7</td>\n",
       "    </tr>\n",
       "    <tr>\n",
       "      <th>4</th>\n",
       "      <td>Apple</td>\n",
       "      <td>MacBook Pro</td>\n",
       "      <td>Ultrabook</td>\n",
       "      <td>13.3</td>\n",
       "      <td>8</td>\n",
       "      <td>macOS</td>\n",
       "      <td>1.37</td>\n",
       "      <td>1803.60</td>\n",
       "      <td>Standard</td>\n",
       "      <td>2560</td>\n",
       "      <td>...</td>\n",
       "      <td>No</td>\n",
       "      <td>Yes</td>\n",
       "      <td>Yes</td>\n",
       "      <td>3.1</td>\n",
       "      <td>256</td>\n",
       "      <td>0</td>\n",
       "      <td>SSD</td>\n",
       "      <td>No</td>\n",
       "      <td>Intel Iris Plus Graphics 650</td>\n",
       "      <td>Intel Core i5</td>\n",
       "    </tr>\n",
       "  </tbody>\n",
       "</table>\n",
       "<p>5 rows × 21 columns</p>\n",
       "</div>"
      ],
      "text/plain": [
       "  Company      Product   TypeName  Inches  Ram     OS  Weight  Price_euros  \\\n",
       "0   Apple  MacBook Pro  Ultrabook    13.3    8  macOS    1.37      1339.69   \n",
       "1   Apple  Macbook Air  Ultrabook    13.3    8  macOS    1.34       898.94   \n",
       "2      HP       250 G6   Notebook    15.6    8  No OS    1.86       575.00   \n",
       "3   Apple  MacBook Pro  Ultrabook    15.4   16  macOS    1.83      2537.45   \n",
       "4   Apple  MacBook Pro  Ultrabook    13.3    8  macOS    1.37      1803.60   \n",
       "\n",
       "     Screen  ScreenW  ...  Touchscreen IPSpanel RetinaDisplay CPU_freq  \\\n",
       "0  Standard     2560  ...           No      Yes           Yes      2.3   \n",
       "1  Standard     1440  ...           No       No            No      1.8   \n",
       "2   Full HD     1920  ...           No       No            No      2.5   \n",
       "3  Standard     2880  ...           No      Yes           Yes      2.7   \n",
       "4  Standard     2560  ...           No      Yes           Yes      3.1   \n",
       "\n",
       "   PrimaryStorage  SecondaryStorage  PrimaryStorageType SecondaryStorageType  \\\n",
       "0             128                 0                 SSD                   No   \n",
       "1             128                 0       Flash Storage                   No   \n",
       "2             256                 0                 SSD                   No   \n",
       "3             512                 0                 SSD                   No   \n",
       "4             256                 0                 SSD                   No   \n",
       "\n",
       "                            GPU                  CPU  \n",
       "0  Intel Iris Plus Graphics 640        Intel Core i5  \n",
       "1        Intel HD Graphics 6000        Intel Core i5  \n",
       "2         Intel HD Graphics 620  Intel Core i5 7200U  \n",
       "3            AMD Radeon Pro 455        Intel Core i7  \n",
       "4  Intel Iris Plus Graphics 650        Intel Core i5  \n",
       "\n",
       "[5 rows x 21 columns]"
      ]
     },
     "execution_count": 179,
     "metadata": {},
     "output_type": "execute_result"
    }
   ],
   "source": [
    "df['CPU'] = df['CPU_company'] + ' ' + df['CPU_model']\n",
    "df.drop(['CPU_company', 'CPU_model'], axis=1, inplace=True)\n",
    "df.head()"
   ]
  },
  {
   "cell_type": "code",
   "execution_count": 180,
   "metadata": {},
   "outputs": [],
   "source": [
    "categorical_columns = df.select_dtypes(include=['object']).columns.tolist()\n",
    "numerical_columns = df.select_dtypes(include=['int64', 'float64']).columns.tolist()"
   ]
  },
  {
   "cell_type": "code",
   "execution_count": 181,
   "metadata": {},
   "outputs": [
    {
     "data": {
      "text/plain": [
       "['Company',\n",
       " 'Product',\n",
       " 'TypeName',\n",
       " 'OS',\n",
       " 'Screen',\n",
       " 'Touchscreen',\n",
       " 'IPSpanel',\n",
       " 'RetinaDisplay',\n",
       " 'PrimaryStorageType',\n",
       " 'SecondaryStorageType',\n",
       " 'GPU',\n",
       " 'CPU']"
      ]
     },
     "execution_count": 181,
     "metadata": {},
     "output_type": "execute_result"
    }
   ],
   "source": [
    "categorical_columns"
   ]
  },
  {
   "cell_type": "code",
   "execution_count": 182,
   "metadata": {},
   "outputs": [
    {
     "data": {
      "text/plain": [
       "['Inches',\n",
       " 'Ram',\n",
       " 'Weight',\n",
       " 'Price_euros',\n",
       " 'ScreenW',\n",
       " 'ScreenH',\n",
       " 'CPU_freq',\n",
       " 'PrimaryStorage',\n",
       " 'SecondaryStorage']"
      ]
     },
     "execution_count": 182,
     "metadata": {},
     "output_type": "execute_result"
    }
   ],
   "source": [
    "numerical_columns"
   ]
  },
  {
   "cell_type": "code",
   "execution_count": 183,
   "metadata": {},
   "outputs": [],
   "source": [
    "\n",
    "\n",
    "numerical_columns.remove('Price_euros')  # Exclude the target column from numerical columns\n",
    "numerical_transformer = StandardScaler()\n"
   ]
  },
  {
   "cell_type": "code",
   "execution_count": 184,
   "metadata": {},
   "outputs": [],
   "source": [
    "from sklearn.preprocessing import FunctionTransformer\n",
    "log_transformer = FunctionTransformer(np.log1p, inverse_func=np.expm1) \n",
    "\n",
    "# Apply the log transformation to the 'Price_euros' column\n",
    "df['Price_euros'] = log_transformer.fit_transform(df[['Price_euros']])"
   ]
  },
  {
   "cell_type": "code",
   "execution_count": 185,
   "metadata": {},
   "outputs": [
    {
     "data": {
      "text/plain": [
       "<Axes: xlabel='Price_euros', ylabel='Count'>"
      ]
     },
     "execution_count": 185,
     "metadata": {},
     "output_type": "execute_result"
    },
    {
     "data": {
      "image/png": "[encoded data removed]",
      "text/plain": [
       "<Figure size 640x480 with 1 Axes>"
      ]
     },
     "metadata": {},
     "output_type": "display_data"
    }
   ],
   "source": [
    "sns.histplot(df['Price_euros'])"
   ]
  },
  {
   "cell_type": "code",
   "execution_count": 186,
   "metadata": {},
   "outputs": [],
   "source": [
    "categorical_transformer = OneHotEncoder(handle_unknown='ignore')\n",
    "preprocessor = ColumnTransformer(\n",
    "    transformers=[\n",
    "        ('num', numerical_transformer, numerical_columns),\n",
    "        ('cat', categorical_transformer, categorical_columns)\n",
    "    ])"
   ]
  },
  {
   "cell_type": "code",
   "execution_count": 187,
   "metadata": {},
   "outputs": [
    {
     "data": {
      "text/html": [
       "<style>#sk-container-id-2 {\n",
       "  /* Definition of color scheme common for light and dark mode */\n",
       "  --sklearn-color-text: black;\n",
       "  --sklearn-color-line: gray;\n",
       "  /* Definition of color scheme for unfitted estimators */\n",
       "  --sklearn-color-unfitted-level-0: #fff5e6;\n",
       "  --sklearn-color-unfitted-level-1: #f6e4d2;\n",
       "  --sklearn-color-unfitted-level-2: #ffe0b3;\n",
       "  --sklearn-color-unfitted-level-3: chocolate;\n",
       "  /* Definition of color scheme for fitted estimators */\n",
       "  --sklearn-color-fitted-level-0: #f0f8ff;\n",
       "  --sklearn-color-fitted-level-1: #d4ebff;\n",
       "  --sklearn-color-fitted-level-2: #b3dbfd;\n",
       "  --sklearn-color-fitted-level-3: cornflowerblue;\n",
       "\n",
       "  /* Specific color for light theme */\n",
       "  --sklearn-color-text-on-default-background: var(--sg-text-color, var(--theme-code-foreground, var(--jp-content-font-color1, black)));\n",
       "  --sklearn-color-background: var(--sg-background-color, var(--theme-background, var(--jp-layout-color0, white)));\n",
       "  --sklearn-color-border-box: var(--sg-text-color, var(--theme-code-foreground, var(--jp-content-font-color1, black)));\n",
       "  --sklearn-color-icon: #696969;\n",
       "\n",
       "  @media (prefers-color-scheme: dark) {\n",
       "    /* Redefinition of color scheme for dark theme */\n",
       "    --sklearn-color-text-on-default-background: var(--sg-text-color, var(--theme-code-foreground, var(--jp-content-font-color1, white)));\n",
       "    --sklearn-color-background: var(--sg-background-color, var(--theme-background, var(--jp-layout-color0, #111)));\n",
       "    --sklearn-color-border-box: var(--sg-text-color, var(--theme-code-foreground, var(--jp-content-font-color1, white)));\n",
       "    --sklearn-color-icon: #878787;\n",
       "  }\n",
       "}\n",
       "\n",
       "#sk-container-id-2 {\n",
       "  color: var(--sklearn-color-text);\n",
       "}\n",
       "\n",
       "#sk-container-id-2 pre {\n",
       "  padding: 0;\n",
       "}\n",
       "\n",
       "#sk-container-id-2 input.sk-hidden--visually {\n",
       "  border: 0;\n",
       "  clip: rect(1px 1px 1px 1px);\n",
       "  clip: rect(1px, 1px, 1px, 1px);\n",
       "  height: 1px;\n",
       "  margin: -1px;\n",
       "  overflow: hidden;\n",
       "  padding: 0;\n",
       "  position: absolute;\n",
       "  width: 1px;\n",
       "}\n",
       "\n",
       "#sk-container-id-2 div.sk-dashed-wrapped {\n",
       "  border: 1px dashed var(--sklearn-color-line);\n",
       "  margin: 0 0.4em 0.5em 0.4em;\n",
       "  box-sizing: border-box;\n",
       "  padding-bottom: 0.4em;\n",
       "  background-color: var(--sklearn-color-background);\n",
       "}\n",
       "\n",
       "#sk-container-id-2 div.sk-container {\n",
       "  /* jupyter's `normalize.less` sets `[hidden] { display: none; }`\n",
       "     but bootstrap.min.css set `[hidden] { display: none !important; }`\n",
       "     so we also need the `!important` here to be able to override the\n",
       "     default hidden behavior on the sphinx rendered scikit-learn.org.\n",
       "     See: https://github.com/scikit-learn/scikit-learn/issues/21755 */\n",
       "  display: inline-block !important;\n",
       "  position: relative;\n",
       "}\n",
       "\n",
       "#sk-container-id-2 div.sk-text-repr-fallback {\n",
       "  display: none;\n",
       "}\n",
       "\n",
       "div.sk-parallel-item,\n",
       "div.sk-serial,\n",
       "div.sk-item {\n",
       "  /* draw centered vertical line to link estimators */\n",
       "  background-image: linear-gradient(var(--sklearn-color-text-on-default-background), var(--sklearn-color-text-on-default-background));\n",
       "  background-size: 2px 100%;\n",
       "  background-repeat: no-repeat;\n",
       "  background-position: center center;\n",
       "}\n",
       "\n",
       "/* Parallel-specific style estimator block */\n",
       "\n",
       "#sk-container-id-2 div.sk-parallel-item::after {\n",
       "  content: \"\";\n",
       "  width: 100%;\n",
       "  border-bottom: 2px solid var(--sklearn-color-text-on-default-background);\n",
       "  flex-grow: 1;\n",
       "}\n",
       "\n",
       "#sk-container-id-2 div.sk-parallel {\n",
       "  display: flex;\n",
       "  align-items: stretch;\n",
       "  justify-content: center;\n",
       "  background-color: var(--sklearn-color-background);\n",
       "  position: relative;\n",
       "}\n",
       "\n",
       "#sk-container-id-2 div.sk-parallel-item {\n",
       "  display: flex;\n",
       "  flex-direction: column;\n",
       "}\n",
       "\n",
       "#sk-container-id-2 div.sk-parallel-item:first-child::after {\n",
       "  align-self: flex-end;\n",
       "  width: 50%;\n",
       "}\n",
       "\n",
       "#sk-container-id-2 div.sk-parallel-item:last-child::after {\n",
       "  align-self: flex-start;\n",
       "  width: 50%;\n",
       "}\n",
       "\n",
       "#sk-container-id-2 div.sk-parallel-item:only-child::after {\n",
       "  width: 0;\n",
       "}\n",
       "\n",
       "/* Serial-specific style estimator block */\n",
       "\n",
       "#sk-container-id-2 div.sk-serial {\n",
       "  display: flex;\n",
       "  flex-direction: column;\n",
       "  align-items: center;\n",
       "  background-color: var(--sklearn-color-background);\n",
       "  padding-right: 1em;\n",
       "  padding-left: 1em;\n",
       "}\n",
       "\n",
       "\n",
       "/* Toggleable style: style used for estimator/Pipeline/ColumnTransformer box that is\n",
       "clickable and can be expanded/collapsed.\n",
       "- Pipeline and ColumnTransformer use this feature and define the default style\n",
       "- Estimators will overwrite some part of the style using the `sk-estimator` class\n",
       "*/\n",
       "\n",
       "/* Pipeline and ColumnTransformer style (default) */\n",
       "\n",
       "#sk-container-id-2 div.sk-toggleable {\n",
       "  /* Default theme specific background. It is overwritten whether we have a\n",
       "  specific estimator or a Pipeline/ColumnTransformer */\n",
       "  background-color: var(--sklearn-color-background);\n",
       "}\n",
       "\n",
       "/* Toggleable label */\n",
       "#sk-container-id-2 label.sk-toggleable__label {\n",
       "  cursor: pointer;\n",
       "  display: block;\n",
       "  width: 100%;\n",
       "  margin-bottom: 0;\n",
       "  padding: 0.5em;\n",
       "  box-sizing: border-box;\n",
       "  text-align: center;\n",
       "}\n",
       "\n",
       "#sk-container-id-2 label.sk-toggleable__label-arrow:before {\n",
       "  /* Arrow on the left of the label */\n",
       "  content: \"▸\";\n",
       "  float: left;\n",
       "  margin-right: 0.25em;\n",
       "  color: var(--sklearn-color-icon);\n",
       "}\n",
       "\n",
       "#sk-container-id-2 label.sk-toggleable__label-arrow:hover:before {\n",
       "  color: var(--sklearn-color-text);\n",
       "}\n",
       "\n",
       "/* Toggleable content - dropdown */\n",
       "\n",
       "#sk-container-id-2 div.sk-toggleable__content {\n",
       "  max-height: 0;\n",
       "  max-width: 0;\n",
       "  overflow: hidden;\n",
       "  text-align: left;\n",
       "  /* unfitted */\n",
       "  background-color: var(--sklearn-color-unfitted-level-0);\n",
       "}\n",
       "\n",
       "#sk-container-id-2 div.sk-toggleable__content.fitted {\n",
       "  /* fitted */\n",
       "  background-color: var(--sklearn-color-fitted-level-0);\n",
       "}\n",
       "\n",
       "#sk-container-id-2 div.sk-toggleable__content pre {\n",
       "  margin: 0.2em;\n",
       "  border-radius: 0.25em;\n",
       "  color: var(--sklearn-color-text);\n",
       "  /* unfitted */\n",
       "  background-color: var(--sklearn-color-unfitted-level-0);\n",
       "}\n",
       "\n",
       "#sk-container-id-2 div.sk-toggleable__content.fitted pre {\n",
       "  /* unfitted */\n",
       "  background-color: var(--sklearn-color-fitted-level-0);\n",
       "}\n",
       "\n",
       "#sk-container-id-2 input.sk-toggleable__control:checked~div.sk-toggleable__content {\n",
       "  /* Expand drop-down */\n",
       "  max-height: 200px;\n",
       "  max-width: 100%;\n",
       "  overflow: auto;\n",
       "}\n",
       "\n",
       "#sk-container-id-2 input.sk-toggleable__control:checked~label.sk-toggleable__label-arrow:before {\n",
       "  content: \"▾\";\n",
       "}\n",
       "\n",
       "/* Pipeline/ColumnTransformer-specific style */\n",
       "\n",
       "#sk-container-id-2 div.sk-label input.sk-toggleable__control:checked~label.sk-toggleable__label {\n",
       "  color: var(--sklearn-color-text);\n",
       "  background-color: var(--sklearn-color-unfitted-level-2);\n",
       "}\n",
       "\n",
       "#sk-container-id-2 div.sk-label.fitted input.sk-toggleable__control:checked~label.sk-toggleable__label {\n",
       "  background-color: var(--sklearn-color-fitted-level-2);\n",
       "}\n",
       "\n",
       "/* Estimator-specific style */\n",
       "\n",
       "/* Colorize estimator box */\n",
       "#sk-container-id-2 div.sk-estimator input.sk-toggleable__control:checked~label.sk-toggleable__label {\n",
       "  /* unfitted */\n",
       "  background-color: var(--sklearn-color-unfitted-level-2);\n",
       "}\n",
       "\n",
       "#sk-container-id-2 div.sk-estimator.fitted input.sk-toggleable__control:checked~label.sk-toggleable__label {\n",
       "  /* fitted */\n",
       "  background-color: var(--sklearn-color-fitted-level-2);\n",
       "}\n",
       "\n",
       "#sk-container-id-2 div.sk-label label.sk-toggleable__label,\n",
       "#sk-container-id-2 div.sk-label label {\n",
       "  /* The background is the default theme color */\n",
       "  color: var(--sklearn-color-text-on-default-background);\n",
       "}\n",
       "\n",
       "/* On hover, darken the color of the background */\n",
       "#sk-container-id-2 div.sk-label:hover label.sk-toggleable__label {\n",
       "  color: var(--sklearn-color-text);\n",
       "  background-color: var(--sklearn-color-unfitted-level-2);\n",
       "}\n",
       "\n",
       "/* Label box, darken color on hover, fitted */\n",
       "#sk-container-id-2 div.sk-label.fitted:hover label.sk-toggleable__label.fitted {\n",
       "  color: var(--sklearn-color-text);\n",
       "  background-color: var(--sklearn-color-fitted-level-2);\n",
       "}\n",
       "\n",
       "/* Estimator label */\n",
       "\n",
       "#sk-container-id-2 div.sk-label label {\n",
       "  font-family: monospace;\n",
       "  font-weight: bold;\n",
       "  display: inline-block;\n",
       "  line-height: 1.2em;\n",
       "}\n",
       "\n",
       "#sk-container-id-2 div.sk-label-container {\n",
       "  text-align: center;\n",
       "}\n",
       "\n",
       "/* Estimator-specific */\n",
       "#sk-container-id-2 div.sk-estimator {\n",
       "  font-family: monospace;\n",
       "  border: 1px dotted var(--sklearn-color-border-box);\n",
       "  border-radius: 0.25em;\n",
       "  box-sizing: border-box;\n",
       "  margin-bottom: 0.5em;\n",
       "  /* unfitted */\n",
       "  background-color: var(--sklearn-color-unfitted-level-0);\n",
       "}\n",
       "\n",
       "#sk-container-id-2 div.sk-estimator.fitted {\n",
       "  /* fitted */\n",
       "  background-color: var(--sklearn-color-fitted-level-0);\n",
       "}\n",
       "\n",
       "/* on hover */\n",
       "#sk-container-id-2 div.sk-estimator:hover {\n",
       "  /* unfitted */\n",
       "  background-color: var(--sklearn-color-unfitted-level-2);\n",
       "}\n",
       "\n",
       "#sk-container-id-2 div.sk-estimator.fitted:hover {\n",
       "  /* fitted */\n",
       "  background-color: var(--sklearn-color-fitted-level-2);\n",
       "}\n",
       "\n",
       "/* Specification for estimator info (e.g. \"i\" and \"?\") */\n",
       "\n",
       "/* Common style for \"i\" and \"?\" */\n",
       "\n",
       ".sk-estimator-doc-link,\n",
       "a:link.sk-estimator-doc-link,\n",
       "a:visited.sk-estimator-doc-link {\n",
       "  float: right;\n",
       "  font-size: smaller;\n",
       "  line-height: 1em;\n",
       "  font-family: monospace;\n",
       "  background-color: var(--sklearn-color-background);\n",
       "  border-radius: 1em;\n",
       "  height: 1em;\n",
       "  width: 1em;\n",
       "  text-decoration: none !important;\n",
       "  margin-left: 1ex;\n",
       "  /* unfitted */\n",
       "  border: var(--sklearn-color-unfitted-level-1) 1pt solid;\n",
       "  color: var(--sklearn-color-unfitted-level-1);\n",
       "}\n",
       "\n",
       ".sk-estimator-doc-link.fitted,\n",
       "a:link.sk-estimator-doc-link.fitted,\n",
       "a:visited.sk-estimator-doc-link.fitted {\n",
       "  /* fitted */\n",
       "  border: var(--sklearn-color-fitted-level-1) 1pt solid;\n",
       "  color: var(--sklearn-color-fitted-level-1);\n",
       "}\n",
       "\n",
       "/* On hover */\n",
       "div.sk-estimator:hover .sk-estimator-doc-link:hover,\n",
       ".sk-estimator-doc-link:hover,\n",
       "div.sk-label-container:hover .sk-estimator-doc-link:hover,\n",
       ".sk-estimator-doc-link:hover {\n",
       "  /* unfitted */\n",
       "  background-color: var(--sklearn-color-unfitted-level-3);\n",
       "  color: var(--sklearn-color-background);\n",
       "  text-decoration: none;\n",
       "}\n",
       "\n",
       "div.sk-estimator.fitted:hover .sk-estimator-doc-link.fitted:hover,\n",
       ".sk-estimator-doc-link.fitted:hover,\n",
       "div.sk-label-container:hover .sk-estimator-doc-link.fitted:hover,\n",
       ".sk-estimator-doc-link.fitted:hover {\n",
       "  /* fitted */\n",
       "  background-color: var(--sklearn-color-fitted-level-3);\n",
       "  color: var(--sklearn-color-background);\n",
       "  text-decoration: none;\n",
       "}\n",
       "\n",
       "/* Span, style for the box shown on hovering the info icon */\n",
       ".sk-estimator-doc-link span {\n",
       "  display: none;\n",
       "  z-index: 9999;\n",
       "  position: relative;\n",
       "  font-weight: normal;\n",
       "  right: .2ex;\n",
       "  padding: .5ex;\n",
       "  margin: .5ex;\n",
       "  width: min-content;\n",
       "  min-width: 20ex;\n",
       "  max-width: 50ex;\n",
       "  color: var(--sklearn-color-text);\n",
       "  box-shadow: 2pt 2pt 4pt #999;\n",
       "  /* unfitted */\n",
       "  background: var(--sklearn-color-unfitted-level-0);\n",
       "  border: .5pt solid var(--sklearn-color-unfitted-level-3);\n",
       "}\n",
       "\n",
       ".sk-estimator-doc-link.fitted span {\n",
       "  /* fitted */\n",
       "  background: var(--sklearn-color-fitted-level-0);\n",
       "  border: var(--sklearn-color-fitted-level-3);\n",
       "}\n",
       "\n",
       ".sk-estimator-doc-link:hover span {\n",
       "  display: block;\n",
       "}\n",
       "\n",
       "/* \"?\"-specific style due to the `<a>` HTML tag */\n",
       "\n",
       "#sk-container-id-2 a.estimator_doc_link {\n",
       "  float: right;\n",
       "  font-size: 1rem;\n",
       "  line-height: 1em;\n",
       "  font-family: monospace;\n",
       "  background-color: var(--sklearn-color-background);\n",
       "  border-radius: 1rem;\n",
       "  height: 1rem;\n",
       "  width: 1rem;\n",
       "  text-decoration: none;\n",
       "  /* unfitted */\n",
       "  color: var(--sklearn-color-unfitted-level-1);\n",
       "  border: var(--sklearn-color-unfitted-level-1) 1pt solid;\n",
       "}\n",
       "\n",
       "#sk-container-id-2 a.estimator_doc_link.fitted {\n",
       "  /* fitted */\n",
       "  border: var(--sklearn-color-fitted-level-1) 1pt solid;\n",
       "  color: var(--sklearn-color-fitted-level-1);\n",
       "}\n",
       "\n",
       "/* On hover */\n",
       "#sk-container-id-2 a.estimator_doc_link:hover {\n",
       "  /* unfitted */\n",
       "  background-color: var(--sklearn-color-unfitted-level-3);\n",
       "  color: var(--sklearn-color-background);\n",
       "  text-decoration: none;\n",
       "}\n",
       "\n",
       "#sk-container-id-2 a.estimator_doc_link.fitted:hover {\n",
       "  /* fitted */\n",
       "  background-color: var(--sklearn-color-fitted-level-3);\n",
       "}\n",
       "</style><div id=\"sk-container-id-2\" class=\"sk-top-container\"><div class=\"sk-text-repr-fallback\"><pre>ColumnTransformer(transformers=[(&#x27;num&#x27;, StandardScaler(),\n",
       "                                 [&#x27;Inches&#x27;, &#x27;Ram&#x27;, &#x27;Weight&#x27;, &#x27;ScreenW&#x27;,\n",
       "                                  &#x27;ScreenH&#x27;, &#x27;CPU_freq&#x27;, &#x27;PrimaryStorage&#x27;,\n",
       "                                  &#x27;SecondaryStorage&#x27;]),\n",
       "                                (&#x27;cat&#x27;, OneHotEncoder(handle_unknown=&#x27;ignore&#x27;),\n",
       "                                 [&#x27;Company&#x27;, &#x27;Product&#x27;, &#x27;TypeName&#x27;, &#x27;OS&#x27;,\n",
       "                                  &#x27;Screen&#x27;, &#x27;Touchscreen&#x27;, &#x27;IPSpanel&#x27;,\n",
       "                                  &#x27;RetinaDisplay&#x27;, &#x27;PrimaryStorageType&#x27;,\n",
       "                                  &#x27;SecondaryStorageType&#x27;, &#x27;GPU&#x27;, &#x27;CPU&#x27;])])</pre><b>In a Jupyter environment, please rerun this cell to show the HTML representation or trust the notebook. <br />On GitHub, the HTML representation is unable to render, please try loading this page with nbviewer.org.</b></div><div class=\"sk-container\" hidden><div class=\"sk-item sk-dashed-wrapped\"><div class=\"sk-label-container\"><div class=\"sk-label fitted sk-toggleable\"><input class=\"sk-toggleable__control sk-hidden--visually\" id=\"sk-estimator-id-6\" type=\"checkbox\" ><label for=\"sk-estimator-id-6\" class=\"sk-toggleable__label fitted sk-toggleable__label-arrow fitted\">&nbsp;&nbsp;ColumnTransformer<a class=\"sk-estimator-doc-link fitted\" rel=\"noreferrer\" target=\"_blank\" href=\"https://scikit-learn.org/1.4/modules/generated/sklearn.compose.ColumnTransformer.html\">?<span>Documentation for ColumnTransformer</span></a><span class=\"sk-estimator-doc-link fitted\">i<span>Fitted</span></span></label><div class=\"sk-toggleable__content fitted\"><pre>ColumnTransformer(transformers=[(&#x27;num&#x27;, StandardScaler(),\n",
       "                                 [&#x27;Inches&#x27;, &#x27;Ram&#x27;, &#x27;Weight&#x27;, &#x27;ScreenW&#x27;,\n",
       "                                  &#x27;ScreenH&#x27;, &#x27;CPU_freq&#x27;, &#x27;PrimaryStorage&#x27;,\n",
       "                                  &#x27;SecondaryStorage&#x27;]),\n",
       "                                (&#x27;cat&#x27;, OneHotEncoder(handle_unknown=&#x27;ignore&#x27;),\n",
       "                                 [&#x27;Company&#x27;, &#x27;Product&#x27;, &#x27;TypeName&#x27;, &#x27;OS&#x27;,\n",
       "                                  &#x27;Screen&#x27;, &#x27;Touchscreen&#x27;, &#x27;IPSpanel&#x27;,\n",
       "                                  &#x27;RetinaDisplay&#x27;, &#x27;PrimaryStorageType&#x27;,\n",
       "                                  &#x27;SecondaryStorageType&#x27;, &#x27;GPU&#x27;, &#x27;CPU&#x27;])])</pre></div> </div></div><div class=\"sk-parallel\"><div class=\"sk-parallel-item\"><div class=\"sk-item\"><div class=\"sk-label-container\"><div class=\"sk-label fitted sk-toggleable\"><input class=\"sk-toggleable__control sk-hidden--visually\" id=\"sk-estimator-id-7\" type=\"checkbox\" ><label for=\"sk-estimator-id-7\" class=\"sk-toggleable__label fitted sk-toggleable__label-arrow fitted\">num</label><div class=\"sk-toggleable__content fitted\"><pre>[&#x27;Inches&#x27;, &#x27;Ram&#x27;, &#x27;Weight&#x27;, &#x27;ScreenW&#x27;, &#x27;ScreenH&#x27;, &#x27;CPU_freq&#x27;, &#x27;PrimaryStorage&#x27;, &#x27;SecondaryStorage&#x27;]</pre></div> </div></div><div class=\"sk-serial\"><div class=\"sk-item\"><div class=\"sk-estimator fitted sk-toggleable\"><input class=\"sk-toggleable__control sk-hidden--visually\" id=\"sk-estimator-id-8\" type=\"checkbox\" ><label for=\"sk-estimator-id-8\" class=\"sk-toggleable__label fitted sk-toggleable__label-arrow fitted\">&nbsp;StandardScaler<a class=\"sk-estimator-doc-link fitted\" rel=\"noreferrer\" target=\"_blank\" href=\"https://scikit-learn.org/1.4/modules/generated/sklearn.preprocessing.StandardScaler.html\">?<span>Documentation for StandardScaler</span></a></label><div class=\"sk-toggleable__content fitted\"><pre>StandardScaler()</pre></div> </div></div></div></div></div><div class=\"sk-parallel-item\"><div class=\"sk-item\"><div class=\"sk-label-container\"><div class=\"sk-label fitted sk-toggleable\"><input class=\"sk-toggleable__control sk-hidden--visually\" id=\"sk-estimator-id-9\" type=\"checkbox\" ><label for=\"sk-estimator-id-9\" class=\"sk-toggleable__label fitted sk-toggleable__label-arrow fitted\">cat</label><div class=\"sk-toggleable__content fitted\"><pre>[&#x27;Company&#x27;, &#x27;Product&#x27;, &#x27;TypeName&#x27;, &#x27;OS&#x27;, &#x27;Screen&#x27;, &#x27;Touchscreen&#x27;, &#x27;IPSpanel&#x27;, &#x27;RetinaDisplay&#x27;, &#x27;PrimaryStorageType&#x27;, &#x27;SecondaryStorageType&#x27;, &#x27;GPU&#x27;, &#x27;CPU&#x27;]</pre></div> </div></div><div class=\"sk-serial\"><div class=\"sk-item\"><div class=\"sk-estimator fitted sk-toggleable\"><input class=\"sk-toggleable__control sk-hidden--visually\" id=\"sk-estimator-id-10\" type=\"checkbox\" ><label for=\"sk-estimator-id-10\" class=\"sk-toggleable__label fitted sk-toggleable__label-arrow fitted\">&nbsp;OneHotEncoder<a class=\"sk-estimator-doc-link fitted\" rel=\"noreferrer\" target=\"_blank\" href=\"https://scikit-learn.org/1.4/modules/generated/sklearn.preprocessing.OneHotEncoder.html\">?<span>Documentation for OneHotEncoder</span></a></label><div class=\"sk-toggleable__content fitted\"><pre>OneHotEncoder(handle_unknown=&#x27;ignore&#x27;)</pre></div> </div></div></div></div></div></div></div></div></div>"
      ],
      "text/plain": [
       "ColumnTransformer(transformers=[('num', StandardScaler(),\n",
       "                                 ['Inches', 'Ram', 'Weight', 'ScreenW',\n",
       "                                  'ScreenH', 'CPU_freq', 'PrimaryStorage',\n",
       "                                  'SecondaryStorage']),\n",
       "                                ('cat', OneHotEncoder(handle_unknown='ignore'),\n",
       "                                 ['Company', 'Product', 'TypeName', 'OS',\n",
       "                                  'Screen', 'Touchscreen', 'IPSpanel',\n",
       "                                  'RetinaDisplay', 'PrimaryStorageType',\n",
       "                                  'SecondaryStorageType', 'GPU', 'CPU'])])"
      ]
     },
     "execution_count": 187,
     "metadata": {},
     "output_type": "execute_result"
    }
   ],
   "source": [
    "X = df.drop(columns=[ 'Price_euros']) \n",
    "y = df['Price_euros']\n",
    "X_train, X_test, y_train, y_test = train_test_split(X, y, test_size=0.2, random_state=42)\n",
    "\n",
    "preprocessor.fit(X_train)"
   ]
  },
  {
   "cell_type": "code",
   "execution_count": 188,
   "metadata": {},
   "outputs": [
    {
     "data": {
      "text/plain": [
       "['preprocessor.pkl']"
      ]
     },
     "execution_count": 188,
     "metadata": {},
     "output_type": "execute_result"
    }
   ],
   "source": [
    "import joblib\n",
    "joblib.dump(preprocessor, 'preprocessor.pkl')"
   ]
  },
  {
   "cell_type": "code",
   "execution_count": 189,
   "metadata": {},
   "outputs": [
    {
     "name": "stdout",
     "output_type": "stream",
     "text": [
      "Linear Regression R^2 score: 0.836268361075194\n",
      "Random Forest R^2 score: 0.8883959351909423\n",
      "XGBoost R^2 score: 0.9068339303821735\n",
      "SVR R^2 score: 0.8940232277228948\n",
      "Best model: XGBoost with R^2 score: 0.9068339303821735\n"
     ]
    }
   ],
   "source": [
    "# Train and save multiple models\n",
    "models = {\n",
    "    \"Linear Regression\": LinearRegression(),\n",
    "    \"Random Forest\": RandomForestRegressor(n_estimators=100, max_depth=100, random_state=42),\n",
    "    \"XGBoost\": XGBRegressor(n_estimators=100, random_state=42),\n",
    "    \"SVR\": SVR()\n",
    "}\n",
    "\n",
    "best_model = None\n",
    "best_score = float('-inf')\n",
    "best_model_name = \"\"\n",
    "\n",
    "for name, model in models.items():\n",
    "    model.fit(preprocessor.transform(X_train), y_train)\n",
    "    y_pred = model.predict(preprocessor.transform(X_test))\n",
    "    r2 = r2_score(y_test, y_pred)\n",
    "    print(f\"{name} R^2 score: {r2}\")\n",
    "    if r2 > best_score:\n",
    "        best_score = r2\n",
    "        best_model = model\n",
    "        best_model_name = name\n",
    "\n",
    "# Save the best model\n",
    "joblib.dump(best_model, 'best_model.pkl')\n",
    "\n",
    "print(f\"Best model: {best_model_name} with R^2 score: {best_score}\")"
   ]
  },
  {
   "cell_type": "code",
   "execution_count": 190,
   "metadata": {},
   "outputs": [
    {
     "name": "stdout",
     "output_type": "stream",
     "text": [
      "Linear Regression R^2 score: 0.836268361075194\n",
      "Random Forest R^2 score: 0.8899405016242219\n",
      "XGBoost R^2 score: 0.9030218484784958\n",
      "SVR R^2 score: 0.9002046532445696\n",
      "Best model: XGBoost with R^2 score: 0.9030218484784958\n"
     ]
    }
   ],
   "source": [
    "from sklearn.model_selection import RandomizedSearchCV\n",
    "\n",
    "# Define the models and hyperparameter grids\n",
    "models = {\n",
    "    \"Linear Regression\": (LinearRegression(), {}),\n",
    "    \"Random Forest\": (RandomForestRegressor(random_state=42), {\n",
    "        'n_estimators': [50, 100, 200],\n",
    "        'max_depth': [None, 10, 20, 30, 40, 50]\n",
    "    }),\n",
    "    \"XGBoost\": (XGBRegressor(random_state=42), {\n",
    "        'n_estimators': [50, 100, 200],\n",
    "        'max_depth': [3, 4, 5, 6, 7],\n",
    "        'learning_rate': [0.01, 0.1, 0.2, 0.3]\n",
    "    }),\n",
    "    \"SVR\": (SVR(), {\n",
    "        'kernel': ['linear', 'rbf'],\n",
    "        'C': [0.1, 1, 10, 100],\n",
    "        'gamma': ['scale', 'auto']\n",
    "    })\n",
    "}\n",
    "\n",
    "best_model = None\n",
    "best_score = float('-inf')\n",
    "best_model_name = \"\"\n",
    "\n",
    "for name, (model, param_grid) in models.items():\n",
    "    if param_grid:\n",
    "        search = RandomizedSearchCV(model, param_grid, n_iter=10, cv=5, scoring='r2', random_state=42, n_jobs=-1)\n",
    "        search.fit(preprocessor.transform(X_train), y_train)\n",
    "        best_model_for_name = search.best_estimator_\n",
    "    else:\n",
    "        best_model_for_name = model\n",
    "        best_model_for_name.fit(preprocessor.transform(X_train), y_train)\n",
    "    \n",
    "    y_pred = best_model_for_name.predict(preprocessor.transform(X_test))\n",
    "    r2 = r2_score(y_test, y_pred)\n",
    "    print(f\"{name} R^2 score: {r2}\")\n",
    "    if r2 > best_score:\n",
    "        best_score = r2\n",
    "        best_model = best_model_for_name\n",
    "        best_model_name = name\n",
    "\n",
    "# Save the best model and its name\n",
    "joblib.dump(best_model, 'hypertuned_best_model.pkl')\n",
    "\n",
    "print(f\"Best model: {best_model_name} with R^2 score: {best_score}\")"
   ]
  }
 ],
 "metadata": {
  "kernelspec": {
   "display_name": "base",
   "language": "python",
   "name": "python3"
  },
  "language_info": {
   "codemirror_mode": {
    "name": "ipython",
    "version": 3
   },
   "file_extension": ".py",
   "mimetype": "text/x-python",
   "name": "python",
   "nbconvert_exporter": "python",
   "pygments_lexer": "ipython3",
   "version": "3.12.7"
  }
 },
 "nbformat": 4,
 "nbformat_minor": 2
}
